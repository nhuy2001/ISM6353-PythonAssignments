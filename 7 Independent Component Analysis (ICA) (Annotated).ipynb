{
 "cells": [
  {
   "cell_type": "markdown",
   "metadata": {},
   "source": [
    "#  Independent Component Analysis (ICA)\n",
    "\n",
    "We will use the MNIST (Modified National Institute of Standards and Technology) database (http://yann.lecun.com/exdb/mnist/) of handwritten digits. It is a subset of a larger set available from NIST. \n",
    "\n",
    "Each digit has 64 pixels (8 by 8). Each pixel can be used as a predictor variable, and the number written can be used as the target variable.\n"
   ]
  },
  {
   "cell_type": "markdown",
   "metadata": {},
   "source": [
    "## Import libraries"
   ]
  },
  {
   "cell_type": "code",
   "execution_count": 1,
   "metadata": {},
   "outputs": [],
   "source": [
    "import pandas as pd \n",
    "import numpy as np\n",
    "import matplotlib.pyplot as plt\n",
    "import seaborn as sns\n",
    "from scipy.stats import norm, kurtosis # to install scipy, search 'scipy anaconda'\n",
    "from sklearn.decomposition import FastICA\n",
    "from sklearn.linear_model import LogisticRegression\n",
    "from sklearn.model_selection import train_test_split\n",
    "from sklearn.metrics import *\n",
    "%matplotlib inline\n"
   ]
  },
  {
   "cell_type": "markdown",
   "metadata": {},
   "source": [
    "## Load the data\n",
    "\n"
   ]
  },
  {
   "cell_type": "code",
   "execution_count": 2,
   "metadata": {},
   "outputs": [
    {
     "data": {
      "text/plain": [
       "(1797, 64)"
      ]
     },
     "execution_count": 2,
     "metadata": {},
     "output_type": "execute_result"
    }
   ],
   "source": [
    "from sklearn.datasets import load_digits # built-in data\n",
    "digits = load_digits()\n",
    "digits.data.shape # show the dimension "
   ]
  },
  {
   "cell_type": "code",
   "execution_count": 3,
   "metadata": {},
   "outputs": [
    {
     "data": {
      "text/html": [
       "<div>\n",
       "<style scoped>\n",
       "    .dataframe tbody tr th:only-of-type {\n",
       "        vertical-align: middle;\n",
       "    }\n",
       "\n",
       "    .dataframe tbody tr th {\n",
       "        vertical-align: top;\n",
       "    }\n",
       "\n",
       "    .dataframe thead th {\n",
       "        text-align: right;\n",
       "    }\n",
       "</style>\n",
       "<table border=\"1\" class=\"dataframe\">\n",
       "  <thead>\n",
       "    <tr style=\"text-align: right;\">\n",
       "      <th></th>\n",
       "      <th>label</th>\n",
       "      <th>0</th>\n",
       "      <th>1</th>\n",
       "      <th>2</th>\n",
       "      <th>3</th>\n",
       "      <th>4</th>\n",
       "      <th>5</th>\n",
       "      <th>6</th>\n",
       "      <th>7</th>\n",
       "      <th>8</th>\n",
       "      <th>...</th>\n",
       "      <th>54</th>\n",
       "      <th>55</th>\n",
       "      <th>56</th>\n",
       "      <th>57</th>\n",
       "      <th>58</th>\n",
       "      <th>59</th>\n",
       "      <th>60</th>\n",
       "      <th>61</th>\n",
       "      <th>62</th>\n",
       "      <th>63</th>\n",
       "    </tr>\n",
       "  </thead>\n",
       "  <tbody>\n",
       "    <tr>\n",
       "      <th>0</th>\n",
       "      <td>0</td>\n",
       "      <td>0.0</td>\n",
       "      <td>0.0</td>\n",
       "      <td>5.0</td>\n",
       "      <td>13.0</td>\n",
       "      <td>9.0</td>\n",
       "      <td>1.0</td>\n",
       "      <td>0.0</td>\n",
       "      <td>0.0</td>\n",
       "      <td>0.0</td>\n",
       "      <td>...</td>\n",
       "      <td>0.0</td>\n",
       "      <td>0.0</td>\n",
       "      <td>0.0</td>\n",
       "      <td>0.0</td>\n",
       "      <td>6.0</td>\n",
       "      <td>13.0</td>\n",
       "      <td>10.0</td>\n",
       "      <td>0.0</td>\n",
       "      <td>0.0</td>\n",
       "      <td>0.0</td>\n",
       "    </tr>\n",
       "    <tr>\n",
       "      <th>1</th>\n",
       "      <td>1</td>\n",
       "      <td>0.0</td>\n",
       "      <td>0.0</td>\n",
       "      <td>0.0</td>\n",
       "      <td>12.0</td>\n",
       "      <td>13.0</td>\n",
       "      <td>5.0</td>\n",
       "      <td>0.0</td>\n",
       "      <td>0.0</td>\n",
       "      <td>0.0</td>\n",
       "      <td>...</td>\n",
       "      <td>0.0</td>\n",
       "      <td>0.0</td>\n",
       "      <td>0.0</td>\n",
       "      <td>0.0</td>\n",
       "      <td>0.0</td>\n",
       "      <td>11.0</td>\n",
       "      <td>16.0</td>\n",
       "      <td>10.0</td>\n",
       "      <td>0.0</td>\n",
       "      <td>0.0</td>\n",
       "    </tr>\n",
       "    <tr>\n",
       "      <th>2</th>\n",
       "      <td>2</td>\n",
       "      <td>0.0</td>\n",
       "      <td>0.0</td>\n",
       "      <td>0.0</td>\n",
       "      <td>4.0</td>\n",
       "      <td>15.0</td>\n",
       "      <td>12.0</td>\n",
       "      <td>0.0</td>\n",
       "      <td>0.0</td>\n",
       "      <td>0.0</td>\n",
       "      <td>...</td>\n",
       "      <td>5.0</td>\n",
       "      <td>0.0</td>\n",
       "      <td>0.0</td>\n",
       "      <td>0.0</td>\n",
       "      <td>0.0</td>\n",
       "      <td>3.0</td>\n",
       "      <td>11.0</td>\n",
       "      <td>16.0</td>\n",
       "      <td>9.0</td>\n",
       "      <td>0.0</td>\n",
       "    </tr>\n",
       "    <tr>\n",
       "      <th>3</th>\n",
       "      <td>3</td>\n",
       "      <td>0.0</td>\n",
       "      <td>0.0</td>\n",
       "      <td>7.0</td>\n",
       "      <td>15.0</td>\n",
       "      <td>13.0</td>\n",
       "      <td>1.0</td>\n",
       "      <td>0.0</td>\n",
       "      <td>0.0</td>\n",
       "      <td>0.0</td>\n",
       "      <td>...</td>\n",
       "      <td>9.0</td>\n",
       "      <td>0.0</td>\n",
       "      <td>0.0</td>\n",
       "      <td>0.0</td>\n",
       "      <td>7.0</td>\n",
       "      <td>13.0</td>\n",
       "      <td>13.0</td>\n",
       "      <td>9.0</td>\n",
       "      <td>0.0</td>\n",
       "      <td>0.0</td>\n",
       "    </tr>\n",
       "    <tr>\n",
       "      <th>4</th>\n",
       "      <td>4</td>\n",
       "      <td>0.0</td>\n",
       "      <td>0.0</td>\n",
       "      <td>0.0</td>\n",
       "      <td>1.0</td>\n",
       "      <td>11.0</td>\n",
       "      <td>0.0</td>\n",
       "      <td>0.0</td>\n",
       "      <td>0.0</td>\n",
       "      <td>0.0</td>\n",
       "      <td>...</td>\n",
       "      <td>0.0</td>\n",
       "      <td>0.0</td>\n",
       "      <td>0.0</td>\n",
       "      <td>0.0</td>\n",
       "      <td>0.0</td>\n",
       "      <td>2.0</td>\n",
       "      <td>16.0</td>\n",
       "      <td>4.0</td>\n",
       "      <td>0.0</td>\n",
       "      <td>0.0</td>\n",
       "    </tr>\n",
       "    <tr>\n",
       "      <th>...</th>\n",
       "      <td>...</td>\n",
       "      <td>...</td>\n",
       "      <td>...</td>\n",
       "      <td>...</td>\n",
       "      <td>...</td>\n",
       "      <td>...</td>\n",
       "      <td>...</td>\n",
       "      <td>...</td>\n",
       "      <td>...</td>\n",
       "      <td>...</td>\n",
       "      <td>...</td>\n",
       "      <td>...</td>\n",
       "      <td>...</td>\n",
       "      <td>...</td>\n",
       "      <td>...</td>\n",
       "      <td>...</td>\n",
       "      <td>...</td>\n",
       "      <td>...</td>\n",
       "      <td>...</td>\n",
       "      <td>...</td>\n",
       "      <td>...</td>\n",
       "    </tr>\n",
       "    <tr>\n",
       "      <th>1792</th>\n",
       "      <td>9</td>\n",
       "      <td>0.0</td>\n",
       "      <td>0.0</td>\n",
       "      <td>4.0</td>\n",
       "      <td>10.0</td>\n",
       "      <td>13.0</td>\n",
       "      <td>6.0</td>\n",
       "      <td>0.0</td>\n",
       "      <td>0.0</td>\n",
       "      <td>0.0</td>\n",
       "      <td>...</td>\n",
       "      <td>4.0</td>\n",
       "      <td>0.0</td>\n",
       "      <td>0.0</td>\n",
       "      <td>0.0</td>\n",
       "      <td>2.0</td>\n",
       "      <td>14.0</td>\n",
       "      <td>15.0</td>\n",
       "      <td>9.0</td>\n",
       "      <td>0.0</td>\n",
       "      <td>0.0</td>\n",
       "    </tr>\n",
       "    <tr>\n",
       "      <th>1793</th>\n",
       "      <td>0</td>\n",
       "      <td>0.0</td>\n",
       "      <td>0.0</td>\n",
       "      <td>6.0</td>\n",
       "      <td>16.0</td>\n",
       "      <td>13.0</td>\n",
       "      <td>11.0</td>\n",
       "      <td>1.0</td>\n",
       "      <td>0.0</td>\n",
       "      <td>0.0</td>\n",
       "      <td>...</td>\n",
       "      <td>1.0</td>\n",
       "      <td>0.0</td>\n",
       "      <td>0.0</td>\n",
       "      <td>0.0</td>\n",
       "      <td>6.0</td>\n",
       "      <td>16.0</td>\n",
       "      <td>14.0</td>\n",
       "      <td>6.0</td>\n",
       "      <td>0.0</td>\n",
       "      <td>0.0</td>\n",
       "    </tr>\n",
       "    <tr>\n",
       "      <th>1794</th>\n",
       "      <td>8</td>\n",
       "      <td>0.0</td>\n",
       "      <td>0.0</td>\n",
       "      <td>1.0</td>\n",
       "      <td>11.0</td>\n",
       "      <td>15.0</td>\n",
       "      <td>1.0</td>\n",
       "      <td>0.0</td>\n",
       "      <td>0.0</td>\n",
       "      <td>0.0</td>\n",
       "      <td>...</td>\n",
       "      <td>0.0</td>\n",
       "      <td>0.0</td>\n",
       "      <td>0.0</td>\n",
       "      <td>0.0</td>\n",
       "      <td>2.0</td>\n",
       "      <td>9.0</td>\n",
       "      <td>13.0</td>\n",
       "      <td>6.0</td>\n",
       "      <td>0.0</td>\n",
       "      <td>0.0</td>\n",
       "    </tr>\n",
       "    <tr>\n",
       "      <th>1795</th>\n",
       "      <td>9</td>\n",
       "      <td>0.0</td>\n",
       "      <td>0.0</td>\n",
       "      <td>2.0</td>\n",
       "      <td>10.0</td>\n",
       "      <td>7.0</td>\n",
       "      <td>0.0</td>\n",
       "      <td>0.0</td>\n",
       "      <td>0.0</td>\n",
       "      <td>0.0</td>\n",
       "      <td>...</td>\n",
       "      <td>2.0</td>\n",
       "      <td>0.0</td>\n",
       "      <td>0.0</td>\n",
       "      <td>0.0</td>\n",
       "      <td>5.0</td>\n",
       "      <td>12.0</td>\n",
       "      <td>16.0</td>\n",
       "      <td>12.0</td>\n",
       "      <td>0.0</td>\n",
       "      <td>0.0</td>\n",
       "    </tr>\n",
       "    <tr>\n",
       "      <th>1796</th>\n",
       "      <td>8</td>\n",
       "      <td>0.0</td>\n",
       "      <td>0.0</td>\n",
       "      <td>10.0</td>\n",
       "      <td>14.0</td>\n",
       "      <td>8.0</td>\n",
       "      <td>1.0</td>\n",
       "      <td>0.0</td>\n",
       "      <td>0.0</td>\n",
       "      <td>0.0</td>\n",
       "      <td>...</td>\n",
       "      <td>8.0</td>\n",
       "      <td>0.0</td>\n",
       "      <td>0.0</td>\n",
       "      <td>1.0</td>\n",
       "      <td>8.0</td>\n",
       "      <td>12.0</td>\n",
       "      <td>14.0</td>\n",
       "      <td>12.0</td>\n",
       "      <td>1.0</td>\n",
       "      <td>0.0</td>\n",
       "    </tr>\n",
       "  </tbody>\n",
       "</table>\n",
       "<p>1797 rows × 65 columns</p>\n",
       "</div>"
      ],
      "text/plain": [
       "      label    0    1     2     3     4     5    6    7    8  ...   54   55  \\\n",
       "0         0  0.0  0.0   5.0  13.0   9.0   1.0  0.0  0.0  0.0  ...  0.0  0.0   \n",
       "1         1  0.0  0.0   0.0  12.0  13.0   5.0  0.0  0.0  0.0  ...  0.0  0.0   \n",
       "2         2  0.0  0.0   0.0   4.0  15.0  12.0  0.0  0.0  0.0  ...  5.0  0.0   \n",
       "3         3  0.0  0.0   7.0  15.0  13.0   1.0  0.0  0.0  0.0  ...  9.0  0.0   \n",
       "4         4  0.0  0.0   0.0   1.0  11.0   0.0  0.0  0.0  0.0  ...  0.0  0.0   \n",
       "...     ...  ...  ...   ...   ...   ...   ...  ...  ...  ...  ...  ...  ...   \n",
       "1792      9  0.0  0.0   4.0  10.0  13.0   6.0  0.0  0.0  0.0  ...  4.0  0.0   \n",
       "1793      0  0.0  0.0   6.0  16.0  13.0  11.0  1.0  0.0  0.0  ...  1.0  0.0   \n",
       "1794      8  0.0  0.0   1.0  11.0  15.0   1.0  0.0  0.0  0.0  ...  0.0  0.0   \n",
       "1795      9  0.0  0.0   2.0  10.0   7.0   0.0  0.0  0.0  0.0  ...  2.0  0.0   \n",
       "1796      8  0.0  0.0  10.0  14.0   8.0   1.0  0.0  0.0  0.0  ...  8.0  0.0   \n",
       "\n",
       "       56   57   58    59    60    61   62   63  \n",
       "0     0.0  0.0  6.0  13.0  10.0   0.0  0.0  0.0  \n",
       "1     0.0  0.0  0.0  11.0  16.0  10.0  0.0  0.0  \n",
       "2     0.0  0.0  0.0   3.0  11.0  16.0  9.0  0.0  \n",
       "3     0.0  0.0  7.0  13.0  13.0   9.0  0.0  0.0  \n",
       "4     0.0  0.0  0.0   2.0  16.0   4.0  0.0  0.0  \n",
       "...   ...  ...  ...   ...   ...   ...  ...  ...  \n",
       "1792  0.0  0.0  2.0  14.0  15.0   9.0  0.0  0.0  \n",
       "1793  0.0  0.0  6.0  16.0  14.0   6.0  0.0  0.0  \n",
       "1794  0.0  0.0  2.0   9.0  13.0   6.0  0.0  0.0  \n",
       "1795  0.0  0.0  5.0  12.0  16.0  12.0  0.0  0.0  \n",
       "1796  0.0  1.0  8.0  12.0  14.0  12.0  1.0  0.0  \n",
       "\n",
       "[1797 rows x 65 columns]"
      ]
     },
     "execution_count": 3,
     "metadata": {},
     "output_type": "execute_result"
    }
   ],
   "source": [
    "# create the dataset with labels (y-variable, the written number in this case) and features (64 x-variables)\n",
    "# label: digit\n",
    "# 64 pixels -> 64 variables \n",
    "features = pd.DataFrame(digits.data)\n",
    "labels = pd.DataFrame(digits.target, columns=['label'])\n",
    "data = pd.concat([labels, features], axis=1)\n",
    "data"
   ]
  },
  {
   "cell_type": "markdown",
   "metadata": {},
   "source": [
    "## ICA: Choose the number of components"
   ]
  },
  {
   "cell_type": "code",
   "execution_count": 4,
   "metadata": {},
   "outputs": [
    {
     "name": "stdout",
     "output_type": "stream",
     "text": [
      "components: 1 , kurtosis: 0.6397539703758661\n",
      "components: 2 , kurtosis: 0.9976677810305153\n",
      "components: 3 , kurtosis: 1.0055249287523698\n",
      "components: 4 , kurtosis: 0.9848478765430393\n",
      "components: 5 , kurtosis: 0.8970730011721446\n",
      "components: 6 , kurtosis: 0.6735963076324131\n",
      "components: 7 , kurtosis: 0.7204980265460057\n",
      "components: 8 , kurtosis: 0.7181155459860904\n",
      "components: 9 , kurtosis: 0.7916792189882442\n",
      "components: 10 , kurtosis: 0.9338209029807768\n",
      "components: 11 , kurtosis: 0.9721227754729281\n",
      "components: 12 , kurtosis: 0.9350263460211132\n",
      "components: 13 , kurtosis: 0.9611478254787278\n",
      "components: 14 , kurtosis: 0.8989639447135794\n",
      "components: 15 , kurtosis: 0.9571820234337725\n",
      "components: 16 , kurtosis: 0.9451497359338802\n",
      "components: 17 , kurtosis: 0.9899850778757546\n",
      "components: 18 , kurtosis: 1.1246482742503703\n"
     ]
    },
    {
     "name": "stderr",
     "output_type": "stream",
     "text": [
      "C:\\Users\\andyc\\anaconda3\\Lib\\site-packages\\sklearn\\decomposition\\_fastica.py:128: ConvergenceWarning: FastICA did not converge. Consider increasing tolerance or the maximum number of iterations.\n",
      "  warnings.warn(\n"
     ]
    },
    {
     "name": "stdout",
     "output_type": "stream",
     "text": [
      "components: 19 , kurtosis: 1.3446833355482755\n",
      "components: 20 , kurtosis: 1.3918681607337438\n",
      "components: 21 , kurtosis: 1.6592260492215354\n",
      "components: 22 , kurtosis: 1.7191641892222789\n"
     ]
    },
    {
     "name": "stderr",
     "output_type": "stream",
     "text": [
      "C:\\Users\\andyc\\anaconda3\\Lib\\site-packages\\sklearn\\decomposition\\_fastica.py:128: ConvergenceWarning: FastICA did not converge. Consider increasing tolerance or the maximum number of iterations.\n",
      "  warnings.warn(\n"
     ]
    },
    {
     "name": "stdout",
     "output_type": "stream",
     "text": [
      "components: 23 , kurtosis: 1.877019169865376\n"
     ]
    },
    {
     "name": "stderr",
     "output_type": "stream",
     "text": [
      "C:\\Users\\andyc\\anaconda3\\Lib\\site-packages\\sklearn\\decomposition\\_fastica.py:128: ConvergenceWarning: FastICA did not converge. Consider increasing tolerance or the maximum number of iterations.\n",
      "  warnings.warn(\n"
     ]
    },
    {
     "name": "stdout",
     "output_type": "stream",
     "text": [
      "components: 24 , kurtosis: 1.9832266788231319\n",
      "components: 25 , kurtosis: 2.199746680318671\n"
     ]
    },
    {
     "name": "stderr",
     "output_type": "stream",
     "text": [
      "C:\\Users\\andyc\\anaconda3\\Lib\\site-packages\\sklearn\\decomposition\\_fastica.py:128: ConvergenceWarning: FastICA did not converge. Consider increasing tolerance or the maximum number of iterations.\n",
      "  warnings.warn(\n"
     ]
    },
    {
     "name": "stdout",
     "output_type": "stream",
     "text": [
      "components: 26 , kurtosis: 2.134883267950715\n"
     ]
    },
    {
     "name": "stderr",
     "output_type": "stream",
     "text": [
      "C:\\Users\\andyc\\anaconda3\\Lib\\site-packages\\sklearn\\decomposition\\_fastica.py:128: ConvergenceWarning: FastICA did not converge. Consider increasing tolerance or the maximum number of iterations.\n",
      "  warnings.warn(\n"
     ]
    },
    {
     "name": "stdout",
     "output_type": "stream",
     "text": [
      "components: 27 , kurtosis: 2.3415477138748133\n",
      "components: 28 , kurtosis: 2.4936315902079484\n",
      "components: 29 , kurtosis: 2.60325881177056\n",
      "components: 30 , kurtosis: 2.6560276672835674\n",
      "components: 31 , kurtosis: 2.751848885676484\n",
      "components: 32 , kurtosis: 2.660313944816486\n",
      "components: 33 , kurtosis: 2.8312108996506806\n",
      "components: 34 , kurtosis: 2.870453588579137\n",
      "components: 35 , kurtosis: 2.9558187866055916\n",
      "components: 36 , kurtosis: 3.1230935788009\n",
      "components: 37 , kurtosis: 3.222642096108579\n",
      "components: 38 , kurtosis: 3.2374972149327563\n",
      "components: 39 , kurtosis: 3.3277349498040176\n",
      "components: 40 , kurtosis: 3.3177992755610624\n",
      "components: 41 , kurtosis: 3.486985373556309\n",
      "components: 42 , kurtosis: 3.7285643052135393\n",
      "components: 43 , kurtosis: 3.851630994871587\n",
      "components: 44 , kurtosis: 3.904441411986767\n",
      "components: 45 , kurtosis: 4.105439677066277\n",
      "components: 46 , kurtosis: 4.322755100236617\n",
      "components: 47 , kurtosis: 4.818046127843163\n",
      "components: 48 , kurtosis: 6.682653744782418\n",
      "components: 49 , kurtosis: 7.085975590704808\n",
      "components: 50 , kurtosis: 8.029954309012636\n",
      "components: 51 , kurtosis: 11.073440055201507\n",
      "components: 52 , kurtosis: 11.128536063143702\n",
      "components: 53 , kurtosis: 15.632158940717929\n",
      "components: 54 , kurtosis: 17.53451985485728\n",
      "components: 55 , kurtosis: 39.1829304182701\n",
      "components: 56 , kurtosis: 49.352741033953194\n",
      "components: 57 , kurtosis: 54.74290787668879\n",
      "components: 58 , kurtosis: 75.25672527020261\n",
      "components: 59 , kurtosis: 90.98736025902485\n",
      "components: 60 , kurtosis: 81.91768383363932\n",
      "components: 61 , kurtosis: 123.92671356131652\n"
     ]
    },
    {
     "name": "stderr",
     "output_type": "stream",
     "text": [
      "C:\\Users\\andyc\\anaconda3\\Lib\\site-packages\\sklearn\\decomposition\\_fastica.py:128: ConvergenceWarning: FastICA did not converge. Consider increasing tolerance or the maximum number of iterations.\n",
      "  warnings.warn(\n"
     ]
    },
    {
     "name": "stdout",
     "output_type": "stream",
     "text": [
      "components: 62 , kurtosis: 115.13422267664954\n"
     ]
    },
    {
     "name": "stderr",
     "output_type": "stream",
     "text": [
      "C:\\Users\\andyc\\anaconda3\\Lib\\site-packages\\sklearn\\decomposition\\_fastica.py:128: ConvergenceWarning: FastICA did not converge. Consider increasing tolerance or the maximum number of iterations.\n",
      "  warnings.warn(\n"
     ]
    },
    {
     "name": "stdout",
     "output_type": "stream",
     "text": [
      "components: 63 , kurtosis: 112.91844643937031\n"
     ]
    },
    {
     "name": "stderr",
     "output_type": "stream",
     "text": [
      "C:\\Users\\andyc\\anaconda3\\Lib\\site-packages\\sklearn\\decomposition\\_fastica.py:128: ConvergenceWarning: FastICA did not converge. Consider increasing tolerance or the maximum number of iterations.\n",
      "  warnings.warn(\n"
     ]
    },
    {
     "name": "stdout",
     "output_type": "stream",
     "text": [
      "components: 64 , kurtosis: 1.2200853308279784\n"
     ]
    },
    {
     "data": {
      "text/plain": [
       "Text(0.5, 1.0, 'Kurtosis vs. # of Independent Components')"
      ]
     },
     "execution_count": 4,
     "metadata": {},
     "output_type": "execute_result"
    },
    {
     "data": {
      "image/png": "[encoded data removed]",
      "text/plain": [
       "<Figure size 640x480 with 1 Axes>"
      ]
     },
     "metadata": {},
     "output_type": "display_data"
    }
   ],
   "source": [
    "# extrac x and y vars \n",
    "X = data.iloc[:,1:] \n",
    "y = data.iloc[:,0] \n",
    "\n",
    "components = list(range(1, features.shape[1]+1))\n",
    "kurtosis = []\n",
    "\n",
    "for i in range(1, X.shape[1]+1): \n",
    "    \n",
    "    # define ICA\n",
    "    ica = FastICA(n_components = i, max_iter = 5000, random_state = 101)\n",
    "    \n",
    "    # fit ICA to data \n",
    "    ica.fit(X)\n",
    "    \n",
    "    # transform x-vars using ind components\n",
    "    projected_variables = ica.transform(X)\n",
    "    projected_variables = pd.DataFrame(projected_variables)\n",
    "    \n",
    "    # calc. mean absolute value of kurtosis for the components\n",
    "    k = projected_variables.kurt(axis = 0).abs().mean()\n",
    "    kurtosis.append(k)\n",
    "    \n",
    "    # using kurtosis is good if your goal is to find # of independent components rather than making predictions\n",
    "    print('components:', i, ', kurtosis:', k)\n",
    "    \n",
    "plt.plot(components, kurtosis)\n",
    "plt.ylabel('Kurtosis')\n",
    "plt.xlabel('# of Components')\n",
    "plt.title('Kurtosis vs. # of Independent Components')\n"
   ]
  },
  {
   "cell_type": "markdown",
   "metadata": {},
   "source": [
    "## ICA: Reduce dimensionality and calculate new values based on independent components"
   ]
  },
  {
   "cell_type": "code",
   "execution_count": 5,
   "metadata": {},
   "outputs": [
    {
     "data": {
      "text/html": [
       "<div>\n",
       "<style scoped>\n",
       "    .dataframe tbody tr th:only-of-type {\n",
       "        vertical-align: middle;\n",
       "    }\n",
       "\n",
       "    .dataframe tbody tr th {\n",
       "        vertical-align: top;\n",
       "    }\n",
       "\n",
       "    .dataframe thead th {\n",
       "        text-align: right;\n",
       "    }\n",
       "</style>\n",
       "<table border=\"1\" class=\"dataframe\">\n",
       "  <thead>\n",
       "    <tr style=\"text-align: right;\">\n",
       "      <th></th>\n",
       "      <th>label</th>\n",
       "      <th>0</th>\n",
       "      <th>1</th>\n",
       "      <th>2</th>\n",
       "      <th>3</th>\n",
       "      <th>4</th>\n",
       "    </tr>\n",
       "  </thead>\n",
       "  <tbody>\n",
       "    <tr>\n",
       "      <th>0</th>\n",
       "      <td>0</td>\n",
       "      <td>-0.839431</td>\n",
       "      <td>-0.240368</td>\n",
       "      <td>0.736439</td>\n",
       "      <td>-1.631208</td>\n",
       "      <td>-1.503182</td>\n",
       "    </tr>\n",
       "    <tr>\n",
       "      <th>1</th>\n",
       "      <td>1</td>\n",
       "      <td>0.368961</td>\n",
       "      <td>0.373445</td>\n",
       "      <td>-0.959171</td>\n",
       "      <td>1.735588</td>\n",
       "      <td>1.560236</td>\n",
       "    </tr>\n",
       "    <tr>\n",
       "      <th>2</th>\n",
       "      <td>2</td>\n",
       "      <td>-1.625606</td>\n",
       "      <td>-1.768190</td>\n",
       "      <td>1.254982</td>\n",
       "      <td>0.866418</td>\n",
       "      <td>1.179222</td>\n",
       "    </tr>\n",
       "    <tr>\n",
       "      <th>3</th>\n",
       "      <td>3</td>\n",
       "      <td>1.355657</td>\n",
       "      <td>0.189443</td>\n",
       "      <td>0.175671</td>\n",
       "      <td>-0.580742</td>\n",
       "      <td>-0.558266</td>\n",
       "    </tr>\n",
       "    <tr>\n",
       "      <th>4</th>\n",
       "      <td>4</td>\n",
       "      <td>-1.373232</td>\n",
       "      <td>0.909662</td>\n",
       "      <td>-1.122131</td>\n",
       "      <td>0.181869</td>\n",
       "      <td>-0.067447</td>\n",
       "    </tr>\n",
       "  </tbody>\n",
       "</table>\n",
       "</div>"
      ],
      "text/plain": [
       "   label         0         1         2         3         4\n",
       "0      0 -0.839431 -0.240368  0.736439 -1.631208 -1.503182\n",
       "1      1  0.368961  0.373445 -0.959171  1.735588  1.560236\n",
       "2      2 -1.625606 -1.768190  1.254982  0.866418  1.179222\n",
       "3      3  1.355657  0.189443  0.175671 -0.580742 -0.558266\n",
       "4      4 -1.373232  0.909662 -1.122131  0.181869 -0.067447"
      ]
     },
     "execution_count": 5,
     "metadata": {},
     "output_type": "execute_result"
    }
   ],
   "source": [
    "X = data.iloc[:,1:] \n",
    "y = data.iloc[:,0] \n",
    "\n",
    "# define ICA \n",
    "ica = FastICA(5, random_state = 101) # choose # of components  \n",
    "\n",
    "# fit ICA to data\n",
    "ica.fit(X) \n",
    "\n",
    "# transform x-vars using ind components\n",
    "projected = ica.transform(X) \n",
    "projected_variables = pd.DataFrame(projected)\n",
    "data2 = pd.concat([labels, projected_variables], axis=1)\n",
    "data2.head()\n"
   ]
  },
  {
   "cell_type": "code",
   "execution_count": 6,
   "metadata": {},
   "outputs": [
    {
     "name": "stdout",
     "output_type": "stream",
     "text": [
      "(1797, 64)\n",
      "(1797, 5)\n"
     ]
    }
   ],
   "source": [
    "print(data.iloc[:,1:].shape)\n",
    "print(data2.iloc[:,1:].shape) "
   ]
  },
  {
   "cell_type": "markdown",
   "metadata": {},
   "source": [
    "## Make predictions with ICA components"
   ]
  },
  {
   "cell_type": "code",
   "execution_count": 7,
   "metadata": {
    "scrolled": true
   },
   "outputs": [
    {
     "name": "stdout",
     "output_type": "stream",
     "text": [
      "components: 1 , accuracy: 0.34444444444444444\n",
      "components: 2 , accuracy: 0.6166666666666667\n",
      "components: 3 , accuracy: 0.6185185185185185\n",
      "components: 4 , accuracy: 0.6148148148148148\n",
      "components: 5 , accuracy: 0.7314814814814815\n",
      "components: 6 , accuracy: 0.7574074074074074\n",
      "components: 7 , accuracy: 0.7962962962962963\n",
      "components: 8 , accuracy: 0.8111111111111111\n",
      "components: 9 , accuracy: 0.8555555555555555\n",
      "components: 10 , accuracy: 0.8555555555555555\n",
      "components: 11 , accuracy: 0.8796296296296297\n",
      "components: 12 , accuracy: 0.8851851851851852\n",
      "components: 13 , accuracy: 0.8962962962962963\n",
      "components: 14 , accuracy: 0.9111111111111111\n",
      "components: 15 , accuracy: 0.912962962962963\n",
      "components: 16 , accuracy: 0.9185185185185185\n",
      "components: 17 , accuracy: 0.9185185185185185\n",
      "components: 18 , accuracy: 0.9185185185185185\n"
     ]
    },
    {
     "name": "stderr",
     "output_type": "stream",
     "text": [
      "C:\\Users\\andyc\\anaconda3\\Lib\\site-packages\\sklearn\\decomposition\\_fastica.py:128: ConvergenceWarning: FastICA did not converge. Consider increasing tolerance or the maximum number of iterations.\n",
      "  warnings.warn(\n"
     ]
    },
    {
     "name": "stdout",
     "output_type": "stream",
     "text": [
      "components: 19 , accuracy: 0.9166666666666666\n",
      "components: 20 , accuracy: 0.9333333333333333\n",
      "components: 21 , accuracy: 0.937037037037037\n",
      "components: 22 , accuracy: 0.937037037037037\n"
     ]
    },
    {
     "name": "stderr",
     "output_type": "stream",
     "text": [
      "C:\\Users\\andyc\\anaconda3\\Lib\\site-packages\\sklearn\\decomposition\\_fastica.py:128: ConvergenceWarning: FastICA did not converge. Consider increasing tolerance or the maximum number of iterations.\n",
      "  warnings.warn(\n"
     ]
    },
    {
     "name": "stdout",
     "output_type": "stream",
     "text": [
      "components: 23 , accuracy: 0.9388888888888889\n",
      "components: 24 , accuracy: 0.9425925925925925\n",
      "components: 25 , accuracy: 0.9388888888888889\n"
     ]
    },
    {
     "name": "stderr",
     "output_type": "stream",
     "text": [
      "C:\\Users\\andyc\\anaconda3\\Lib\\site-packages\\sklearn\\decomposition\\_fastica.py:128: ConvergenceWarning: FastICA did not converge. Consider increasing tolerance or the maximum number of iterations.\n",
      "  warnings.warn(\n"
     ]
    },
    {
     "name": "stdout",
     "output_type": "stream",
     "text": [
      "components: 26 , accuracy: 0.9481481481481482\n"
     ]
    },
    {
     "name": "stderr",
     "output_type": "stream",
     "text": [
      "C:\\Users\\andyc\\anaconda3\\Lib\\site-packages\\sklearn\\decomposition\\_fastica.py:128: ConvergenceWarning: FastICA did not converge. Consider increasing tolerance or the maximum number of iterations.\n",
      "  warnings.warn(\n"
     ]
    },
    {
     "name": "stdout",
     "output_type": "stream",
     "text": [
      "components: 27 , accuracy: 0.9444444444444444\n",
      "components: 28 , accuracy: 0.9407407407407408\n",
      "components: 29 , accuracy: 0.9425925925925925\n",
      "components: 30 , accuracy: 0.9425925925925925\n",
      "components: 31 , accuracy: 0.9388888888888889\n",
      "components: 32 , accuracy: 0.9388888888888889\n",
      "components: 33 , accuracy: 0.9407407407407408\n",
      "components: 34 , accuracy: 0.9407407407407408\n",
      "components: 35 , accuracy: 0.9444444444444444\n",
      "components: 36 , accuracy: 0.9444444444444444\n",
      "components: 37 , accuracy: 0.9407407407407408\n",
      "components: 38 , accuracy: 0.9388888888888889\n",
      "components: 39 , accuracy: 0.9425925925925925\n",
      "components: 40 , accuracy: 0.9407407407407408\n",
      "components: 41 , accuracy: 0.9425925925925925\n",
      "components: 42 , accuracy: 0.9481481481481482\n",
      "components: 43 , accuracy: 0.9481481481481482\n",
      "components: 44 , accuracy: 0.9462962962962963\n",
      "components: 45 , accuracy: 0.9444444444444444\n",
      "components: 46 , accuracy: 0.9425925925925925\n",
      "components: 47 , accuracy: 0.9407407407407408\n",
      "components: 48 , accuracy: 0.9407407407407408\n",
      "components: 49 , accuracy: 0.9388888888888889\n",
      "components: 50 , accuracy: 0.9425925925925925\n",
      "components: 51 , accuracy: 0.9388888888888889\n",
      "components: 52 , accuracy: 0.937037037037037\n",
      "components: 53 , accuracy: 0.9388888888888889\n",
      "components: 54 , accuracy: 0.9407407407407408\n",
      "components: 55 , accuracy: 0.9388888888888889\n",
      "components: 56 , accuracy: 0.9407407407407408\n",
      "components: 57 , accuracy: 0.9388888888888889\n",
      "components: 58 , accuracy: 0.937037037037037\n",
      "components: 59 , accuracy: 0.9388888888888889\n",
      "components: 60 , accuracy: 0.9388888888888889\n",
      "components: 61 , accuracy: 0.9351851851851852\n"
     ]
    },
    {
     "name": "stderr",
     "output_type": "stream",
     "text": [
      "C:\\Users\\andyc\\anaconda3\\Lib\\site-packages\\sklearn\\decomposition\\_fastica.py:128: ConvergenceWarning: FastICA did not converge. Consider increasing tolerance or the maximum number of iterations.\n",
      "  warnings.warn(\n"
     ]
    },
    {
     "name": "stdout",
     "output_type": "stream",
     "text": [
      "components: 62 , accuracy: 0.9537037037037037\n"
     ]
    },
    {
     "name": "stderr",
     "output_type": "stream",
     "text": [
      "C:\\Users\\andyc\\anaconda3\\Lib\\site-packages\\sklearn\\decomposition\\_fastica.py:128: ConvergenceWarning: FastICA did not converge. Consider increasing tolerance or the maximum number of iterations.\n",
      "  warnings.warn(\n"
     ]
    },
    {
     "name": "stdout",
     "output_type": "stream",
     "text": [
      "components: 63 , accuracy: 0.9574074074074074\n"
     ]
    },
    {
     "name": "stderr",
     "output_type": "stream",
     "text": [
      "C:\\Users\\andyc\\anaconda3\\Lib\\site-packages\\sklearn\\decomposition\\_fastica.py:128: ConvergenceWarning: FastICA did not converge. Consider increasing tolerance or the maximum number of iterations.\n",
      "  warnings.warn(\n"
     ]
    },
    {
     "name": "stdout",
     "output_type": "stream",
     "text": [
      "components: 64 , accuracy: 0.9462962962962963\n"
     ]
    },
    {
     "data": {
      "text/plain": [
       "Text(0.5, 1.0, 'Accuracy vs. # of Independent Components')"
      ]
     },
     "execution_count": 7,
     "metadata": {},
     "output_type": "execute_result"
    },
    {
     "data": {
      "image/png": "[encoded data removed]",
      "text/plain": [
       "<Figure size 640x480 with 1 Axes>"
      ]
     },
     "metadata": {},
     "output_type": "display_data"
    }
   ],
   "source": [
    "X = data.iloc[:,1:]\n",
    "y = data.iloc[:,0]\n",
    "\n",
    "accuracies = []\n",
    "components = list(range(1, X.shape[1]+1)) # 1 to 64 components\n",
    "\n",
    "for i in range(1, X.shape[1]+1): \n",
    "    \n",
    "    ica = FastICA(n_components = i, max_iter = 10000, random_state = 101) \n",
    "\n",
    "    ica.fit(X)\n",
    "    \n",
    "    projected = ica.transform(X)\n",
    "    projected_variables = pd.DataFrame(projected)\n",
    "    data2 = pd.concat([labels, projected_variables], axis=1)\n",
    "    \n",
    "    X2 = data2.iloc[:,1:]\n",
    "    y2 = data2.iloc[:,0]\n",
    "    \n",
    "    X_train, X_test, y_train, y_test = train_test_split(X2, y2, test_size=0.3, random_state = 101)\n",
    "    \n",
    "    model = LogisticRegression(solver = 'lbfgs', multi_class = 'multinomial', max_iter = 5000)\n",
    "    \n",
    "    model.fit(X_train, y_train)\n",
    "\n",
    "    y_pred = model.predict(X_test)\n",
    "\n",
    "    acc = accuracy_score(y_test, y_pred)\n",
    "\n",
    "    accuracies.append(acc)\n",
    "    \n",
    "    print('components:', i, ', accuracy:', acc)\n",
    "\n",
    "plt.plot(components, accuracies)\n",
    "plt.ylabel('Accuracy')\n",
    "plt.xlabel('# of Independent Components')\n",
    "plt.title('Accuracy vs. # of Independent Components')\n"
   ]
  },
  {
   "cell_type": "code",
   "execution_count": null,
   "metadata": {},
   "outputs": [],
   "source": []
  }
 ],
 "metadata": {
  "anaconda-cloud": {},
  "kernelspec": {
   "display_name": "Python 3 (ipykernel)",
   "language": "python",
   "name": "python3"
  },
  "language_info": {
   "codemirror_mode": {
    "name": "ipython",
    "version": 3
   },
   "file_extension": ".py",
   "mimetype": "text/x-python",
   "name": "python",
   "nbconvert_exporter": "python",
   "pygments_lexer": "ipython3",
   "version": "3.11.5"
  }
 },
 "nbformat": 4,
 "nbformat_minor": 4
}
