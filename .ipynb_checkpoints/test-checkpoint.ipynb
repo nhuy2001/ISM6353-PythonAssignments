{
 "cells": [
  {
   "cell_type": "raw",
   "id": "0d4d18ac",
   "metadata": {},
   "source": [
    "---\n",
    "title: \"Untitled\"\n",
    "author: \"Huy Nguyen\"\n",
    "date: \"2023-10-16\"\n",
    "output: html_document\n",
    "---"
   ]
  },
  {
   "cell_type": "code",
   "execution_count": null,
   "id": "b2947f55",
   "metadata": {},
   "outputs": [],
   "source": [
    "#Import packages\n",
    "import pandas as pd\n",
    "import numpy as np\n",
    "import seaborn as sns\n",
    "\n",
    "from sklearn.svm import SVC \n",
    "from sklearn.naive_bayes import GaussianNB\n",
    "\n",
    "from sklearn.tree import DecisionTreeClassifier # libraries in sklearn \n",
    "from sklearn.ensemble import RandomForestClassifier # libraries in sklearn\n",
    "\n",
    "from sklearn.model_selection import train_test_split\n",
    "from sklearn.metrics import *\n",
    "from sklearn.feature_selection import mutual_info_classif\n",
    "import matplotlib.pyplot as plt\n",
    "%matplotlib inline"
   ]
  },
  {
   "cell_type": "code",
   "execution_count": null,
   "id": "88920e32",
   "metadata": {},
   "outputs": [],
   "source": [
    "#Read Datasets\n",
    "superstore = pd.read_csv('Superstore.csv')\n",
    "advertising = pd.read_csv('advertising.csv')"
   ]
  },
  {
   "cell_type": "code",
   "execution_count": null,
   "id": "981d8e75",
   "metadata": {},
   "outputs": [],
   "source": [
    "def classification_metrics(Y_pred, Y_true):\n",
    "    acc = accuracy_score(Y_true, Y_pred)\n",
    "    precision = precision_score(Y_true, Y_pred)\n",
    "    recall = recall_score(Y_true, Y_pred)\n",
    "    f1score = f1_score(Y_true, Y_pred)\n",
    "    auc = roc_auc_score(Y_true, Y_pred)\n",
    "\n",
    "    return acc, precision, recall, f1score, auc\n",
    "\n",
    "# define a function for printing the metrics \n",
    "def display_metrics(classifierName,Y_pred,Y_true):\n",
    "    print (\"______________________________________________\")\n",
    "    print (\"Model: \"+classifierName)\n",
    "    acc, precision, recall, f1score, auc = classification_metrics(Y_pred,Y_true)\n",
    "    print (\"Accuracy: \"+str(acc))\n",
    "    print (\"Precision: \"+str(precision))\n",
    "    print (\"Recall: \"+str(recall))\n",
    "    print (\"F1-score: \"+str(f1score))\n",
    "    print (\"AUC: \"+str(auc))\n",
    "    print (\"______________________________________________\")\n",
    "    print (\"\")"
   ]
  },
  {
   "cell_type": "code",
   "execution_count": null,
   "id": "1196e03e",
   "metadata": {},
   "outputs": [],
   "source": [
    "#New Columns\n",
    "##Total Cost\n",
    "superstore['Total Cost'] = superstore.Sales + superstore['Shipping Cost']\n",
    "superstore['Total Cost'].head()"
   ]
  },
  {
   "cell_type": "code",
   "execution_count": null,
   "id": "f37e3ff6",
   "metadata": {},
   "outputs": [],
   "source": [
    "%%R\n",
    "# 2. Use the Superstore data. Extract the following columns in this order: Sales, Unit Price, Profit. \n",
    "# Keep only transactions with profit > 10. \n",
    "# What's the value at index [250, 1]? "
   ]
  },
  {
   "cell_type": "code",
   "execution_count": null,
   "id": "252df016",
   "metadata": {},
   "outputs": [],
   "source": [
    "Q2dat = superstore[['Sales', 'Unit Price', 'Profit']]\n",
    "Q2dat = Q2dat[Q2dat['Profit'] > 10]\n",
    "Q2dat.describe() #Profit min is 11 so filtering works"
   ]
  },
  {
   "cell_type": "code",
   "execution_count": null,
   "id": "45c9ce27",
   "metadata": {},
   "outputs": [],
   "source": [
    "Q2dat.iloc[250,1]"
   ]
  },
  {
   "cell_type": "code",
   "execution_count": null,
   "id": "ed6c747d",
   "metadata": {},
   "outputs": [],
   "source": [
    "%%R\n",
    "# 3. Use the Superstore data. Create a new variable Total Cost (sum of sales and shipping cost). \n",
    "# Extract the following columns in this order: Sales, Shipping Cost, Total Cost. \n",
    "# Keep only transactions in California. \n",
    "# What's the value at index [150, 2]? "
   ]
  },
  {
   "cell_type": "code",
   "execution_count": null,
   "id": "7aa9eabf",
   "metadata": {
    "lines_to_next_cell": 0
   },
   "outputs": [],
   "source": []
  },
  {
   "cell_type": "markdown",
   "id": "16872189",
   "metadata": {},
   "source": [
    "\n"
   ]
  }
 ],
 "metadata": {
  "jupytext": {
   "cell_metadata_filter": "-all",
   "main_language": "python",
   "notebook_metadata_filter": "-all"
  }
 },
 "nbformat": 4,
 "nbformat_minor": 5
}
