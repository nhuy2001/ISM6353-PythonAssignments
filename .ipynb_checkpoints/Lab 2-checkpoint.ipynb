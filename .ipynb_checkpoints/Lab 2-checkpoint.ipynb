{
 "cells": [
  {
   "cell_type": "code",
   "execution_count": 1,
   "id": "b66b0b09-6bb9-42de-864e-387b0e12e6fd",
   "metadata": {
    "tags": []
   },
   "outputs": [],
   "source": [
    "#Import Packages\n",
    "import statsmodels.api as sm\n",
    "import numpy as np\n",
    "import pandas as pd\n",
    "import matplotlib.pyplot as plt\n",
    "from sklearn.linear_model import LinearRegression\n",
    "from sklearn import datasets \n",
    "from sklearn import metrics\n",
    "from sklearn.model_selection import train_test_split\n",
    "from sklearn.linear_model import Ridge\n",
    "from sklearn.linear_model import Lasso\n",
    "from sklearn.model_selection import KFold\n",
    "from sklearn.model_selection import cross_val_score\n",
    "\n",
    "%matplotlib inline"
   ]
  },
  {
   "cell_type": "code",
   "execution_count": 2,
   "id": "85148f37-d619-4201-8608-a28ace8c1974",
   "metadata": {
    "tags": []
   },
   "outputs": [],
   "source": [
    "#Load Data\n",
    "house = pd.read_csv('house.csv')\n",
    "superstore = pd.read_csv('Superstore.csv')"
   ]
  },
  {
   "cell_type": "code",
   "execution_count": 3,
   "id": "ac0cd68a-59b6-4abe-b33e-5c379b17a427",
   "metadata": {
    "tags": []
   },
   "outputs": [
    {
     "name": "stdout",
     "output_type": "stream",
     "text": [
      "<class 'pandas.core.frame.DataFrame'>\n",
      "RangeIndex: 506 entries, 0 to 505\n",
      "Data columns (total 13 columns):\n",
      " #   Column   Non-Null Count  Dtype  \n",
      "---  ------   --------------  -----  \n",
      " 0   CRIM     506 non-null    float64\n",
      " 1   ZN       506 non-null    float64\n",
      " 2   INDUS    506 non-null    float64\n",
      " 3   CHAS     506 non-null    int64  \n",
      " 4   NOX      506 non-null    float64\n",
      " 5   RM       506 non-null    float64\n",
      " 6   AGE      506 non-null    float64\n",
      " 7   DIS      506 non-null    float64\n",
      " 8   RAD      506 non-null    int64  \n",
      " 9   TAX      506 non-null    int64  \n",
      " 10  PTRATIO  506 non-null    float64\n",
      " 11  LSTAT    506 non-null    float64\n",
      " 12  MEDV     506 non-null    float64\n",
      "dtypes: float64(10), int64(3)\n",
      "memory usage: 51.5 KB\n"
     ]
    }
   ],
   "source": [
    "#House Structure\n",
    "house.info()"
   ]
  },
  {
   "cell_type": "code",
   "execution_count": 4,
   "id": "451b082b-5398-4735-aebb-d1c1a09e83e5",
   "metadata": {
    "tags": []
   },
   "outputs": [
    {
     "name": "stdout",
     "output_type": "stream",
     "text": [
      "<class 'pandas.core.frame.DataFrame'>\n",
      "RangeIndex: 9426 entries, 0 to 9425\n",
      "Data columns (total 26 columns):\n",
      " #   Column               Non-Null Count  Dtype  \n",
      "---  ------               --------------  -----  \n",
      " 0   Category             9426 non-null   object \n",
      " 1   City                 9426 non-null   object \n",
      " 2   Container            9426 non-null   object \n",
      " 3   Customer ID          9426 non-null   int64  \n",
      " 4   Customer Name        9426 non-null   object \n",
      " 5   Customer Segment     9426 non-null   object \n",
      " 6   Department           9426 non-null   object \n",
      " 7   Discount             9426 non-null   float64\n",
      " 8   Item ID              9426 non-null   int64  \n",
      " 9   Item                 9426 non-null   object \n",
      " 10  Number of Records    9426 non-null   int64  \n",
      " 11  Order Date           9426 non-null   object \n",
      " 12  Order ID             9426 non-null   int64  \n",
      " 13  Order Priority       9426 non-null   object \n",
      " 14  Order Quantity       9426 non-null   int64  \n",
      " 15  Postal Code          9426 non-null   int64  \n",
      " 16  Product Base Margin  9426 non-null   float64\n",
      " 17  Profit               9426 non-null   int64  \n",
      " 18  Region               9426 non-null   object \n",
      " 19  Row ID               9426 non-null   object \n",
      " 20  Sales                9426 non-null   int64  \n",
      " 21  Ship Date            9426 non-null   object \n",
      " 22  Ship Mode            9426 non-null   object \n",
      " 23  Shipping Cost        9426 non-null   int64  \n",
      " 24  State                9426 non-null   object \n",
      " 25  Unit Price           9426 non-null   int64  \n",
      "dtypes: float64(2), int64(10), object(14)\n",
      "memory usage: 1.9+ MB\n"
     ]
    }
   ],
   "source": [
    "#Superstore Structure\n",
    "superstore.info()"
   ]
  },
  {
   "cell_type": "code",
   "execution_count": 5,
   "id": "02aee9fc-d039-46d4-a45d-177aa0eb9c58",
   "metadata": {},
   "outputs": [],
   "source": [
    "# 2. Use the Superstore.csv data. Create a horizontal bar chart of counts of rows by customer segment. \n",
    "# To refer to variable names with space, use [] (e.g. df['Customer Segment']). \n",
    "# Which customer segment has the most customers? "
   ]
  },
  {
   "cell_type": "code",
   "execution_count": 6,
   "id": "787686fe-0c75-4094-b14f-2a4651bf3d9a",
   "metadata": {
    "tags": []
   },
   "outputs": [
    {
     "data": {
      "text/plain": [
       "Text(0.5, 1.0, 'Customer Distribution')"
      ]
     },
     "execution_count": 6,
     "metadata": {},
     "output_type": "execute_result"
    },
    {
     "data": {
      "image/png": "[encoded data removed]",
      "text/plain": [
       "<Figure size 640x480 with 1 Axes>"
      ]
     },
     "metadata": {},
     "output_type": "display_data"
    }
   ],
   "source": [
    "#pd.plot Method\n",
    "ax_h = superstore['Customer Segment'].value_counts().sort_values().plot(kind = 'barh', color = ['r', 'purple', 'b', 'g'])\n",
    "\n",
    "ax_h.set_xlabel('Count')\n",
    "ax_h.set_ylabel('Customer Segment')\n",
    "ax_h.set_title('Customer Distribution')"
   ]
  },
  {
   "cell_type": "code",
   "execution_count": 7,
   "id": "60e127c2-6716-4f96-bf69-2643d7ee9fcd",
   "metadata": {
    "tags": []
   },
   "outputs": [
    {
     "data": {
      "text/plain": [
       "Customer Segment\n",
       "Small Business    1841\n",
       "Consumer          1894\n",
       "Home Office       2316\n",
       "Corporate         3375\n",
       "Name: count, dtype: int64"
      ]
     },
     "execution_count": 7,
     "metadata": {},
     "output_type": "execute_result"
    }
   ],
   "source": [
    "#Matplotlib Method\n",
    "nCustomerType = superstore['Customer Segment']\n",
    "nCustomerType = nCustomerType.value_counts()\n",
    "nCustomerType = nCustomerType.sort_values()\n",
    "nCustomerType"
   ]
  },
  {
   "cell_type": "code",
   "execution_count": 8,
   "id": "865eddaa-bc59-4d42-b02d-535dc7c0aae8",
   "metadata": {
    "tags": []
   },
   "outputs": [
    {
     "data": {
      "image/png": "[encoded data removed]",
      "text/plain": [
       "<Figure size 800x600 with 1 Axes>"
      ]
     },
     "metadata": {},
     "output_type": "display_data"
    }
   ],
   "source": [
    "fig, q2plot = plt.subplots(figsize=(8,6))\n",
    "\n",
    "q2plot.barh(nCustomerType.index, nCustomerType.values, color = ['r', 'purple', 'b', 'g'])\n",
    "\n",
    "q2plot.set_xlabel('Count')\n",
    "q2plot.set_ylabel('Customer Segment')\n",
    "q2plot.set_title('Customer Distribution')\n",
    "\n",
    "plt.show()"
   ]
  },
  {
   "cell_type": "code",
   "execution_count": 9,
   "id": "3fe6c8c4-61be-4a20-b91f-b14735de1843",
   "metadata": {
    "tags": []
   },
   "outputs": [
    {
     "data": {
      "text/html": [
       "<div>\n",
       "<style scoped>\n",
       "    .dataframe tbody tr th:only-of-type {\n",
       "        vertical-align: middle;\n",
       "    }\n",
       "\n",
       "    .dataframe tbody tr th {\n",
       "        vertical-align: top;\n",
       "    }\n",
       "\n",
       "    .dataframe thead th {\n",
       "        text-align: right;\n",
       "    }\n",
       "</style>\n",
       "<table border=\"1\" class=\"dataframe\">\n",
       "  <thead>\n",
       "    <tr style=\"text-align: right;\">\n",
       "      <th></th>\n",
       "      <th>CustomerSegment</th>\n",
       "      <th>Count</th>\n",
       "    </tr>\n",
       "  </thead>\n",
       "  <tbody>\n",
       "    <tr>\n",
       "      <th>0</th>\n",
       "      <td>Corporate</td>\n",
       "      <td>3375</td>\n",
       "    </tr>\n",
       "    <tr>\n",
       "      <th>1</th>\n",
       "      <td>Home Office</td>\n",
       "      <td>2316</td>\n",
       "    </tr>\n",
       "    <tr>\n",
       "      <th>2</th>\n",
       "      <td>Consumer</td>\n",
       "      <td>1894</td>\n",
       "    </tr>\n",
       "    <tr>\n",
       "      <th>3</th>\n",
       "      <td>Small Business</td>\n",
       "      <td>1841</td>\n",
       "    </tr>\n",
       "  </tbody>\n",
       "</table>\n",
       "</div>"
      ],
      "text/plain": [
       "  CustomerSegment  Count\n",
       "0       Corporate   3375\n",
       "1     Home Office   2316\n",
       "2        Consumer   1894\n",
       "3  Small Business   1841"
      ]
     },
     "execution_count": 9,
     "metadata": {},
     "output_type": "execute_result"
    }
   ],
   "source": [
    "#Attempting to Replicate Data Visualization II\n",
    "temp = superstore.value_counts('Customer Segment').to_frame().reset_index()\n",
    "temp.columns = ['CustomerSegment', 'Count']\n",
    "temp"
   ]
  },
  {
   "cell_type": "code",
   "execution_count": 10,
   "id": "58571010-7305-4eeb-9c02-45e6d3acea98",
   "metadata": {
    "tags": []
   },
   "outputs": [
    {
     "data": {
      "image/png": "[encoded data removed]",
      "text/plain": [
       "<Figure size 800x600 with 1 Axes>"
      ]
     },
     "metadata": {},
     "output_type": "display_data"
    }
   ],
   "source": [
    "fig, ax = plt.subplots(figsize=(8,6))\n",
    "\n",
    "ax.barh(temp.CustomerSegment, temp.Count, color = ['r', 'purple', 'b', 'g'])\n",
    "\n",
    "ax.set_xlabel('Count')\n",
    "ax.set_ylabel('Customer Segment')\n",
    "ax.set_title('Customer Distribution')\n",
    "\n",
    "plt.show()\n",
    "#Huh, no more errors... I'll utilize this method starting Q7"
   ]
  },
  {
   "cell_type": "code",
   "execution_count": 11,
   "id": "9f6a6c86-6d25-4180-99cf-a12b0e48edbb",
   "metadata": {},
   "outputs": [],
   "source": [
    "# 3. Use the Superstore.csv data. Create a vertical bar chart of counts of rows by customer segment. \n",
    "# Print the counts for each bar on the plot. How many rows are there for corporate customers? "
   ]
  },
  {
   "cell_type": "code",
   "execution_count": 12,
   "id": "cc910d6e-6496-4620-a482-e16ab1477de9",
   "metadata": {
    "tags": []
   },
   "outputs": [
    {
     "data": {
      "image/png": "[encoded data removed]",
      "text/plain": [
       "<Figure size 640x480 with 1 Axes>"
      ]
     },
     "metadata": {},
     "output_type": "display_data"
    }
   ],
   "source": [
    "#pd.plot Method\n",
    "ax = superstore['Customer Segment'].value_counts().sort_values().plot(kind = 'bar', color = ['r', 'purple', 'b', 'g'])\n",
    "\n",
    "ax.set_xlabel('Count')\n",
    "ax.set_ylabel('Customer Segment')\n",
    "ax.set_title('Customer Distribution')\n",
    "\n",
    "for p in ax.patches:\n",
    "    ax.annotate(str(p.get_height()), (p.get_x() * 1.005, p.get_height() * 1.005))"
   ]
  },
  {
   "cell_type": "code",
   "execution_count": 13,
   "id": "1824f91f-f49d-4ba9-99f2-6efe3ccc9bbe",
   "metadata": {
    "tags": []
   },
   "outputs": [
    {
     "data": {
      "image/png": "[encoded data removed]",
      "text/plain": [
       "<Figure size 800x600 with 1 Axes>"
      ]
     },
     "metadata": {},
     "output_type": "display_data"
    }
   ],
   "source": [
    "fig, q3plot = plt.subplots(figsize=(8,6))\n",
    "\n",
    "q3plot.bar(nCustomerType.index, nCustomerType.values, color = ['r', 'purple', 'b', 'g'])\n",
    "\n",
    "q3plot.set_xlabel('Count')\n",
    "q3plot.set_ylabel('Customer Segment')\n",
    "q3plot.set_title('Customer Distribution')\n",
    "\n",
    "for i in range(len(nCustomerType)):\n",
    "    plt.text(i, nCustomerType.values[i], nCustomerType.values[i], ha = 'center')\n",
    "\n",
    "plt.show()"
   ]
  },
  {
   "cell_type": "code",
   "execution_count": 14,
   "id": "f71af5e3-2a0d-4e7a-a051-c8a87e083726",
   "metadata": {},
   "outputs": [],
   "source": [
    "#NOTE: I only included pd.plot because I couldn't get matplotlib to work. Since matplotlib is now working (as seen above), I won't use pd.plot anymore"
   ]
  },
  {
   "cell_type": "code",
   "execution_count": 15,
   "id": "384c8dc8-5bd3-4d2c-be53-a9494d8f1035",
   "metadata": {},
   "outputs": [],
   "source": [
    "# 4. Use the Superstore.csv data. Create a pie chart of percent of rows by region. \n",
    "# Print the percent for each region on the plot. What percent of the rows are from the east region? \n",
    "# Round to nearest 2 decimals. "
   ]
  },
  {
   "cell_type": "code",
   "execution_count": 16,
   "id": "b483e708-4650-43b5-aa27-dd5afb055b35",
   "metadata": {
    "tags": []
   },
   "outputs": [
    {
     "data": {
      "text/plain": [
       "Region\n",
       "South      1789\n",
       "West       1949\n",
       "Central    2589\n",
       "East       3099\n",
       "Name: count, dtype: int64"
      ]
     },
     "execution_count": 16,
     "metadata": {},
     "output_type": "execute_result"
    }
   ],
   "source": [
    "#Matplotlib Method\n",
    "nRegion = superstore.Region\n",
    "nRegion = nRegion.value_counts()\n",
    "nRegion = nRegion.sort_values()\n",
    "nRegion"
   ]
  },
  {
   "cell_type": "code",
   "execution_count": 17,
   "id": "3cba342b-7c62-4bce-9bad-5e5ae12017d3",
   "metadata": {
    "tags": []
   },
   "outputs": [
    {
     "data": {
      "image/png": "[encoded data removed]",
      "text/plain": [
       "<Figure size 800x600 with 1 Axes>"
      ]
     },
     "metadata": {},
     "output_type": "display_data"
    }
   ],
   "source": [
    "fig, q4plot = plt.subplots(figsize=(8,6))\n",
    "\n",
    "q4plot.pie(nRegion.values, labels = nRegion.index, autopct ='% .2f%%', startangle = 90)\n",
    "q4plot.set_title('Region Distribution')\n",
    "\n",
    "plt.show()"
   ]
  },
  {
   "cell_type": "code",
   "execution_count": 18,
   "id": "ecd321db-c84a-4861-8ec5-97820307857b",
   "metadata": {},
   "outputs": [],
   "source": [
    "# 5. Use the Superstore.csv data. Create a scatter plot of unit price (x) vs. profit (y). \n",
    "# Also create the line of best fit. Upload the figure below. "
   ]
  },
  {
   "cell_type": "code",
   "execution_count": 19,
   "id": "62f676c9-988c-4bc1-b3ec-91e4b96c22c4",
   "metadata": {
    "tags": []
   },
   "outputs": [
    {
     "data": {
      "image/png": "[encoded data removed]",
      "text/plain": [
       "<Figure size 640x480 with 1 Axes>"
      ]
     },
     "metadata": {},
     "output_type": "display_data"
    }
   ],
   "source": [
    "plt.scatter(superstore['Unit Price'], superstore.Profit)\n",
    "\n",
    "m, b = np.polyfit(superstore['Unit Price'], superstore.Profit, 1)\n",
    "\n",
    "plt.plot(superstore['Unit Price'], m*superstore['Unit Price'] + b, color = 'orange')\n",
    "plt.xlabel('Unit Price ($)')\n",
    "plt.ylabel('Profit ($)')\n",
    "plt.title('Relationship between Price and Profit')\n",
    "plt.savefig('Q5_Plot (Lab 2).png', dpi = 600)\n",
    "\n",
    "plt.show()"
   ]
  },
  {
   "cell_type": "code",
   "execution_count": 20,
   "id": "dfe9fd3f-ea05-419a-8fb7-6652d041e7fc",
   "metadata": {},
   "outputs": [],
   "source": [
    "# 6. In the question above, what is the slope of the line of best fit? \n",
    "# Round to nearest 2 decimals. "
   ]
  },
  {
   "cell_type": "code",
   "execution_count": 21,
   "id": "cf4f9471-a0f9-4bcb-95b8-d73a04d75f3e",
   "metadata": {
    "tags": []
   },
   "outputs": [
    {
     "data": {
      "text/plain": [
       "array([ -0.1721547 , 154.43237375])"
      ]
     },
     "execution_count": 21,
     "metadata": {},
     "output_type": "execute_result"
    }
   ],
   "source": [
    "#First value is the slope\n",
    "np.polyfit(superstore['Unit Price'], superstore.Profit, 1)\n",
    "#I could have just call m that we assigned earlier too"
   ]
  },
  {
   "cell_type": "code",
   "execution_count": 22,
   "id": "5039f900-5602-4d46-8e8b-266ab8190566",
   "metadata": {},
   "outputs": [],
   "source": [
    "# 7. Use the Superstore.csv data. Create a box plot of by sales by department. Add the propoer labels on both axes. \n",
    "# Which department has the smallest range of sales? "
   ]
  },
  {
   "cell_type": "code",
   "execution_count": 23,
   "id": "1c79d94f-08f0-4fa0-8972-c6125c4b7e92",
   "metadata": {
    "tags": []
   },
   "outputs": [
    {
     "data": {
      "text/plain": [
       "{'Furniture', 'Office Supplies', 'Technology'}"
      ]
     },
     "execution_count": 23,
     "metadata": {},
     "output_type": "execute_result"
    }
   ],
   "source": [
    "set(superstore.Department)"
   ]
  },
  {
   "cell_type": "code",
   "execution_count": 24,
   "id": "ffe4ae1c-971c-4fde-8e17-9f05344a042c",
   "metadata": {
    "tags": []
   },
   "outputs": [],
   "source": [
    "Furniture = superstore[superstore['Department'] == 'Furniture'].Sales.to_list()\n",
    "OfficeSupply = superstore[superstore['Department'] == 'Office Supplies'].Sales.to_list()\n",
    "Technology = superstore[superstore['Department'] == 'Technology'].Sales.to_list()"
   ]
  },
  {
   "cell_type": "code",
   "execution_count": 25,
   "id": "21209ae4-5f92-4b10-93de-fe679ca91006",
   "metadata": {
    "tags": []
   },
   "outputs": [
    {
     "data": {
      "image/png": "[encoded data removed]",
      "text/plain": [
       "<Figure size 640x480 with 1 Axes>"
      ]
     },
     "metadata": {},
     "output_type": "display_data"
    }
   ],
   "source": [
    "plt.boxplot([Furniture, OfficeSupply, Technology])\n",
    "\n",
    "plt.xticks(np.arange(1, 4), ('Furniture', 'Office Supply', 'Technology'))\n",
    "plt.ylabel('Sales ($)')\n",
    "plt.title('Sales Distribution by Deparment')\n",
    "\n",
    "plt.show()"
   ]
  },
  {
   "cell_type": "code",
   "execution_count": 26,
   "id": "3976589d-9810-4de5-ae1a-791d0df2e95f",
   "metadata": {},
   "outputs": [],
   "source": [
    "# 8. Using the Superstore data. Create dummy variables for region using pd.get_dummies(). \n",
    "# You can use the function pd.get_dummies(). Set drop_first to True. \n",
    "# Look at the documentation to figure out the exact syntax:\n",
    "\n",
    "#https://pandas.pydata.org/docs/reference/api/pandas.get_dummies.htmlLinks to an external site."
   ]
  },
  {
   "cell_type": "code",
   "execution_count": 27,
   "id": "912db135-7723-4119-b846-297d59979f22",
   "metadata": {
    "tags": []
   },
   "outputs": [
    {
     "data": {
      "text/html": [
       "<div>\n",
       "<style scoped>\n",
       "    .dataframe tbody tr th:only-of-type {\n",
       "        vertical-align: middle;\n",
       "    }\n",
       "\n",
       "    .dataframe tbody tr th {\n",
       "        vertical-align: top;\n",
       "    }\n",
       "\n",
       "    .dataframe thead th {\n",
       "        text-align: right;\n",
       "    }\n",
       "</style>\n",
       "<table border=\"1\" class=\"dataframe\">\n",
       "  <thead>\n",
       "    <tr style=\"text-align: right;\">\n",
       "      <th></th>\n",
       "      <th>East</th>\n",
       "      <th>South</th>\n",
       "      <th>West</th>\n",
       "    </tr>\n",
       "  </thead>\n",
       "  <tbody>\n",
       "    <tr>\n",
       "      <th>0</th>\n",
       "      <td>0</td>\n",
       "      <td>0</td>\n",
       "      <td>0</td>\n",
       "    </tr>\n",
       "    <tr>\n",
       "      <th>1</th>\n",
       "      <td>0</td>\n",
       "      <td>0</td>\n",
       "      <td>0</td>\n",
       "    </tr>\n",
       "    <tr>\n",
       "      <th>2</th>\n",
       "      <td>1</td>\n",
       "      <td>0</td>\n",
       "      <td>0</td>\n",
       "    </tr>\n",
       "    <tr>\n",
       "      <th>3</th>\n",
       "      <td>0</td>\n",
       "      <td>0</td>\n",
       "      <td>1</td>\n",
       "    </tr>\n",
       "    <tr>\n",
       "      <th>4</th>\n",
       "      <td>0</td>\n",
       "      <td>0</td>\n",
       "      <td>1</td>\n",
       "    </tr>\n",
       "    <tr>\n",
       "      <th>...</th>\n",
       "      <td>...</td>\n",
       "      <td>...</td>\n",
       "      <td>...</td>\n",
       "    </tr>\n",
       "    <tr>\n",
       "      <th>9421</th>\n",
       "      <td>0</td>\n",
       "      <td>0</td>\n",
       "      <td>1</td>\n",
       "    </tr>\n",
       "    <tr>\n",
       "      <th>9422</th>\n",
       "      <td>0</td>\n",
       "      <td>0</td>\n",
       "      <td>0</td>\n",
       "    </tr>\n",
       "    <tr>\n",
       "      <th>9423</th>\n",
       "      <td>1</td>\n",
       "      <td>0</td>\n",
       "      <td>0</td>\n",
       "    </tr>\n",
       "    <tr>\n",
       "      <th>9424</th>\n",
       "      <td>1</td>\n",
       "      <td>0</td>\n",
       "      <td>0</td>\n",
       "    </tr>\n",
       "    <tr>\n",
       "      <th>9425</th>\n",
       "      <td>0</td>\n",
       "      <td>0</td>\n",
       "      <td>0</td>\n",
       "    </tr>\n",
       "  </tbody>\n",
       "</table>\n",
       "<p>9426 rows × 3 columns</p>\n",
       "</div>"
      ],
      "text/plain": [
       "      East  South  West\n",
       "0        0      0     0\n",
       "1        0      0     0\n",
       "2        1      0     0\n",
       "3        0      0     1\n",
       "4        0      0     1\n",
       "...    ...    ...   ...\n",
       "9421     0      0     1\n",
       "9422     0      0     0\n",
       "9423     1      0     0\n",
       "9424     1      0     0\n",
       "9425     0      0     0\n",
       "\n",
       "[9426 rows x 3 columns]"
      ]
     },
     "execution_count": 27,
     "metadata": {},
     "output_type": "execute_result"
    }
   ],
   "source": [
    "RegionFactor = pd.get_dummies(data = superstore.Region, drop_first = True, dtype = int)\n",
    "RegionFactor"
   ]
  },
  {
   "cell_type": "code",
   "execution_count": 28,
   "id": "a6f8a2af-3775-4710-99ad-7c779c650ae8",
   "metadata": {},
   "outputs": [],
   "source": [
    "# 9. In the question above, merge the dummy variable columns with the original data. Something like pd.concat([df, df2], axis = 1) can work.\n",
    "# Build a linear regression with statsmodels using sales as the y-variable, and unit price and region dummies as the x-variables. \n",
    "# What is the p-value for south region? Round to nearest 3 decimals. "
   ]
  },
  {
   "cell_type": "code",
   "execution_count": 29,
   "id": "a4c20341-1c8d-4c5e-b35a-fa7b93f6c520",
   "metadata": {
    "tags": []
   },
   "outputs": [
    {
     "data": {
      "text/html": [
       "<div>\n",
       "<style scoped>\n",
       "    .dataframe tbody tr th:only-of-type {\n",
       "        vertical-align: middle;\n",
       "    }\n",
       "\n",
       "    .dataframe tbody tr th {\n",
       "        vertical-align: top;\n",
       "    }\n",
       "\n",
       "    .dataframe thead th {\n",
       "        text-align: right;\n",
       "    }\n",
       "</style>\n",
       "<table border=\"1\" class=\"dataframe\">\n",
       "  <thead>\n",
       "    <tr style=\"text-align: right;\">\n",
       "      <th></th>\n",
       "      <th>Sales</th>\n",
       "      <th>Unit Price</th>\n",
       "      <th>East</th>\n",
       "      <th>South</th>\n",
       "      <th>West</th>\n",
       "    </tr>\n",
       "  </thead>\n",
       "  <tbody>\n",
       "    <tr>\n",
       "      <th>0</th>\n",
       "      <td>53</td>\n",
       "      <td>5</td>\n",
       "      <td>0</td>\n",
       "      <td>0</td>\n",
       "      <td>0</td>\n",
       "    </tr>\n",
       "    <tr>\n",
       "      <th>1</th>\n",
       "      <td>76</td>\n",
       "      <td>6</td>\n",
       "      <td>0</td>\n",
       "      <td>0</td>\n",
       "      <td>0</td>\n",
       "    </tr>\n",
       "    <tr>\n",
       "      <th>2</th>\n",
       "      <td>16</td>\n",
       "      <td>3</td>\n",
       "      <td>1</td>\n",
       "      <td>0</td>\n",
       "      <td>0</td>\n",
       "    </tr>\n",
       "    <tr>\n",
       "      <th>3</th>\n",
       "      <td>65</td>\n",
       "      <td>6</td>\n",
       "      <td>0</td>\n",
       "      <td>0</td>\n",
       "      <td>1</td>\n",
       "    </tr>\n",
       "    <tr>\n",
       "      <th>4</th>\n",
       "      <td>19</td>\n",
       "      <td>2</td>\n",
       "      <td>0</td>\n",
       "      <td>0</td>\n",
       "      <td>1</td>\n",
       "    </tr>\n",
       "    <tr>\n",
       "      <th>...</th>\n",
       "      <td>...</td>\n",
       "      <td>...</td>\n",
       "      <td>...</td>\n",
       "      <td>...</td>\n",
       "      <td>...</td>\n",
       "    </tr>\n",
       "    <tr>\n",
       "      <th>9421</th>\n",
       "      <td>38</td>\n",
       "      <td>3</td>\n",
       "      <td>0</td>\n",
       "      <td>0</td>\n",
       "      <td>1</td>\n",
       "    </tr>\n",
       "    <tr>\n",
       "      <th>9422</th>\n",
       "      <td>53</td>\n",
       "      <td>6</td>\n",
       "      <td>0</td>\n",
       "      <td>0</td>\n",
       "      <td>0</td>\n",
       "    </tr>\n",
       "    <tr>\n",
       "      <th>9423</th>\n",
       "      <td>825</td>\n",
       "      <td>71</td>\n",
       "      <td>1</td>\n",
       "      <td>0</td>\n",
       "      <td>0</td>\n",
       "    </tr>\n",
       "    <tr>\n",
       "      <th>9424</th>\n",
       "      <td>163</td>\n",
       "      <td>41</td>\n",
       "      <td>1</td>\n",
       "      <td>0</td>\n",
       "      <td>0</td>\n",
       "    </tr>\n",
       "    <tr>\n",
       "      <th>9425</th>\n",
       "      <td>242</td>\n",
       "      <td>40</td>\n",
       "      <td>0</td>\n",
       "      <td>0</td>\n",
       "      <td>0</td>\n",
       "    </tr>\n",
       "  </tbody>\n",
       "</table>\n",
       "<p>9426 rows × 5 columns</p>\n",
       "</div>"
      ],
      "text/plain": [
       "      Sales  Unit Price  East  South  West\n",
       "0        53           5     0      0     0\n",
       "1        76           6     0      0     0\n",
       "2        16           3     1      0     0\n",
       "3        65           6     0      0     1\n",
       "4        19           2     0      0     1\n",
       "...     ...         ...   ...    ...   ...\n",
       "9421     38           3     0      0     1\n",
       "9422     53           6     0      0     0\n",
       "9423    825          71     1      0     0\n",
       "9424    163          41     1      0     0\n",
       "9425    242          40     0      0     0\n",
       "\n",
       "[9426 rows x 5 columns]"
      ]
     },
     "execution_count": 29,
     "metadata": {},
     "output_type": "execute_result"
    }
   ],
   "source": [
    "Q9Regression = superstore[['Sales', 'Unit Price']]\n",
    "Q9Regression = pd.concat([Q9Regression, RegionFactor], axis = 1)\n",
    "Q9Regression"
   ]
  },
  {
   "cell_type": "code",
   "execution_count": 30,
   "id": "2cee062a-efd8-4e14-90c2-d0d8ee780987",
   "metadata": {
    "tags": []
   },
   "outputs": [
    {
     "data": {
      "text/html": [
       "<table class=\"simpletable\">\n",
       "<caption>OLS Regression Results</caption>\n",
       "<tr>\n",
       "  <th>Dep. Variable:</th>          <td>Sales</td>      <th>  R-squared:         </th> <td>   0.189</td> \n",
       "</tr>\n",
       "<tr>\n",
       "  <th>Model:</th>                   <td>OLS</td>       <th>  Adj. R-squared:    </th> <td>   0.189</td> \n",
       "</tr>\n",
       "<tr>\n",
       "  <th>Method:</th>             <td>Least Squares</td>  <th>  F-statistic:       </th> <td>   549.2</td> \n",
       "</tr>\n",
       "<tr>\n",
       "  <th>Date:</th>             <td>Sun, 24 Sep 2023</td> <th>  Prob (F-statistic):</th>  <td>  0.00</td>  \n",
       "</tr>\n",
       "<tr>\n",
       "  <th>Time:</th>                 <td>18:12:51</td>     <th>  Log-Likelihood:    </th> <td> -86499.</td> \n",
       "</tr>\n",
       "<tr>\n",
       "  <th>No. Observations:</th>      <td>  9426</td>      <th>  AIC:               </th> <td>1.730e+05</td>\n",
       "</tr>\n",
       "<tr>\n",
       "  <th>Df Residuals:</th>          <td>  9421</td>      <th>  BIC:               </th> <td>1.730e+05</td>\n",
       "</tr>\n",
       "<tr>\n",
       "  <th>Df Model:</th>              <td>     4</td>      <th>                     </th>     <td> </td>    \n",
       "</tr>\n",
       "<tr>\n",
       "  <th>Covariance Type:</th>      <td>nonrobust</td>    <th>                     </th>     <td> </td>    \n",
       "</tr>\n",
       "</table>\n",
       "<table class=\"simpletable\">\n",
       "<tr>\n",
       "       <td></td>         <th>coef</th>     <th>std err</th>      <th>t</th>      <th>P>|t|</th>  <th>[0.025</th>    <th>0.975]</th>  \n",
       "</tr>\n",
       "<tr>\n",
       "  <th>const</th>      <td>  561.1422</td> <td>   46.512</td> <td>   12.065</td> <td> 0.000</td> <td>  469.969</td> <td>  652.315</td>\n",
       "</tr>\n",
       "<tr>\n",
       "  <th>Unit Price</th> <td>    4.0061</td> <td>    0.086</td> <td>   46.764</td> <td> 0.000</td> <td>    3.838</td> <td>    4.174</td>\n",
       "</tr>\n",
       "<tr>\n",
       "  <th>East</th>       <td>  123.2920</td> <td>   62.305</td> <td>    1.979</td> <td> 0.048</td> <td>    1.160</td> <td>  245.424</td>\n",
       "</tr>\n",
       "<tr>\n",
       "  <th>South</th>      <td>  -70.4774</td> <td>   71.946</td> <td>   -0.980</td> <td> 0.327</td> <td> -211.506</td> <td>   70.552</td>\n",
       "</tr>\n",
       "<tr>\n",
       "  <th>West</th>       <td>   37.3967</td> <td>   70.210</td> <td>    0.533</td> <td> 0.594</td> <td> -100.230</td> <td>  175.023</td>\n",
       "</tr>\n",
       "</table>\n",
       "<table class=\"simpletable\">\n",
       "<tr>\n",
       "  <th>Omnibus:</th>       <td>17098.945</td> <th>  Durbin-Watson:     </th>   <td>   1.726</td>  \n",
       "</tr>\n",
       "<tr>\n",
       "  <th>Prob(Omnibus):</th>  <td> 0.000</td>   <th>  Jarque-Bera (JB):  </th> <td>55499361.803</td>\n",
       "</tr>\n",
       "<tr>\n",
       "  <th>Skew:</th>           <td>12.919</td>   <th>  Prob(JB):          </th>   <td>    0.00</td>  \n",
       "</tr>\n",
       "<tr>\n",
       "  <th>Kurtosis:</th>       <td>378.023</td>  <th>  Cond. No.          </th>   <td>1.26e+03</td>  \n",
       "</tr>\n",
       "</table><br/><br/>Notes:<br/>[1] Standard Errors assume that the covariance matrix of the errors is correctly specified.<br/>[2] The condition number is large, 1.26e+03. This might indicate that there are<br/>strong multicollinearity or other numerical problems."
      ],
      "text/latex": [
       "\\begin{center}\n",
       "\\begin{tabular}{lclc}\n",
       "\\toprule\n",
       "\\textbf{Dep. Variable:}    &      Sales       & \\textbf{  R-squared:         } &      0.189    \\\\\n",
       "\\textbf{Model:}            &       OLS        & \\textbf{  Adj. R-squared:    } &      0.189    \\\\\n",
       "\\textbf{Method:}           &  Least Squares   & \\textbf{  F-statistic:       } &      549.2    \\\\\n",
       "\\textbf{Date:}             & Sun, 24 Sep 2023 & \\textbf{  Prob (F-statistic):} &      0.00     \\\\\n",
       "\\textbf{Time:}             &     18:12:51     & \\textbf{  Log-Likelihood:    } &    -86499.    \\\\\n",
       "\\textbf{No. Observations:} &        9426      & \\textbf{  AIC:               } &  1.730e+05    \\\\\n",
       "\\textbf{Df Residuals:}     &        9421      & \\textbf{  BIC:               } &  1.730e+05    \\\\\n",
       "\\textbf{Df Model:}         &           4      & \\textbf{                     } &               \\\\\n",
       "\\textbf{Covariance Type:}  &    nonrobust     & \\textbf{                     } &               \\\\\n",
       "\\bottomrule\n",
       "\\end{tabular}\n",
       "\\begin{tabular}{lcccccc}\n",
       "                    & \\textbf{coef} & \\textbf{std err} & \\textbf{t} & \\textbf{P$> |$t$|$} & \\textbf{[0.025} & \\textbf{0.975]}  \\\\\n",
       "\\midrule\n",
       "\\textbf{const}      &     561.1422  &       46.512     &    12.065  &         0.000        &      469.969    &      652.315     \\\\\n",
       "\\textbf{Unit Price} &       4.0061  &        0.086     &    46.764  &         0.000        &        3.838    &        4.174     \\\\\n",
       "\\textbf{East}       &     123.2920  &       62.305     &     1.979  &         0.048        &        1.160    &      245.424     \\\\\n",
       "\\textbf{South}      &     -70.4774  &       71.946     &    -0.980  &         0.327        &     -211.506    &       70.552     \\\\\n",
       "\\textbf{West}       &      37.3967  &       70.210     &     0.533  &         0.594        &     -100.230    &      175.023     \\\\\n",
       "\\bottomrule\n",
       "\\end{tabular}\n",
       "\\begin{tabular}{lclc}\n",
       "\\textbf{Omnibus:}       & 17098.945 & \\textbf{  Durbin-Watson:     } &      1.726    \\\\\n",
       "\\textbf{Prob(Omnibus):} &    0.000  & \\textbf{  Jarque-Bera (JB):  } & 55499361.803  \\\\\n",
       "\\textbf{Skew:}          &   12.919  & \\textbf{  Prob(JB):          } &       0.00    \\\\\n",
       "\\textbf{Kurtosis:}      &  378.023  & \\textbf{  Cond. No.          } &   1.26e+03    \\\\\n",
       "\\bottomrule\n",
       "\\end{tabular}\n",
       "%\\caption{OLS Regression Results}\n",
       "\\end{center}\n",
       "\n",
       "Notes: \\newline\n",
       " [1] Standard Errors assume that the covariance matrix of the errors is correctly specified. \\newline\n",
       " [2] The condition number is large, 1.26e+03. This might indicate that there are \\newline\n",
       " strong multicollinearity or other numerical problems."
      ],
      "text/plain": [
       "<class 'statsmodels.iolib.summary.Summary'>\n",
       "\"\"\"\n",
       "                            OLS Regression Results                            \n",
       "==============================================================================\n",
       "Dep. Variable:                  Sales   R-squared:                       0.189\n",
       "Model:                            OLS   Adj. R-squared:                  0.189\n",
       "Method:                 Least Squares   F-statistic:                     549.2\n",
       "Date:                Sun, 24 Sep 2023   Prob (F-statistic):               0.00\n",
       "Time:                        18:12:51   Log-Likelihood:                -86499.\n",
       "No. Observations:                9426   AIC:                         1.730e+05\n",
       "Df Residuals:                    9421   BIC:                         1.730e+05\n",
       "Df Model:                           4                                         \n",
       "Covariance Type:            nonrobust                                         \n",
       "==============================================================================\n",
       "                 coef    std err          t      P>|t|      [0.025      0.975]\n",
       "------------------------------------------------------------------------------\n",
       "const        561.1422     46.512     12.065      0.000     469.969     652.315\n",
       "Unit Price     4.0061      0.086     46.764      0.000       3.838       4.174\n",
       "East         123.2920     62.305      1.979      0.048       1.160     245.424\n",
       "South        -70.4774     71.946     -0.980      0.327    -211.506      70.552\n",
       "West          37.3967     70.210      0.533      0.594    -100.230     175.023\n",
       "==============================================================================\n",
       "Omnibus:                    17098.945   Durbin-Watson:                   1.726\n",
       "Prob(Omnibus):                  0.000   Jarque-Bera (JB):         55499361.803\n",
       "Skew:                          12.919   Prob(JB):                         0.00\n",
       "Kurtosis:                     378.023   Cond. No.                     1.26e+03\n",
       "==============================================================================\n",
       "\n",
       "Notes:\n",
       "[1] Standard Errors assume that the covariance matrix of the errors is correctly specified.\n",
       "[2] The condition number is large, 1.26e+03. This might indicate that there are\n",
       "strong multicollinearity or other numerical problems.\n",
       "\"\"\""
      ]
     },
     "execution_count": 30,
     "metadata": {},
     "output_type": "execute_result"
    }
   ],
   "source": [
    "Q9_x = Q9Regression[['Unit Price', 'East', 'South', 'West']]\n",
    "Q9_x = sm.add_constant(Q9_x)\n",
    "Q9_y = Q9Regression['Sales']\n",
    "\n",
    "Q9mod = sm.OLS(Q9_y, Q9_x).fit() \n",
    "\n",
    "Q9pred = Q9mod.predict(Q9_x)\n",
    "\n",
    "Q9mod.summary()"
   ]
  },
  {
   "cell_type": "code",
   "execution_count": 31,
   "id": "ad5e5178-52de-487b-8408-68dc2eb7a423",
   "metadata": {},
   "outputs": [],
   "source": [
    "# 11. Suppose a linear regression generates the following predictions [1, 2, 3], while the true values are [0, 2, 4]. \n",
    "# What is the RMSE? Round to nearest 2 decimals. You can use a function covered in class to do this, but it also works with a calculator. "
   ]
  },
  {
   "cell_type": "code",
   "execution_count": 32,
   "id": "d508aad3-1d34-426e-92b6-2b1bd0b07a65",
   "metadata": {
    "tags": []
   },
   "outputs": [
    {
     "data": {
      "text/plain": [
       "0.816496580927726"
      ]
     },
     "execution_count": 32,
     "metadata": {},
     "output_type": "execute_result"
    }
   ],
   "source": [
    "trueVal = [0, 2, 4]  \n",
    "predVal = [1, 2, 3]\n",
    "\n",
    "MSE = metrics.mean_squared_error(trueVal, predVal)  \n",
    "RMSE = np.sqrt(MSE)\n",
    "RMSE"
   ]
  },
  {
   "cell_type": "code",
   "execution_count": 33,
   "id": "619a4048-05f3-43fd-9eae-155259530e4c",
   "metadata": {},
   "outputs": [],
   "source": [
    "# 12. Using the house data, train a linear regression with sklearn using MEDV as the y-variable, and CRIM, ZN,INDUS, CHAS, NOX, RM, AGE as the x-variables. \n",
    "# Use 25% of the data as test set, random_state=101. \n",
    "# What is the RMSE of the model for the training set? Round to nearest 2 decimals. "
   ]
  },
  {
   "cell_type": "code",
   "execution_count": 34,
   "id": "51d86927-5a4a-4558-a1d0-57330474c085",
   "metadata": {},
   "outputs": [],
   "source": [
    "Q12_y = house['MEDV']\n",
    "Q12_x = house[['CRIM', 'ZN', 'INDUS', 'CHAS', 'NOX', 'RM', 'AGE']]"
   ]
  },
  {
   "cell_type": "code",
   "execution_count": 35,
   "id": "c421ac58-79f7-420c-b234-f368fab95f5d",
   "metadata": {
    "tags": []
   },
   "outputs": [],
   "source": [
    "xQ12tr, xQ12te, yQ12tr, yQ12te = train_test_split(Q12_x, Q12_y, test_size = 0.25, random_state = 101)"
   ]
  },
  {
   "cell_type": "code",
   "execution_count": 36,
   "id": "79c97e9f-9711-4b98-a167-69df6dd202f9",
   "metadata": {
    "tags": []
   },
   "outputs": [
    {
     "data": {
      "text/html": [
       "<style>#sk-container-id-1 {color: black;}#sk-container-id-1 pre{padding: 0;}#sk-container-id-1 div.sk-toggleable {background-color: white;}#sk-container-id-1 label.sk-toggleable__label {cursor: pointer;display: block;width: 100%;margin-bottom: 0;padding: 0.3em;box-sizing: border-box;text-align: center;}#sk-container-id-1 label.sk-toggleable__label-arrow:before {content: \"▸\";float: left;margin-right: 0.25em;color: #696969;}#sk-container-id-1 label.sk-toggleable__label-arrow:hover:before {color: black;}#sk-container-id-1 div.sk-estimator:hover label.sk-toggleable__label-arrow:before {color: black;}#sk-container-id-1 div.sk-toggleable__content {max-height: 0;max-width: 0;overflow: hidden;text-align: left;background-color: #f0f8ff;}#sk-container-id-1 div.sk-toggleable__content pre {margin: 0.2em;color: black;border-radius: 0.25em;background-color: #f0f8ff;}#sk-container-id-1 input.sk-toggleable__control:checked~div.sk-toggleable__content {max-height: 200px;max-width: 100%;overflow: auto;}#sk-container-id-1 input.sk-toggleable__control:checked~label.sk-toggleable__label-arrow:before {content: \"▾\";}#sk-container-id-1 div.sk-estimator input.sk-toggleable__control:checked~label.sk-toggleable__label {background-color: #d4ebff;}#sk-container-id-1 div.sk-label input.sk-toggleable__control:checked~label.sk-toggleable__label {background-color: #d4ebff;}#sk-container-id-1 input.sk-hidden--visually {border: 0;clip: rect(1px 1px 1px 1px);clip: rect(1px, 1px, 1px, 1px);height: 1px;margin: -1px;overflow: hidden;padding: 0;position: absolute;width: 1px;}#sk-container-id-1 div.sk-estimator {font-family: monospace;background-color: #f0f8ff;border: 1px dotted black;border-radius: 0.25em;box-sizing: border-box;margin-bottom: 0.5em;}#sk-container-id-1 div.sk-estimator:hover {background-color: #d4ebff;}#sk-container-id-1 div.sk-parallel-item::after {content: \"\";width: 100%;border-bottom: 1px solid gray;flex-grow: 1;}#sk-container-id-1 div.sk-label:hover label.sk-toggleable__label {background-color: #d4ebff;}#sk-container-id-1 div.sk-serial::before {content: \"\";position: absolute;border-left: 1px solid gray;box-sizing: border-box;top: 0;bottom: 0;left: 50%;z-index: 0;}#sk-container-id-1 div.sk-serial {display: flex;flex-direction: column;align-items: center;background-color: white;padding-right: 0.2em;padding-left: 0.2em;position: relative;}#sk-container-id-1 div.sk-item {position: relative;z-index: 1;}#sk-container-id-1 div.sk-parallel {display: flex;align-items: stretch;justify-content: center;background-color: white;position: relative;}#sk-container-id-1 div.sk-item::before, #sk-container-id-1 div.sk-parallel-item::before {content: \"\";position: absolute;border-left: 1px solid gray;box-sizing: border-box;top: 0;bottom: 0;left: 50%;z-index: -1;}#sk-container-id-1 div.sk-parallel-item {display: flex;flex-direction: column;z-index: 1;position: relative;background-color: white;}#sk-container-id-1 div.sk-parallel-item:first-child::after {align-self: flex-end;width: 50%;}#sk-container-id-1 div.sk-parallel-item:last-child::after {align-self: flex-start;width: 50%;}#sk-container-id-1 div.sk-parallel-item:only-child::after {width: 0;}#sk-container-id-1 div.sk-dashed-wrapped {border: 1px dashed gray;margin: 0 0.4em 0.5em 0.4em;box-sizing: border-box;padding-bottom: 0.4em;background-color: white;}#sk-container-id-1 div.sk-label label {font-family: monospace;font-weight: bold;display: inline-block;line-height: 1.2em;}#sk-container-id-1 div.sk-label-container {text-align: center;}#sk-container-id-1 div.sk-container {/* jupyter's `normalize.less` sets `[hidden] { display: none; }` but bootstrap.min.css set `[hidden] { display: none !important; }` so we also need the `!important` here to be able to override the default hidden behavior on the sphinx rendered scikit-learn.org. See: https://github.com/scikit-learn/scikit-learn/issues/21755 */display: inline-block !important;position: relative;}#sk-container-id-1 div.sk-text-repr-fallback {display: none;}</style><div id=\"sk-container-id-1\" class=\"sk-top-container\"><div class=\"sk-text-repr-fallback\"><pre>LinearRegression()</pre><b>In a Jupyter environment, please rerun this cell to show the HTML representation or trust the notebook. <br />On GitHub, the HTML representation is unable to render, please try loading this page with nbviewer.org.</b></div><div class=\"sk-container\" hidden><div class=\"sk-item\"><div class=\"sk-estimator sk-toggleable\"><input class=\"sk-toggleable__control sk-hidden--visually\" id=\"sk-estimator-id-1\" type=\"checkbox\" checked><label for=\"sk-estimator-id-1\" class=\"sk-toggleable__label sk-toggleable__label-arrow\">LinearRegression</label><div class=\"sk-toggleable__content\"><pre>LinearRegression()</pre></div></div></div></div></div>"
      ],
      "text/plain": [
       "LinearRegression()"
      ]
     },
     "execution_count": 36,
     "metadata": {},
     "output_type": "execute_result"
    }
   ],
   "source": [
    "Q12mod = LinearRegression(fit_intercept = True)\n",
    "Q12mod.fit(xQ12tr, yQ12tr)"
   ]
  },
  {
   "cell_type": "code",
   "execution_count": 58,
   "id": "56ff5cc7-697f-473a-9fbd-8bf8cf252ae5",
   "metadata": {
    "tags": []
   },
   "outputs": [],
   "source": [
    "yQ12tr_pred = Q12mod.predict(xQ12tr)"
   ]
  },
  {
   "cell_type": "code",
   "execution_count": 59,
   "id": "8be87082-392c-49cc-8d70-fd1062a48bcc",
   "metadata": {
    "tags": []
   },
   "outputs": [
    {
     "data": {
      "text/plain": [
       "5.668558198188826"
      ]
     },
     "execution_count": 59,
     "metadata": {},
     "output_type": "execute_result"
    }
   ],
   "source": [
    "np.sqrt(metrics.mean_squared_error(yQ12tr, yQ12tr_pred))"
   ]
  },
  {
   "cell_type": "code",
   "execution_count": 40,
   "id": "9ba338c8-372a-418b-b8b7-e05c9796355a",
   "metadata": {},
   "outputs": [],
   "source": [
    "# 13. Using the house data, train a Lasso and Ridge regression separately with sklearn using MEDV as the y-variable, and CRIM, ZN,INDUS, CHAS, NOX, RM, AGE as the x-variables. \n",
    "# Use random_state=101. Which model generates more coefficients close to 0? "
   ]
  },
  {
   "cell_type": "code",
   "execution_count": 41,
   "id": "1079b7e6-110f-4c10-a18b-204e8285b06b",
   "metadata": {},
   "outputs": [],
   "source": [
    "#Note: Reusing x & y var from 12"
   ]
  },
  {
   "cell_type": "code",
   "execution_count": 42,
   "id": "55540efe-15be-4c7e-9518-ec5f6808583b",
   "metadata": {
    "tags": []
   },
   "outputs": [
    {
     "data": {
      "text/html": [
       "<style>#sk-container-id-2 {color: black;}#sk-container-id-2 pre{padding: 0;}#sk-container-id-2 div.sk-toggleable {background-color: white;}#sk-container-id-2 label.sk-toggleable__label {cursor: pointer;display: block;width: 100%;margin-bottom: 0;padding: 0.3em;box-sizing: border-box;text-align: center;}#sk-container-id-2 label.sk-toggleable__label-arrow:before {content: \"▸\";float: left;margin-right: 0.25em;color: #696969;}#sk-container-id-2 label.sk-toggleable__label-arrow:hover:before {color: black;}#sk-container-id-2 div.sk-estimator:hover label.sk-toggleable__label-arrow:before {color: black;}#sk-container-id-2 div.sk-toggleable__content {max-height: 0;max-width: 0;overflow: hidden;text-align: left;background-color: #f0f8ff;}#sk-container-id-2 div.sk-toggleable__content pre {margin: 0.2em;color: black;border-radius: 0.25em;background-color: #f0f8ff;}#sk-container-id-2 input.sk-toggleable__control:checked~div.sk-toggleable__content {max-height: 200px;max-width: 100%;overflow: auto;}#sk-container-id-2 input.sk-toggleable__control:checked~label.sk-toggleable__label-arrow:before {content: \"▾\";}#sk-container-id-2 div.sk-estimator input.sk-toggleable__control:checked~label.sk-toggleable__label {background-color: #d4ebff;}#sk-container-id-2 div.sk-label input.sk-toggleable__control:checked~label.sk-toggleable__label {background-color: #d4ebff;}#sk-container-id-2 input.sk-hidden--visually {border: 0;clip: rect(1px 1px 1px 1px);clip: rect(1px, 1px, 1px, 1px);height: 1px;margin: -1px;overflow: hidden;padding: 0;position: absolute;width: 1px;}#sk-container-id-2 div.sk-estimator {font-family: monospace;background-color: #f0f8ff;border: 1px dotted black;border-radius: 0.25em;box-sizing: border-box;margin-bottom: 0.5em;}#sk-container-id-2 div.sk-estimator:hover {background-color: #d4ebff;}#sk-container-id-2 div.sk-parallel-item::after {content: \"\";width: 100%;border-bottom: 1px solid gray;flex-grow: 1;}#sk-container-id-2 div.sk-label:hover label.sk-toggleable__label {background-color: #d4ebff;}#sk-container-id-2 div.sk-serial::before {content: \"\";position: absolute;border-left: 1px solid gray;box-sizing: border-box;top: 0;bottom: 0;left: 50%;z-index: 0;}#sk-container-id-2 div.sk-serial {display: flex;flex-direction: column;align-items: center;background-color: white;padding-right: 0.2em;padding-left: 0.2em;position: relative;}#sk-container-id-2 div.sk-item {position: relative;z-index: 1;}#sk-container-id-2 div.sk-parallel {display: flex;align-items: stretch;justify-content: center;background-color: white;position: relative;}#sk-container-id-2 div.sk-item::before, #sk-container-id-2 div.sk-parallel-item::before {content: \"\";position: absolute;border-left: 1px solid gray;box-sizing: border-box;top: 0;bottom: 0;left: 50%;z-index: -1;}#sk-container-id-2 div.sk-parallel-item {display: flex;flex-direction: column;z-index: 1;position: relative;background-color: white;}#sk-container-id-2 div.sk-parallel-item:first-child::after {align-self: flex-end;width: 50%;}#sk-container-id-2 div.sk-parallel-item:last-child::after {align-self: flex-start;width: 50%;}#sk-container-id-2 div.sk-parallel-item:only-child::after {width: 0;}#sk-container-id-2 div.sk-dashed-wrapped {border: 1px dashed gray;margin: 0 0.4em 0.5em 0.4em;box-sizing: border-box;padding-bottom: 0.4em;background-color: white;}#sk-container-id-2 div.sk-label label {font-family: monospace;font-weight: bold;display: inline-block;line-height: 1.2em;}#sk-container-id-2 div.sk-label-container {text-align: center;}#sk-container-id-2 div.sk-container {/* jupyter's `normalize.less` sets `[hidden] { display: none; }` but bootstrap.min.css set `[hidden] { display: none !important; }` so we also need the `!important` here to be able to override the default hidden behavior on the sphinx rendered scikit-learn.org. See: https://github.com/scikit-learn/scikit-learn/issues/21755 */display: inline-block !important;position: relative;}#sk-container-id-2 div.sk-text-repr-fallback {display: none;}</style><div id=\"sk-container-id-2\" class=\"sk-top-container\"><div class=\"sk-text-repr-fallback\"><pre>Lasso()</pre><b>In a Jupyter environment, please rerun this cell to show the HTML representation or trust the notebook. <br />On GitHub, the HTML representation is unable to render, please try loading this page with nbviewer.org.</b></div><div class=\"sk-container\" hidden><div class=\"sk-item\"><div class=\"sk-estimator sk-toggleable\"><input class=\"sk-toggleable__control sk-hidden--visually\" id=\"sk-estimator-id-2\" type=\"checkbox\" checked><label for=\"sk-estimator-id-2\" class=\"sk-toggleable__label sk-toggleable__label-arrow\">Lasso</label><div class=\"sk-toggleable__content\"><pre>Lasso()</pre></div></div></div></div></div>"
      ],
      "text/plain": [
       "Lasso()"
      ]
     },
     "execution_count": 42,
     "metadata": {},
     "output_type": "execute_result"
    }
   ],
   "source": [
    "Q13Lasso = Lasso()\n",
    "Q13Lasso.fit(Q12_x, Q12_y)"
   ]
  },
  {
   "cell_type": "code",
   "execution_count": 43,
   "id": "6dcee35b-414a-4fd6-9d93-eec3e6adfbd6",
   "metadata": {
    "tags": []
   },
   "outputs": [
    {
     "data": {
      "text/html": [
       "<div>\n",
       "<style scoped>\n",
       "    .dataframe tbody tr th:only-of-type {\n",
       "        vertical-align: middle;\n",
       "    }\n",
       "\n",
       "    .dataframe tbody tr th {\n",
       "        vertical-align: top;\n",
       "    }\n",
       "\n",
       "    .dataframe thead th {\n",
       "        text-align: right;\n",
       "    }\n",
       "</style>\n",
       "<table border=\"1\" class=\"dataframe\">\n",
       "  <thead>\n",
       "    <tr style=\"text-align: right;\">\n",
       "      <th></th>\n",
       "      <th>Coefficient</th>\n",
       "    </tr>\n",
       "  </thead>\n",
       "  <tbody>\n",
       "    <tr>\n",
       "      <th>CRIM</th>\n",
       "      <td>-0.196625</td>\n",
       "    </tr>\n",
       "    <tr>\n",
       "      <th>ZN</th>\n",
       "      <td>0.028098</td>\n",
       "    </tr>\n",
       "    <tr>\n",
       "      <th>INDUS</th>\n",
       "      <td>-0.201293</td>\n",
       "    </tr>\n",
       "    <tr>\n",
       "      <th>CHAS</th>\n",
       "      <td>0.000000</td>\n",
       "    </tr>\n",
       "    <tr>\n",
       "      <th>NOX</th>\n",
       "      <td>-0.000000</td>\n",
       "    </tr>\n",
       "    <tr>\n",
       "      <th>RM</th>\n",
       "      <td>5.246829</td>\n",
       "    </tr>\n",
       "    <tr>\n",
       "      <th>AGE</th>\n",
       "      <td>-0.024476</td>\n",
       "    </tr>\n",
       "  </tbody>\n",
       "</table>\n",
       "</div>"
      ],
      "text/plain": [
       "       Coefficient\n",
       "CRIM     -0.196625\n",
       "ZN        0.028098\n",
       "INDUS    -0.201293\n",
       "CHAS      0.000000\n",
       "NOX      -0.000000\n",
       "RM        5.246829\n",
       "AGE      -0.024476"
      ]
     },
     "execution_count": 43,
     "metadata": {},
     "output_type": "execute_result"
    }
   ],
   "source": [
    "coeffLasso = pd.DataFrame(Q13Lasso.coef_,Q12_x.columns,columns=['Coefficient'])\n",
    "coeffLasso"
   ]
  },
  {
   "cell_type": "code",
   "execution_count": 44,
   "id": "657d476c-daf4-4ad5-b82d-ceaa9e5144b9",
   "metadata": {
    "tags": []
   },
   "outputs": [
    {
     "data": {
      "text/html": [
       "<style>#sk-container-id-3 {color: black;}#sk-container-id-3 pre{padding: 0;}#sk-container-id-3 div.sk-toggleable {background-color: white;}#sk-container-id-3 label.sk-toggleable__label {cursor: pointer;display: block;width: 100%;margin-bottom: 0;padding: 0.3em;box-sizing: border-box;text-align: center;}#sk-container-id-3 label.sk-toggleable__label-arrow:before {content: \"▸\";float: left;margin-right: 0.25em;color: #696969;}#sk-container-id-3 label.sk-toggleable__label-arrow:hover:before {color: black;}#sk-container-id-3 div.sk-estimator:hover label.sk-toggleable__label-arrow:before {color: black;}#sk-container-id-3 div.sk-toggleable__content {max-height: 0;max-width: 0;overflow: hidden;text-align: left;background-color: #f0f8ff;}#sk-container-id-3 div.sk-toggleable__content pre {margin: 0.2em;color: black;border-radius: 0.25em;background-color: #f0f8ff;}#sk-container-id-3 input.sk-toggleable__control:checked~div.sk-toggleable__content {max-height: 200px;max-width: 100%;overflow: auto;}#sk-container-id-3 input.sk-toggleable__control:checked~label.sk-toggleable__label-arrow:before {content: \"▾\";}#sk-container-id-3 div.sk-estimator input.sk-toggleable__control:checked~label.sk-toggleable__label {background-color: #d4ebff;}#sk-container-id-3 div.sk-label input.sk-toggleable__control:checked~label.sk-toggleable__label {background-color: #d4ebff;}#sk-container-id-3 input.sk-hidden--visually {border: 0;clip: rect(1px 1px 1px 1px);clip: rect(1px, 1px, 1px, 1px);height: 1px;margin: -1px;overflow: hidden;padding: 0;position: absolute;width: 1px;}#sk-container-id-3 div.sk-estimator {font-family: monospace;background-color: #f0f8ff;border: 1px dotted black;border-radius: 0.25em;box-sizing: border-box;margin-bottom: 0.5em;}#sk-container-id-3 div.sk-estimator:hover {background-color: #d4ebff;}#sk-container-id-3 div.sk-parallel-item::after {content: \"\";width: 100%;border-bottom: 1px solid gray;flex-grow: 1;}#sk-container-id-3 div.sk-label:hover label.sk-toggleable__label {background-color: #d4ebff;}#sk-container-id-3 div.sk-serial::before {content: \"\";position: absolute;border-left: 1px solid gray;box-sizing: border-box;top: 0;bottom: 0;left: 50%;z-index: 0;}#sk-container-id-3 div.sk-serial {display: flex;flex-direction: column;align-items: center;background-color: white;padding-right: 0.2em;padding-left: 0.2em;position: relative;}#sk-container-id-3 div.sk-item {position: relative;z-index: 1;}#sk-container-id-3 div.sk-parallel {display: flex;align-items: stretch;justify-content: center;background-color: white;position: relative;}#sk-container-id-3 div.sk-item::before, #sk-container-id-3 div.sk-parallel-item::before {content: \"\";position: absolute;border-left: 1px solid gray;box-sizing: border-box;top: 0;bottom: 0;left: 50%;z-index: -1;}#sk-container-id-3 div.sk-parallel-item {display: flex;flex-direction: column;z-index: 1;position: relative;background-color: white;}#sk-container-id-3 div.sk-parallel-item:first-child::after {align-self: flex-end;width: 50%;}#sk-container-id-3 div.sk-parallel-item:last-child::after {align-self: flex-start;width: 50%;}#sk-container-id-3 div.sk-parallel-item:only-child::after {width: 0;}#sk-container-id-3 div.sk-dashed-wrapped {border: 1px dashed gray;margin: 0 0.4em 0.5em 0.4em;box-sizing: border-box;padding-bottom: 0.4em;background-color: white;}#sk-container-id-3 div.sk-label label {font-family: monospace;font-weight: bold;display: inline-block;line-height: 1.2em;}#sk-container-id-3 div.sk-label-container {text-align: center;}#sk-container-id-3 div.sk-container {/* jupyter's `normalize.less` sets `[hidden] { display: none; }` but bootstrap.min.css set `[hidden] { display: none !important; }` so we also need the `!important` here to be able to override the default hidden behavior on the sphinx rendered scikit-learn.org. See: https://github.com/scikit-learn/scikit-learn/issues/21755 */display: inline-block !important;position: relative;}#sk-container-id-3 div.sk-text-repr-fallback {display: none;}</style><div id=\"sk-container-id-3\" class=\"sk-top-container\"><div class=\"sk-text-repr-fallback\"><pre>Ridge()</pre><b>In a Jupyter environment, please rerun this cell to show the HTML representation or trust the notebook. <br />On GitHub, the HTML representation is unable to render, please try loading this page with nbviewer.org.</b></div><div class=\"sk-container\" hidden><div class=\"sk-item\"><div class=\"sk-estimator sk-toggleable\"><input class=\"sk-toggleable__control sk-hidden--visually\" id=\"sk-estimator-id-3\" type=\"checkbox\" checked><label for=\"sk-estimator-id-3\" class=\"sk-toggleable__label sk-toggleable__label-arrow\">Ridge</label><div class=\"sk-toggleable__content\"><pre>Ridge()</pre></div></div></div></div></div>"
      ],
      "text/plain": [
       "Ridge()"
      ]
     },
     "execution_count": 44,
     "metadata": {},
     "output_type": "execute_result"
    }
   ],
   "source": [
    "Q13Ridge = Ridge()\n",
    "Q13Ridge.fit(Q12_x, Q12_y)"
   ]
  },
  {
   "cell_type": "code",
   "execution_count": 45,
   "id": "2cf4bd41-fc32-4ee7-aed1-2f04abecee4a",
   "metadata": {
    "tags": []
   },
   "outputs": [
    {
     "data": {
      "text/html": [
       "<div>\n",
       "<style scoped>\n",
       "    .dataframe tbody tr th:only-of-type {\n",
       "        vertical-align: middle;\n",
       "    }\n",
       "\n",
       "    .dataframe tbody tr th {\n",
       "        vertical-align: top;\n",
       "    }\n",
       "\n",
       "    .dataframe thead th {\n",
       "        text-align: right;\n",
       "    }\n",
       "</style>\n",
       "<table border=\"1\" class=\"dataframe\">\n",
       "  <thead>\n",
       "    <tr style=\"text-align: right;\">\n",
       "      <th></th>\n",
       "      <th>Coefficient</th>\n",
       "    </tr>\n",
       "  </thead>\n",
       "  <tbody>\n",
       "    <tr>\n",
       "      <th>CRIM</th>\n",
       "      <td>-0.172047</td>\n",
       "    </tr>\n",
       "    <tr>\n",
       "      <th>ZN</th>\n",
       "      <td>0.014509</td>\n",
       "    </tr>\n",
       "    <tr>\n",
       "      <th>INDUS</th>\n",
       "      <td>-0.143715</td>\n",
       "    </tr>\n",
       "    <tr>\n",
       "      <th>CHAS</th>\n",
       "      <td>4.696820</td>\n",
       "    </tr>\n",
       "    <tr>\n",
       "      <th>NOX</th>\n",
       "      <td>-3.017937</td>\n",
       "    </tr>\n",
       "    <tr>\n",
       "      <th>RM</th>\n",
       "      <td>7.356429</td>\n",
       "    </tr>\n",
       "    <tr>\n",
       "      <th>AGE</th>\n",
       "      <td>-0.025762</td>\n",
       "    </tr>\n",
       "  </tbody>\n",
       "</table>\n",
       "</div>"
      ],
      "text/plain": [
       "       Coefficient\n",
       "CRIM     -0.172047\n",
       "ZN        0.014509\n",
       "INDUS    -0.143715\n",
       "CHAS      4.696820\n",
       "NOX      -3.017937\n",
       "RM        7.356429\n",
       "AGE      -0.025762"
      ]
     },
     "execution_count": 45,
     "metadata": {},
     "output_type": "execute_result"
    }
   ],
   "source": [
    "coeffRidge = pd.DataFrame(Q13Ridge.coef_,Q12_x.columns,columns=['Coefficient'])\n",
    "coeffRidge"
   ]
  },
  {
   "cell_type": "code",
   "execution_count": 46,
   "id": "db4b1ae6-7770-441e-aec4-0cfb1b953a89",
   "metadata": {
    "tags": []
   },
   "outputs": [
    {
     "data": {
      "text/plain": [
       "(4.852532665485569, 8.708297854390478)"
      ]
     },
     "execution_count": 46,
     "metadata": {},
     "output_type": "execute_result"
    }
   ],
   "source": [
    "#Compare value\n",
    "coeffLasso.Coefficient.sum(), coeffRidge.Coefficient.sum()"
   ]
  },
  {
   "cell_type": "code",
   "execution_count": 47,
   "id": "b8a17d95-6998-4775-ba44-1a2d28705852",
   "metadata": {},
   "outputs": [],
   "source": [
    "# 15. Using the house data, build a linear regression with statsmodels using MEDV as the y-variable, and all other 12 variables as x-variables.\n",
    "# Which variables are not statistically significant? Choose all that apply. "
   ]
  },
  {
   "cell_type": "code",
   "execution_count": 48,
   "id": "60c8c145-7706-444d-a842-69718409f91e",
   "metadata": {
    "tags": []
   },
   "outputs": [],
   "source": [
    "Q15_y = house['MEDV']\n",
    "Q15_x = house.iloc[:, 0:12]\n",
    "Q15_x = sm.add_constant(Q15_x)"
   ]
  },
  {
   "cell_type": "code",
   "execution_count": 49,
   "id": "86fe80bc-48e0-4635-a8ac-c40f5c0c3ad5",
   "metadata": {
    "tags": []
   },
   "outputs": [
    {
     "data": {
      "text/html": [
       "<table class=\"simpletable\">\n",
       "<caption>OLS Regression Results</caption>\n",
       "<tr>\n",
       "  <th>Dep. Variable:</th>          <td>MEDV</td>       <th>  R-squared:         </th> <td>   0.734</td> \n",
       "</tr>\n",
       "<tr>\n",
       "  <th>Model:</th>                   <td>OLS</td>       <th>  Adj. R-squared:    </th> <td>   0.728</td> \n",
       "</tr>\n",
       "<tr>\n",
       "  <th>Method:</th>             <td>Least Squares</td>  <th>  F-statistic:       </th> <td>   113.5</td> \n",
       "</tr>\n",
       "<tr>\n",
       "  <th>Date:</th>             <td>Sun, 24 Sep 2023</td> <th>  Prob (F-statistic):</th> <td>2.58e-133</td>\n",
       "</tr>\n",
       "<tr>\n",
       "  <th>Time:</th>                 <td>18:12:52</td>     <th>  Log-Likelihood:    </th> <td> -1505.1</td> \n",
       "</tr>\n",
       "<tr>\n",
       "  <th>No. Observations:</th>      <td>   506</td>      <th>  AIC:               </th> <td>   3036.</td> \n",
       "</tr>\n",
       "<tr>\n",
       "  <th>Df Residuals:</th>          <td>   493</td>      <th>  BIC:               </th> <td>   3091.</td> \n",
       "</tr>\n",
       "<tr>\n",
       "  <th>Df Model:</th>              <td>    12</td>      <th>                     </th>     <td> </td>    \n",
       "</tr>\n",
       "<tr>\n",
       "  <th>Covariance Type:</th>      <td>nonrobust</td>    <th>                     </th>     <td> </td>    \n",
       "</tr>\n",
       "</table>\n",
       "<table class=\"simpletable\">\n",
       "<tr>\n",
       "     <td></td>        <th>coef</th>     <th>std err</th>      <th>t</th>      <th>P>|t|</th>  <th>[0.025</th>    <th>0.975]</th>  \n",
       "</tr>\n",
       "<tr>\n",
       "  <th>const</th>   <td>   41.6980</td> <td>    4.938</td> <td>    8.444</td> <td> 0.000</td> <td>   31.995</td> <td>   51.401</td>\n",
       "</tr>\n",
       "<tr>\n",
       "  <th>CRIM</th>    <td>   -0.1196</td> <td>    0.033</td> <td>   -3.637</td> <td> 0.000</td> <td>   -0.184</td> <td>   -0.055</td>\n",
       "</tr>\n",
       "<tr>\n",
       "  <th>ZN</th>      <td>    0.0469</td> <td>    0.014</td> <td>    3.379</td> <td> 0.001</td> <td>    0.020</td> <td>    0.074</td>\n",
       "</tr>\n",
       "<tr>\n",
       "  <th>INDUS</th>   <td>    0.0138</td> <td>    0.062</td> <td>    0.222</td> <td> 0.824</td> <td>   -0.108</td> <td>    0.136</td>\n",
       "</tr>\n",
       "<tr>\n",
       "  <th>CHAS</th>    <td>    2.8450</td> <td>    0.870</td> <td>    3.269</td> <td> 0.001</td> <td>    1.135</td> <td>    4.555</td>\n",
       "</tr>\n",
       "<tr>\n",
       "  <th>NOX</th>     <td>  -18.7944</td> <td>    3.853</td> <td>   -4.878</td> <td> 0.000</td> <td>  -26.365</td> <td>  -11.224</td>\n",
       "</tr>\n",
       "<tr>\n",
       "  <th>RM</th>      <td>    3.6511</td> <td>    0.420</td> <td>    8.685</td> <td> 0.000</td> <td>    2.825</td> <td>    4.477</td>\n",
       "</tr>\n",
       "<tr>\n",
       "  <th>AGE</th>     <td>    0.0037</td> <td>    0.013</td> <td>    0.278</td> <td> 0.781</td> <td>   -0.022</td> <td>    0.030</td>\n",
       "</tr>\n",
       "<tr>\n",
       "  <th>DIS</th>     <td>   -1.4904</td> <td>    0.202</td> <td>   -7.389</td> <td> 0.000</td> <td>   -1.887</td> <td>   -1.094</td>\n",
       "</tr>\n",
       "<tr>\n",
       "  <th>RAD</th>     <td>    0.2883</td> <td>    0.067</td> <td>    4.309</td> <td> 0.000</td> <td>    0.157</td> <td>    0.420</td>\n",
       "</tr>\n",
       "<tr>\n",
       "  <th>TAX</th>     <td>   -0.0127</td> <td>    0.004</td> <td>   -3.335</td> <td> 0.001</td> <td>   -0.020</td> <td>   -0.005</td>\n",
       "</tr>\n",
       "<tr>\n",
       "  <th>PTRATIO</th> <td>   -0.9381</td> <td>    0.132</td> <td>   -7.093</td> <td> 0.000</td> <td>   -1.198</td> <td>   -0.678</td>\n",
       "</tr>\n",
       "<tr>\n",
       "  <th>LSTAT</th>   <td>   -0.5533</td> <td>    0.051</td> <td>  -10.929</td> <td> 0.000</td> <td>   -0.653</td> <td>   -0.454</td>\n",
       "</tr>\n",
       "</table>\n",
       "<table class=\"simpletable\">\n",
       "<tr>\n",
       "  <th>Omnibus:</th>       <td>170.972</td> <th>  Durbin-Watson:     </th> <td>   1.077</td> \n",
       "</tr>\n",
       "<tr>\n",
       "  <th>Prob(Omnibus):</th> <td> 0.000</td>  <th>  Jarque-Bera (JB):  </th> <td> 707.618</td> \n",
       "</tr>\n",
       "<tr>\n",
       "  <th>Skew:</th>          <td> 1.476</td>  <th>  Prob(JB):          </th> <td>2.20e-154</td>\n",
       "</tr>\n",
       "<tr>\n",
       "  <th>Kurtosis:</th>      <td> 7.984</td>  <th>  Cond. No.          </th> <td>1.17e+04</td> \n",
       "</tr>\n",
       "</table><br/><br/>Notes:<br/>[1] Standard Errors assume that the covariance matrix of the errors is correctly specified.<br/>[2] The condition number is large, 1.17e+04. This might indicate that there are<br/>strong multicollinearity or other numerical problems."
      ],
      "text/latex": [
       "\\begin{center}\n",
       "\\begin{tabular}{lclc}\n",
       "\\toprule\n",
       "\\textbf{Dep. Variable:}    &       MEDV       & \\textbf{  R-squared:         } &     0.734   \\\\\n",
       "\\textbf{Model:}            &       OLS        & \\textbf{  Adj. R-squared:    } &     0.728   \\\\\n",
       "\\textbf{Method:}           &  Least Squares   & \\textbf{  F-statistic:       } &     113.5   \\\\\n",
       "\\textbf{Date:}             & Sun, 24 Sep 2023 & \\textbf{  Prob (F-statistic):} & 2.58e-133   \\\\\n",
       "\\textbf{Time:}             &     18:12:52     & \\textbf{  Log-Likelihood:    } &   -1505.1   \\\\\n",
       "\\textbf{No. Observations:} &         506      & \\textbf{  AIC:               } &     3036.   \\\\\n",
       "\\textbf{Df Residuals:}     &         493      & \\textbf{  BIC:               } &     3091.   \\\\\n",
       "\\textbf{Df Model:}         &          12      & \\textbf{                     } &             \\\\\n",
       "\\textbf{Covariance Type:}  &    nonrobust     & \\textbf{                     } &             \\\\\n",
       "\\bottomrule\n",
       "\\end{tabular}\n",
       "\\begin{tabular}{lcccccc}\n",
       "                 & \\textbf{coef} & \\textbf{std err} & \\textbf{t} & \\textbf{P$> |$t$|$} & \\textbf{[0.025} & \\textbf{0.975]}  \\\\\n",
       "\\midrule\n",
       "\\textbf{const}   &      41.6980  &        4.938     &     8.444  &         0.000        &       31.995    &       51.401     \\\\\n",
       "\\textbf{CRIM}    &      -0.1196  &        0.033     &    -3.637  &         0.000        &       -0.184    &       -0.055     \\\\\n",
       "\\textbf{ZN}      &       0.0469  &        0.014     &     3.379  &         0.001        &        0.020    &        0.074     \\\\\n",
       "\\textbf{INDUS}   &       0.0138  &        0.062     &     0.222  &         0.824        &       -0.108    &        0.136     \\\\\n",
       "\\textbf{CHAS}    &       2.8450  &        0.870     &     3.269  &         0.001        &        1.135    &        4.555     \\\\\n",
       "\\textbf{NOX}     &     -18.7944  &        3.853     &    -4.878  &         0.000        &      -26.365    &      -11.224     \\\\\n",
       "\\textbf{RM}      &       3.6511  &        0.420     &     8.685  &         0.000        &        2.825    &        4.477     \\\\\n",
       "\\textbf{AGE}     &       0.0037  &        0.013     &     0.278  &         0.781        &       -0.022    &        0.030     \\\\\n",
       "\\textbf{DIS}     &      -1.4904  &        0.202     &    -7.389  &         0.000        &       -1.887    &       -1.094     \\\\\n",
       "\\textbf{RAD}     &       0.2883  &        0.067     &     4.309  &         0.000        &        0.157    &        0.420     \\\\\n",
       "\\textbf{TAX}     &      -0.0127  &        0.004     &    -3.335  &         0.001        &       -0.020    &       -0.005     \\\\\n",
       "\\textbf{PTRATIO} &      -0.9381  &        0.132     &    -7.093  &         0.000        &       -1.198    &       -0.678     \\\\\n",
       "\\textbf{LSTAT}   &      -0.5533  &        0.051     &   -10.929  &         0.000        &       -0.653    &       -0.454     \\\\\n",
       "\\bottomrule\n",
       "\\end{tabular}\n",
       "\\begin{tabular}{lclc}\n",
       "\\textbf{Omnibus:}       & 170.972 & \\textbf{  Durbin-Watson:     } &     1.077  \\\\\n",
       "\\textbf{Prob(Omnibus):} &   0.000 & \\textbf{  Jarque-Bera (JB):  } &   707.618  \\\\\n",
       "\\textbf{Skew:}          &   1.476 & \\textbf{  Prob(JB):          } & 2.20e-154  \\\\\n",
       "\\textbf{Kurtosis:}      &   7.984 & \\textbf{  Cond. No.          } &  1.17e+04  \\\\\n",
       "\\bottomrule\n",
       "\\end{tabular}\n",
       "%\\caption{OLS Regression Results}\n",
       "\\end{center}\n",
       "\n",
       "Notes: \\newline\n",
       " [1] Standard Errors assume that the covariance matrix of the errors is correctly specified. \\newline\n",
       " [2] The condition number is large, 1.17e+04. This might indicate that there are \\newline\n",
       " strong multicollinearity or other numerical problems."
      ],
      "text/plain": [
       "<class 'statsmodels.iolib.summary.Summary'>\n",
       "\"\"\"\n",
       "                            OLS Regression Results                            \n",
       "==============================================================================\n",
       "Dep. Variable:                   MEDV   R-squared:                       0.734\n",
       "Model:                            OLS   Adj. R-squared:                  0.728\n",
       "Method:                 Least Squares   F-statistic:                     113.5\n",
       "Date:                Sun, 24 Sep 2023   Prob (F-statistic):          2.58e-133\n",
       "Time:                        18:12:52   Log-Likelihood:                -1505.1\n",
       "No. Observations:                 506   AIC:                             3036.\n",
       "Df Residuals:                     493   BIC:                             3091.\n",
       "Df Model:                          12                                         \n",
       "Covariance Type:            nonrobust                                         \n",
       "==============================================================================\n",
       "                 coef    std err          t      P>|t|      [0.025      0.975]\n",
       "------------------------------------------------------------------------------\n",
       "const         41.6980      4.938      8.444      0.000      31.995      51.401\n",
       "CRIM          -0.1196      0.033     -3.637      0.000      -0.184      -0.055\n",
       "ZN             0.0469      0.014      3.379      0.001       0.020       0.074\n",
       "INDUS          0.0138      0.062      0.222      0.824      -0.108       0.136\n",
       "CHAS           2.8450      0.870      3.269      0.001       1.135       4.555\n",
       "NOX          -18.7944      3.853     -4.878      0.000     -26.365     -11.224\n",
       "RM             3.6511      0.420      8.685      0.000       2.825       4.477\n",
       "AGE            0.0037      0.013      0.278      0.781      -0.022       0.030\n",
       "DIS           -1.4904      0.202     -7.389      0.000      -1.887      -1.094\n",
       "RAD            0.2883      0.067      4.309      0.000       0.157       0.420\n",
       "TAX           -0.0127      0.004     -3.335      0.001      -0.020      -0.005\n",
       "PTRATIO       -0.9381      0.132     -7.093      0.000      -1.198      -0.678\n",
       "LSTAT         -0.5533      0.051    -10.929      0.000      -0.653      -0.454\n",
       "==============================================================================\n",
       "Omnibus:                      170.972   Durbin-Watson:                   1.077\n",
       "Prob(Omnibus):                  0.000   Jarque-Bera (JB):              707.618\n",
       "Skew:                           1.476   Prob(JB):                    2.20e-154\n",
       "Kurtosis:                       7.984   Cond. No.                     1.17e+04\n",
       "==============================================================================\n",
       "\n",
       "Notes:\n",
       "[1] Standard Errors assume that the covariance matrix of the errors is correctly specified.\n",
       "[2] The condition number is large, 1.17e+04. This might indicate that there are\n",
       "strong multicollinearity or other numerical problems.\n",
       "\"\"\""
      ]
     },
     "execution_count": 49,
     "metadata": {},
     "output_type": "execute_result"
    }
   ],
   "source": [
    "Q15mod = sm.OLS(Q15_y, Q15_x).fit() \n",
    "\n",
    "Q15pred = Q15mod.predict(Q15_x)\n",
    "\n",
    "Q15mod.summary()"
   ]
  },
  {
   "cell_type": "code",
   "execution_count": 50,
   "id": "7a26a593-53f8-4338-b4f6-0b23acd01588",
   "metadata": {},
   "outputs": [],
   "source": [
    "# 16. Using the house data, build a linear regression with statsmodels using MEDV as the y-variable, and 'CRIM', 'NOX', 'RM' as x-variables.\n",
    "# What is the MEDV predicted for a data point with CRIM = 0.1, NOX = 0.6, and RM = 4? Round to nearest 2 decimals. "
   ]
  },
  {
   "cell_type": "code",
   "execution_count": 51,
   "id": "3e24db98-3ce6-4ae3-83dd-e562b615be9a",
   "metadata": {
    "tags": []
   },
   "outputs": [],
   "source": [
    "Q16_y = house['MEDV']\n",
    "Q16_x = house[['CRIM', 'NOX', 'RM']]\n",
    "Q16_x = sm.add_constant(Q16_x)"
   ]
  },
  {
   "cell_type": "code",
   "execution_count": 52,
   "id": "3fe88a16-84a4-4498-9d55-cd8ecc62c3cd",
   "metadata": {
    "tags": []
   },
   "outputs": [
    {
     "data": {
      "text/html": [
       "<table class=\"simpletable\">\n",
       "<caption>OLS Regression Results</caption>\n",
       "<tr>\n",
       "  <th>Dep. Variable:</th>          <td>MEDV</td>       <th>  R-squared:         </th> <td>   0.563</td>\n",
       "</tr>\n",
       "<tr>\n",
       "  <th>Model:</th>                   <td>OLS</td>       <th>  Adj. R-squared:    </th> <td>   0.560</td>\n",
       "</tr>\n",
       "<tr>\n",
       "  <th>Method:</th>             <td>Least Squares</td>  <th>  F-statistic:       </th> <td>   215.3</td>\n",
       "</tr>\n",
       "<tr>\n",
       "  <th>Date:</th>             <td>Sun, 24 Sep 2023</td> <th>  Prob (F-statistic):</th> <td>9.54e-90</td>\n",
       "</tr>\n",
       "<tr>\n",
       "  <th>Time:</th>                 <td>18:12:52</td>     <th>  Log-Likelihood:    </th> <td> -1631.0</td>\n",
       "</tr>\n",
       "<tr>\n",
       "  <th>No. Observations:</th>      <td>   506</td>      <th>  AIC:               </th> <td>   3270.</td>\n",
       "</tr>\n",
       "<tr>\n",
       "  <th>Df Residuals:</th>          <td>   502</td>      <th>  BIC:               </th> <td>   3287.</td>\n",
       "</tr>\n",
       "<tr>\n",
       "  <th>Df Model:</th>              <td>     3</td>      <th>                     </th>     <td> </td>   \n",
       "</tr>\n",
       "<tr>\n",
       "  <th>Covariance Type:</th>      <td>nonrobust</td>    <th>                     </th>     <td> </td>   \n",
       "</tr>\n",
       "</table>\n",
       "<table class=\"simpletable\">\n",
       "<tr>\n",
       "    <td></td>       <th>coef</th>     <th>std err</th>      <th>t</th>      <th>P>|t|</th>  <th>[0.025</th>    <th>0.975]</th>  \n",
       "</tr>\n",
       "<tr>\n",
       "  <th>const</th> <td>  -19.0594</td> <td>    3.247</td> <td>   -5.870</td> <td> 0.000</td> <td>  -25.439</td> <td>  -12.680</td>\n",
       "</tr>\n",
       "<tr>\n",
       "  <th>CRIM</th>  <td>   -0.1953</td> <td>    0.035</td> <td>   -5.588</td> <td> 0.000</td> <td>   -0.264</td> <td>   -0.127</td>\n",
       "</tr>\n",
       "<tr>\n",
       "  <th>NOX</th>   <td>  -13.3721</td> <td>    2.654</td> <td>   -5.038</td> <td> 0.000</td> <td>  -18.586</td> <td>   -8.158</td>\n",
       "</tr>\n",
       "<tr>\n",
       "  <th>RM</th>    <td>    7.9100</td> <td>    0.408</td> <td>   19.401</td> <td> 0.000</td> <td>    7.109</td> <td>    8.711</td>\n",
       "</tr>\n",
       "</table>\n",
       "<table class=\"simpletable\">\n",
       "<tr>\n",
       "  <th>Omnibus:</th>       <td>218.945</td> <th>  Durbin-Watson:     </th> <td>   0.762</td>\n",
       "</tr>\n",
       "<tr>\n",
       "  <th>Prob(Omnibus):</th> <td> 0.000</td>  <th>  Jarque-Bera (JB):  </th> <td>1491.665</td>\n",
       "</tr>\n",
       "<tr>\n",
       "  <th>Skew:</th>          <td> 1.749</td>  <th>  Prob(JB):          </th> <td>    0.00</td>\n",
       "</tr>\n",
       "<tr>\n",
       "  <th>Kurtosis:</th>      <td>10.649</td>  <th>  Cond. No.          </th> <td>    137.</td>\n",
       "</tr>\n",
       "</table><br/><br/>Notes:<br/>[1] Standard Errors assume that the covariance matrix of the errors is correctly specified."
      ],
      "text/latex": [
       "\\begin{center}\n",
       "\\begin{tabular}{lclc}\n",
       "\\toprule\n",
       "\\textbf{Dep. Variable:}    &       MEDV       & \\textbf{  R-squared:         } &     0.563   \\\\\n",
       "\\textbf{Model:}            &       OLS        & \\textbf{  Adj. R-squared:    } &     0.560   \\\\\n",
       "\\textbf{Method:}           &  Least Squares   & \\textbf{  F-statistic:       } &     215.3   \\\\\n",
       "\\textbf{Date:}             & Sun, 24 Sep 2023 & \\textbf{  Prob (F-statistic):} &  9.54e-90   \\\\\n",
       "\\textbf{Time:}             &     18:12:52     & \\textbf{  Log-Likelihood:    } &   -1631.0   \\\\\n",
       "\\textbf{No. Observations:} &         506      & \\textbf{  AIC:               } &     3270.   \\\\\n",
       "\\textbf{Df Residuals:}     &         502      & \\textbf{  BIC:               } &     3287.   \\\\\n",
       "\\textbf{Df Model:}         &           3      & \\textbf{                     } &             \\\\\n",
       "\\textbf{Covariance Type:}  &    nonrobust     & \\textbf{                     } &             \\\\\n",
       "\\bottomrule\n",
       "\\end{tabular}\n",
       "\\begin{tabular}{lcccccc}\n",
       "               & \\textbf{coef} & \\textbf{std err} & \\textbf{t} & \\textbf{P$> |$t$|$} & \\textbf{[0.025} & \\textbf{0.975]}  \\\\\n",
       "\\midrule\n",
       "\\textbf{const} &     -19.0594  &        3.247     &    -5.870  &         0.000        &      -25.439    &      -12.680     \\\\\n",
       "\\textbf{CRIM}  &      -0.1953  &        0.035     &    -5.588  &         0.000        &       -0.264    &       -0.127     \\\\\n",
       "\\textbf{NOX}   &     -13.3721  &        2.654     &    -5.038  &         0.000        &      -18.586    &       -8.158     \\\\\n",
       "\\textbf{RM}    &       7.9100  &        0.408     &    19.401  &         0.000        &        7.109    &        8.711     \\\\\n",
       "\\bottomrule\n",
       "\\end{tabular}\n",
       "\\begin{tabular}{lclc}\n",
       "\\textbf{Omnibus:}       & 218.945 & \\textbf{  Durbin-Watson:     } &    0.762  \\\\\n",
       "\\textbf{Prob(Omnibus):} &   0.000 & \\textbf{  Jarque-Bera (JB):  } & 1491.665  \\\\\n",
       "\\textbf{Skew:}          &   1.749 & \\textbf{  Prob(JB):          } &     0.00  \\\\\n",
       "\\textbf{Kurtosis:}      &  10.649 & \\textbf{  Cond. No.          } &     137.  \\\\\n",
       "\\bottomrule\n",
       "\\end{tabular}\n",
       "%\\caption{OLS Regression Results}\n",
       "\\end{center}\n",
       "\n",
       "Notes: \\newline\n",
       " [1] Standard Errors assume that the covariance matrix of the errors is correctly specified."
      ],
      "text/plain": [
       "<class 'statsmodels.iolib.summary.Summary'>\n",
       "\"\"\"\n",
       "                            OLS Regression Results                            \n",
       "==============================================================================\n",
       "Dep. Variable:                   MEDV   R-squared:                       0.563\n",
       "Model:                            OLS   Adj. R-squared:                  0.560\n",
       "Method:                 Least Squares   F-statistic:                     215.3\n",
       "Date:                Sun, 24 Sep 2023   Prob (F-statistic):           9.54e-90\n",
       "Time:                        18:12:52   Log-Likelihood:                -1631.0\n",
       "No. Observations:                 506   AIC:                             3270.\n",
       "Df Residuals:                     502   BIC:                             3287.\n",
       "Df Model:                           3                                         \n",
       "Covariance Type:            nonrobust                                         \n",
       "==============================================================================\n",
       "                 coef    std err          t      P>|t|      [0.025      0.975]\n",
       "------------------------------------------------------------------------------\n",
       "const        -19.0594      3.247     -5.870      0.000     -25.439     -12.680\n",
       "CRIM          -0.1953      0.035     -5.588      0.000      -0.264      -0.127\n",
       "NOX          -13.3721      2.654     -5.038      0.000     -18.586      -8.158\n",
       "RM             7.9100      0.408     19.401      0.000       7.109       8.711\n",
       "==============================================================================\n",
       "Omnibus:                      218.945   Durbin-Watson:                   0.762\n",
       "Prob(Omnibus):                  0.000   Jarque-Bera (JB):             1491.665\n",
       "Skew:                           1.749   Prob(JB):                         0.00\n",
       "Kurtosis:                      10.649   Cond. No.                         137.\n",
       "==============================================================================\n",
       "\n",
       "Notes:\n",
       "[1] Standard Errors assume that the covariance matrix of the errors is correctly specified.\n",
       "\"\"\""
      ]
     },
     "execution_count": 52,
     "metadata": {},
     "output_type": "execute_result"
    }
   ],
   "source": [
    "Q16mod = sm.OLS(Q16_y, Q16_x).fit() \n",
    "\n",
    "Q16pred = Q16mod.predict(Q16_x)\n",
    "\n",
    "Q16mod.summary()"
   ]
  },
  {
   "cell_type": "code",
   "execution_count": 53,
   "id": "11385c58-d661-4844-b352-46912bae7f41",
   "metadata": {
    "tags": []
   },
   "outputs": [
    {
     "data": {
      "text/html": [
       "<div>\n",
       "<style scoped>\n",
       "    .dataframe tbody tr th:only-of-type {\n",
       "        vertical-align: middle;\n",
       "    }\n",
       "\n",
       "    .dataframe tbody tr th {\n",
       "        vertical-align: top;\n",
       "    }\n",
       "\n",
       "    .dataframe thead th {\n",
       "        text-align: right;\n",
       "    }\n",
       "</style>\n",
       "<table border=\"1\" class=\"dataframe\">\n",
       "  <thead>\n",
       "    <tr style=\"text-align: right;\">\n",
       "      <th></th>\n",
       "      <th>const</th>\n",
       "      <th>CRIM</th>\n",
       "      <th>NOX</th>\n",
       "      <th>RM</th>\n",
       "    </tr>\n",
       "  </thead>\n",
       "  <tbody>\n",
       "    <tr>\n",
       "      <th>0</th>\n",
       "      <td>1</td>\n",
       "      <td>0.1</td>\n",
       "      <td>0.6</td>\n",
       "      <td>4</td>\n",
       "    </tr>\n",
       "  </tbody>\n",
       "</table>\n",
       "</div>"
      ],
      "text/plain": [
       "   const  CRIM  NOX  RM\n",
       "0      1   0.1  0.6   4"
      ]
     },
     "execution_count": 53,
     "metadata": {},
     "output_type": "execute_result"
    }
   ],
   "source": [
    "Q16TestPoint = pd.DataFrame({'const': [1], 'CRIM': [0.1], 'NOX' : [0.6], 'RM': [4]})[['const', 'CRIM', 'NOX', 'RM']]\n",
    "Q16TestPoint"
   ]
  },
  {
   "cell_type": "code",
   "execution_count": 55,
   "id": "67127146-5348-4810-9ba7-43c2985aa1bf",
   "metadata": {
    "tags": []
   },
   "outputs": [
    {
     "name": "stdout",
     "output_type": "stream",
     "text": [
      "0    4.537889\n",
      "dtype: float64\n"
     ]
    }
   ],
   "source": [
    "Q16pred_2 = Q16mod.predict(Q16TestPoint)\n",
    "print(Q16pred_2)"
   ]
  }
 ],
 "metadata": {
  "kernelspec": {
   "display_name": "Python 3 (ipykernel)",
   "language": "python",
   "name": "python3"
  },
  "language_info": {
   "codemirror_mode": {
    "name": "ipython",
    "version": 3
   },
   "file_extension": ".py",
   "mimetype": "text/x-python",
   "name": "python",
   "nbconvert_exporter": "python",
   "pygments_lexer": "ipython3",
   "version": "3.11.4"
  }
 },
 "nbformat": 4,
 "nbformat_minor": 5
}
