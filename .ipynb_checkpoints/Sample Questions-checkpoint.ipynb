{
 "cells": [
  {
   "cell_type": "code",
   "execution_count": 1,
   "id": "f086ddb7-477f-4aa3-abd3-c4ae157f8bae",
   "metadata": {},
   "outputs": [],
   "source": [
    "#For all questions below, use these data sets: \n",
    "#sales.csv, \n",
    "#Superstore.csv, \n",
    "#house.csv, \n",
    "#advertising.csv"
   ]
  },
  {
   "cell_type": "code",
   "execution_count": 2,
   "id": "ab17a0ce-7c35-41cc-b966-52a05eb07ef9",
   "metadata": {
    "tags": []
   },
   "outputs": [],
   "source": [
    "#import packages\n",
    "import seaborn as sns\n",
    "import matplotlib.pyplot as plt\n",
    "import pandas as pd\n",
    "import numpy as np\n",
    "\n",
    "from sklearn.linear_model import LinearRegression\n",
    "from sklearn import datasets \n",
    "from sklearn import metrics\n",
    "from sklearn.model_selection import train_test_split\n",
    "from sklearn.linear_model import Ridge\n",
    "from sklearn.linear_model import Lasso\n",
    "from sklearn.model_selection import KFold\n",
    "from sklearn.model_selection import cross_val_score\n",
    "\n",
    "import statsmodels.api as sm \n",
    "from sklearn.linear_model import LogisticRegression\n",
    "from sklearn.model_selection import train_test_split\n",
    "from sklearn.metrics import * # import all libraries under sklearn.metrics"
   ]
  },
  {
   "cell_type": "code",
   "execution_count": 3,
   "id": "aae73e8a-ed3b-4b4e-9666-8d0ed540bd07",
   "metadata": {
    "tags": []
   },
   "outputs": [],
   "source": [
    "#Load data\n",
    "sales = pd.read_csv('sales.csv')\n",
    "advertising = pd.read_csv('advertising.csv')\n",
    "superstore = pd.read_csv('Superstore.csv')\n",
    "house = pd.read_csv('house.csv')"
   ]
  },
  {
   "cell_type": "code",
   "execution_count": 4,
   "id": "4b99d22f-97ae-4f4e-bb24-10eebfc8a3b7",
   "metadata": {},
   "outputs": [],
   "source": [
    "#1. Use the sales data. \n",
    "#Create a line plot of price vs. week number for the first 10 weeks in the data. \n",
    "#Which week number had the lowest price (in the first 10 weeks)? Enter the week number."
   ]
  },
  {
   "cell_type": "code",
   "execution_count": 5,
   "id": "a2a96706-2b2b-4961-a919-57f598a782af",
   "metadata": {
    "tags": []
   },
   "outputs": [
    {
     "data": {
      "text/html": [
       "<div>\n",
       "<style scoped>\n",
       "    .dataframe tbody tr th:only-of-type {\n",
       "        vertical-align: middle;\n",
       "    }\n",
       "\n",
       "    .dataframe tbody tr th {\n",
       "        vertical-align: top;\n",
       "    }\n",
       "\n",
       "    .dataframe thead th {\n",
       "        text-align: right;\n",
       "    }\n",
       "</style>\n",
       "<table border=\"1\" class=\"dataframe\">\n",
       "  <thead>\n",
       "    <tr style=\"text-align: right;\">\n",
       "      <th></th>\n",
       "      <th>week</th>\n",
       "      <th>date</th>\n",
       "      <th>price</th>\n",
       "      <th>quantity</th>\n",
       "      <th>cost</th>\n",
       "    </tr>\n",
       "  </thead>\n",
       "  <tbody>\n",
       "    <tr>\n",
       "      <th>0</th>\n",
       "      <td>1</td>\n",
       "      <td>01-Feb-19</td>\n",
       "      <td>1.84</td>\n",
       "      <td>0</td>\n",
       "      <td>0.36</td>\n",
       "    </tr>\n",
       "    <tr>\n",
       "      <th>1</th>\n",
       "      <td>2</td>\n",
       "      <td>08-Feb-19</td>\n",
       "      <td>1.39</td>\n",
       "      <td>11</td>\n",
       "      <td>0.70</td>\n",
       "    </tr>\n",
       "    <tr>\n",
       "      <th>2</th>\n",
       "      <td>3</td>\n",
       "      <td>15-Feb-19</td>\n",
       "      <td>1.47</td>\n",
       "      <td>9</td>\n",
       "      <td>0.87</td>\n",
       "    </tr>\n",
       "    <tr>\n",
       "      <th>3</th>\n",
       "      <td>4</td>\n",
       "      <td>22-Feb-19</td>\n",
       "      <td>1.15</td>\n",
       "      <td>3</td>\n",
       "      <td>0.91</td>\n",
       "    </tr>\n",
       "    <tr>\n",
       "      <th>4</th>\n",
       "      <td>5</td>\n",
       "      <td>01-Mar-19</td>\n",
       "      <td>1.76</td>\n",
       "      <td>12</td>\n",
       "      <td>0.50</td>\n",
       "    </tr>\n",
       "    <tr>\n",
       "      <th>5</th>\n",
       "      <td>6</td>\n",
       "      <td>08-Mar-19</td>\n",
       "      <td>1.96</td>\n",
       "      <td>3</td>\n",
       "      <td>0.52</td>\n",
       "    </tr>\n",
       "    <tr>\n",
       "      <th>6</th>\n",
       "      <td>7</td>\n",
       "      <td>15-Mar-19</td>\n",
       "      <td>1.89</td>\n",
       "      <td>14</td>\n",
       "      <td>0.41</td>\n",
       "    </tr>\n",
       "    <tr>\n",
       "      <th>7</th>\n",
       "      <td>8</td>\n",
       "      <td>22-Mar-19</td>\n",
       "      <td>1.92</td>\n",
       "      <td>16</td>\n",
       "      <td>0.61</td>\n",
       "    </tr>\n",
       "    <tr>\n",
       "      <th>8</th>\n",
       "      <td>9</td>\n",
       "      <td>29-Mar-19</td>\n",
       "      <td>1.96</td>\n",
       "      <td>19</td>\n",
       "      <td>0.99</td>\n",
       "    </tr>\n",
       "    <tr>\n",
       "      <th>9</th>\n",
       "      <td>10</td>\n",
       "      <td>05-Apr-19</td>\n",
       "      <td>1.44</td>\n",
       "      <td>10</td>\n",
       "      <td>0.30</td>\n",
       "    </tr>\n",
       "  </tbody>\n",
       "</table>\n",
       "</div>"
      ],
      "text/plain": [
       "   week       date  price  quantity  cost\n",
       "0     1  01-Feb-19   1.84         0  0.36\n",
       "1     2  08-Feb-19   1.39        11  0.70\n",
       "2     3  15-Feb-19   1.47         9  0.87\n",
       "3     4  22-Feb-19   1.15         3  0.91\n",
       "4     5  01-Mar-19   1.76        12  0.50\n",
       "5     6  08-Mar-19   1.96         3  0.52\n",
       "6     7  15-Mar-19   1.89        14  0.41\n",
       "7     8  22-Mar-19   1.92        16  0.61\n",
       "8     9  29-Mar-19   1.96        19  0.99\n",
       "9    10  05-Apr-19   1.44        10  0.30"
      ]
     },
     "execution_count": 5,
     "metadata": {},
     "output_type": "execute_result"
    }
   ],
   "source": [
    "Q1dat = sales.iloc[0:10]\n",
    "Q1dat"
   ]
  },
  {
   "cell_type": "code",
   "execution_count": 6,
   "id": "84be2d72-9e7d-40bb-a766-ff1ea2f68afc",
   "metadata": {
    "tags": []
   },
   "outputs": [
    {
     "data": {
      "text/plain": [
       "<Axes: xlabel='week', ylabel='price'>"
      ]
     },
     "execution_count": 6,
     "metadata": {},
     "output_type": "execute_result"
    },
    {
     "data": {
      "image/png": "[encoded data removed]",
      "text/plain": [
       "<Figure size 640x480 with 1 Axes>"
      ]
     },
     "metadata": {},
     "output_type": "display_data"
    }
   ],
   "source": [
    "sns.lineplot(x = 'week', y = 'price', marker = 'o', markersize = 10, markerfacecolor = 'g', data = Q1dat)"
   ]
  },
  {
   "cell_type": "code",
   "execution_count": 7,
   "id": "20d60c37-b9ee-4d4b-b3d8-c5cca91aed93",
   "metadata": {
    "tags": []
   },
   "outputs": [],
   "source": [
    "# 2. Use the Superstore data. \n",
    "#Build a linear regression with statsmodels using \n",
    "#sales as the y-variable, and unit price and region dummies as the x-variables. \n",
    "#What is the p-value for south region? Round to nearest 3 decimals."
   ]
  },
  {
   "cell_type": "code",
   "execution_count": 8,
   "id": "ea52e5ae-b441-44b1-bd48-52f6ba857d06",
   "metadata": {
    "tags": []
   },
   "outputs": [
    {
     "name": "stdout",
     "output_type": "stream",
     "text": [
      "<class 'pandas.core.frame.DataFrame'>\n",
      "RangeIndex: 9426 entries, 0 to 9425\n",
      "Data columns (total 26 columns):\n",
      " #   Column               Non-Null Count  Dtype  \n",
      "---  ------               --------------  -----  \n",
      " 0   Category             9426 non-null   object \n",
      " 1   City                 9426 non-null   object \n",
      " 2   Container            9426 non-null   object \n",
      " 3   Customer ID          9426 non-null   int64  \n",
      " 4   Customer Name        9426 non-null   object \n",
      " 5   Customer Segment     9426 non-null   object \n",
      " 6   Department           9426 non-null   object \n",
      " 7   Discount             9426 non-null   float64\n",
      " 8   Item ID              9426 non-null   int64  \n",
      " 9   Item                 9426 non-null   object \n",
      " 10  Number of Records    9426 non-null   int64  \n",
      " 11  Order Date           9426 non-null   object \n",
      " 12  Order ID             9426 non-null   int64  \n",
      " 13  Order Priority       9426 non-null   object \n",
      " 14  Order Quantity       9426 non-null   int64  \n",
      " 15  Postal Code          9426 non-null   int64  \n",
      " 16  Product Base Margin  9426 non-null   float64\n",
      " 17  Profit               9426 non-null   int64  \n",
      " 18  Region               9426 non-null   object \n",
      " 19  Row ID               9426 non-null   object \n",
      " 20  Sales                9426 non-null   int64  \n",
      " 21  Ship Date            9426 non-null   object \n",
      " 22  Ship Mode            9426 non-null   object \n",
      " 23  Shipping Cost        9426 non-null   int64  \n",
      " 24  State                9426 non-null   object \n",
      " 25  Unit Price           9426 non-null   int64  \n",
      "dtypes: float64(2), int64(10), object(14)\n",
      "memory usage: 1.9+ MB\n"
     ]
    }
   ],
   "source": [
    "superstore.info()"
   ]
  },
  {
   "cell_type": "code",
   "execution_count": 9,
   "id": "d52a026b-009c-49a2-9103-e45044b59a6b",
   "metadata": {},
   "outputs": [],
   "source": [
    "yQ2 = superstore['Sales']\n",
    "Countries = pd.get_dummies(data = superstore.Region, drop_first = True, dtype = int)\n",
    "xQ2 = pd.concat([superstore['Unit Price'], Countries], axis = 1)\n",
    "xQ2 = sm.add_constant(xQ2)"
   ]
  },
  {
   "cell_type": "code",
   "execution_count": 10,
   "id": "2c8eb9e8-30e2-4f94-85d2-49e3d4e8c61d",
   "metadata": {
    "tags": []
   },
   "outputs": [
    {
     "data": {
      "text/html": [
       "<table class=\"simpletable\">\n",
       "<caption>OLS Regression Results</caption>\n",
       "<tr>\n",
       "  <th>Dep. Variable:</th>          <td>Sales</td>      <th>  R-squared:         </th> <td>   0.189</td> \n",
       "</tr>\n",
       "<tr>\n",
       "  <th>Model:</th>                   <td>OLS</td>       <th>  Adj. R-squared:    </th> <td>   0.189</td> \n",
       "</tr>\n",
       "<tr>\n",
       "  <th>Method:</th>             <td>Least Squares</td>  <th>  F-statistic:       </th> <td>   549.2</td> \n",
       "</tr>\n",
       "<tr>\n",
       "  <th>Date:</th>             <td>Tue, 10 Oct 2023</td> <th>  Prob (F-statistic):</th>  <td>  0.00</td>  \n",
       "</tr>\n",
       "<tr>\n",
       "  <th>Time:</th>                 <td>17:53:31</td>     <th>  Log-Likelihood:    </th> <td> -86499.</td> \n",
       "</tr>\n",
       "<tr>\n",
       "  <th>No. Observations:</th>      <td>  9426</td>      <th>  AIC:               </th> <td>1.730e+05</td>\n",
       "</tr>\n",
       "<tr>\n",
       "  <th>Df Residuals:</th>          <td>  9421</td>      <th>  BIC:               </th> <td>1.730e+05</td>\n",
       "</tr>\n",
       "<tr>\n",
       "  <th>Df Model:</th>              <td>     4</td>      <th>                     </th>     <td> </td>    \n",
       "</tr>\n",
       "<tr>\n",
       "  <th>Covariance Type:</th>      <td>nonrobust</td>    <th>                     </th>     <td> </td>    \n",
       "</tr>\n",
       "</table>\n",
       "<table class=\"simpletable\">\n",
       "<tr>\n",
       "       <td></td>         <th>coef</th>     <th>std err</th>      <th>t</th>      <th>P>|t|</th>  <th>[0.025</th>    <th>0.975]</th>  \n",
       "</tr>\n",
       "<tr>\n",
       "  <th>const</th>      <td>  561.1422</td> <td>   46.512</td> <td>   12.065</td> <td> 0.000</td> <td>  469.969</td> <td>  652.315</td>\n",
       "</tr>\n",
       "<tr>\n",
       "  <th>Unit Price</th> <td>    4.0061</td> <td>    0.086</td> <td>   46.764</td> <td> 0.000</td> <td>    3.838</td> <td>    4.174</td>\n",
       "</tr>\n",
       "<tr>\n",
       "  <th>East</th>       <td>  123.2920</td> <td>   62.305</td> <td>    1.979</td> <td> 0.048</td> <td>    1.160</td> <td>  245.424</td>\n",
       "</tr>\n",
       "<tr>\n",
       "  <th>South</th>      <td>  -70.4774</td> <td>   71.946</td> <td>   -0.980</td> <td> 0.327</td> <td> -211.506</td> <td>   70.552</td>\n",
       "</tr>\n",
       "<tr>\n",
       "  <th>West</th>       <td>   37.3967</td> <td>   70.210</td> <td>    0.533</td> <td> 0.594</td> <td> -100.230</td> <td>  175.023</td>\n",
       "</tr>\n",
       "</table>\n",
       "<table class=\"simpletable\">\n",
       "<tr>\n",
       "  <th>Omnibus:</th>       <td>17098.945</td> <th>  Durbin-Watson:     </th>   <td>   1.726</td>  \n",
       "</tr>\n",
       "<tr>\n",
       "  <th>Prob(Omnibus):</th>  <td> 0.000</td>   <th>  Jarque-Bera (JB):  </th> <td>55499361.803</td>\n",
       "</tr>\n",
       "<tr>\n",
       "  <th>Skew:</th>           <td>12.919</td>   <th>  Prob(JB):          </th>   <td>    0.00</td>  \n",
       "</tr>\n",
       "<tr>\n",
       "  <th>Kurtosis:</th>       <td>378.023</td>  <th>  Cond. No.          </th>   <td>1.26e+03</td>  \n",
       "</tr>\n",
       "</table><br/><br/>Notes:<br/>[1] Standard Errors assume that the covariance matrix of the errors is correctly specified.<br/>[2] The condition number is large, 1.26e+03. This might indicate that there are<br/>strong multicollinearity or other numerical problems."
      ],
      "text/latex": [
       "\\begin{center}\n",
       "\\begin{tabular}{lclc}\n",
       "\\toprule\n",
       "\\textbf{Dep. Variable:}    &      Sales       & \\textbf{  R-squared:         } &      0.189    \\\\\n",
       "\\textbf{Model:}            &       OLS        & \\textbf{  Adj. R-squared:    } &      0.189    \\\\\n",
       "\\textbf{Method:}           &  Least Squares   & \\textbf{  F-statistic:       } &      549.2    \\\\\n",
       "\\textbf{Date:}             & Tue, 10 Oct 2023 & \\textbf{  Prob (F-statistic):} &      0.00     \\\\\n",
       "\\textbf{Time:}             &     17:53:31     & \\textbf{  Log-Likelihood:    } &    -86499.    \\\\\n",
       "\\textbf{No. Observations:} &        9426      & \\textbf{  AIC:               } &  1.730e+05    \\\\\n",
       "\\textbf{Df Residuals:}     &        9421      & \\textbf{  BIC:               } &  1.730e+05    \\\\\n",
       "\\textbf{Df Model:}         &           4      & \\textbf{                     } &               \\\\\n",
       "\\textbf{Covariance Type:}  &    nonrobust     & \\textbf{                     } &               \\\\\n",
       "\\bottomrule\n",
       "\\end{tabular}\n",
       "\\begin{tabular}{lcccccc}\n",
       "                    & \\textbf{coef} & \\textbf{std err} & \\textbf{t} & \\textbf{P$> |$t$|$} & \\textbf{[0.025} & \\textbf{0.975]}  \\\\\n",
       "\\midrule\n",
       "\\textbf{const}      &     561.1422  &       46.512     &    12.065  &         0.000        &      469.969    &      652.315     \\\\\n",
       "\\textbf{Unit Price} &       4.0061  &        0.086     &    46.764  &         0.000        &        3.838    &        4.174     \\\\\n",
       "\\textbf{East}       &     123.2920  &       62.305     &     1.979  &         0.048        &        1.160    &      245.424     \\\\\n",
       "\\textbf{South}      &     -70.4774  &       71.946     &    -0.980  &         0.327        &     -211.506    &       70.552     \\\\\n",
       "\\textbf{West}       &      37.3967  &       70.210     &     0.533  &         0.594        &     -100.230    &      175.023     \\\\\n",
       "\\bottomrule\n",
       "\\end{tabular}\n",
       "\\begin{tabular}{lclc}\n",
       "\\textbf{Omnibus:}       & 17098.945 & \\textbf{  Durbin-Watson:     } &      1.726    \\\\\n",
       "\\textbf{Prob(Omnibus):} &    0.000  & \\textbf{  Jarque-Bera (JB):  } & 55499361.803  \\\\\n",
       "\\textbf{Skew:}          &   12.919  & \\textbf{  Prob(JB):          } &       0.00    \\\\\n",
       "\\textbf{Kurtosis:}      &  378.023  & \\textbf{  Cond. No.          } &   1.26e+03    \\\\\n",
       "\\bottomrule\n",
       "\\end{tabular}\n",
       "%\\caption{OLS Regression Results}\n",
       "\\end{center}\n",
       "\n",
       "Notes: \\newline\n",
       " [1] Standard Errors assume that the covariance matrix of the errors is correctly specified. \\newline\n",
       " [2] The condition number is large, 1.26e+03. This might indicate that there are \\newline\n",
       " strong multicollinearity or other numerical problems."
      ],
      "text/plain": [
       "<class 'statsmodels.iolib.summary.Summary'>\n",
       "\"\"\"\n",
       "                            OLS Regression Results                            \n",
       "==============================================================================\n",
       "Dep. Variable:                  Sales   R-squared:                       0.189\n",
       "Model:                            OLS   Adj. R-squared:                  0.189\n",
       "Method:                 Least Squares   F-statistic:                     549.2\n",
       "Date:                Tue, 10 Oct 2023   Prob (F-statistic):               0.00\n",
       "Time:                        17:53:31   Log-Likelihood:                -86499.\n",
       "No. Observations:                9426   AIC:                         1.730e+05\n",
       "Df Residuals:                    9421   BIC:                         1.730e+05\n",
       "Df Model:                           4                                         \n",
       "Covariance Type:            nonrobust                                         \n",
       "==============================================================================\n",
       "                 coef    std err          t      P>|t|      [0.025      0.975]\n",
       "------------------------------------------------------------------------------\n",
       "const        561.1422     46.512     12.065      0.000     469.969     652.315\n",
       "Unit Price     4.0061      0.086     46.764      0.000       3.838       4.174\n",
       "East         123.2920     62.305      1.979      0.048       1.160     245.424\n",
       "South        -70.4774     71.946     -0.980      0.327    -211.506      70.552\n",
       "West          37.3967     70.210      0.533      0.594    -100.230     175.023\n",
       "==============================================================================\n",
       "Omnibus:                    17098.945   Durbin-Watson:                   1.726\n",
       "Prob(Omnibus):                  0.000   Jarque-Bera (JB):         55499361.803\n",
       "Skew:                          12.919   Prob(JB):                         0.00\n",
       "Kurtosis:                     378.023   Cond. No.                     1.26e+03\n",
       "==============================================================================\n",
       "\n",
       "Notes:\n",
       "[1] Standard Errors assume that the covariance matrix of the errors is correctly specified.\n",
       "[2] The condition number is large, 1.26e+03. This might indicate that there are\n",
       "strong multicollinearity or other numerical problems.\n",
       "\"\"\""
      ]
     },
     "execution_count": 10,
     "metadata": {},
     "output_type": "execute_result"
    }
   ],
   "source": [
    "Q2mod = sm.OLS(yQ2, xQ2).fit()\n",
    "Q2pred = Q2mod.predict(xQ2)\n",
    "\n",
    "Q2mod.summary()"
   ]
  },
  {
   "cell_type": "code",
   "execution_count": 11,
   "id": "5e830a17-d39b-4b04-9353-a0f94932b3ac",
   "metadata": {},
   "outputs": [],
   "source": [
    "#3. Use the house data. \n",
    "#Train a Lasso and Ridge regression separately with sklearn \n",
    "#MEDV as the y-variable\n",
    "#CRIM, ZN,INDUS, CHAS, NOX, RM, AGE as the x-variables. \n",
    "#Use random_state=101. Which model generates more coefficients close to 0?"
   ]
  },
  {
   "cell_type": "code",
   "execution_count": 12,
   "id": "1e72aaf6-43f8-4f6b-af08-27209ce8e0d5",
   "metadata": {
    "tags": []
   },
   "outputs": [],
   "source": [
    "yQ3 = house['MEDV']\n",
    "xQ3 = house[['CRIM', 'ZN', 'INDUS', 'CHAS', 'NOX', 'RM', 'AGE']]"
   ]
  },
  {
   "cell_type": "code",
   "execution_count": 13,
   "id": "5a889cd4-8d85-4387-b0ef-530a2981dc42",
   "metadata": {
    "tags": []
   },
   "outputs": [
    {
     "data": {
      "text/html": [
       "<div>\n",
       "<style scoped>\n",
       "    .dataframe tbody tr th:only-of-type {\n",
       "        vertical-align: middle;\n",
       "    }\n",
       "\n",
       "    .dataframe tbody tr th {\n",
       "        vertical-align: top;\n",
       "    }\n",
       "\n",
       "    .dataframe thead th {\n",
       "        text-align: right;\n",
       "    }\n",
       "</style>\n",
       "<table border=\"1\" class=\"dataframe\">\n",
       "  <thead>\n",
       "    <tr style=\"text-align: right;\">\n",
       "      <th></th>\n",
       "      <th>Coefficient</th>\n",
       "    </tr>\n",
       "  </thead>\n",
       "  <tbody>\n",
       "    <tr>\n",
       "      <th>CRIM</th>\n",
       "      <td>-0.196625</td>\n",
       "    </tr>\n",
       "    <tr>\n",
       "      <th>ZN</th>\n",
       "      <td>0.028098</td>\n",
       "    </tr>\n",
       "    <tr>\n",
       "      <th>INDUS</th>\n",
       "      <td>-0.201293</td>\n",
       "    </tr>\n",
       "    <tr>\n",
       "      <th>CHAS</th>\n",
       "      <td>0.000000</td>\n",
       "    </tr>\n",
       "    <tr>\n",
       "      <th>NOX</th>\n",
       "      <td>-0.000000</td>\n",
       "    </tr>\n",
       "    <tr>\n",
       "      <th>RM</th>\n",
       "      <td>5.246829</td>\n",
       "    </tr>\n",
       "    <tr>\n",
       "      <th>AGE</th>\n",
       "      <td>-0.024476</td>\n",
       "    </tr>\n",
       "  </tbody>\n",
       "</table>\n",
       "</div>"
      ],
      "text/plain": [
       "       Coefficient\n",
       "CRIM     -0.196625\n",
       "ZN        0.028098\n",
       "INDUS    -0.201293\n",
       "CHAS      0.000000\n",
       "NOX      -0.000000\n",
       "RM        5.246829\n",
       "AGE      -0.024476"
      ]
     },
     "execution_count": 13,
     "metadata": {},
     "output_type": "execute_result"
    }
   ],
   "source": [
    "lassoQ3 = Lasso()\n",
    "lassoQ3.fit(xQ3, yQ3)\n",
    "\n",
    "coeff_df = pd.DataFrame(lassoQ3.coef_,xQ3.columns,columns=['Coefficient'])\n",
    "coeff_df"
   ]
  },
  {
   "cell_type": "code",
   "execution_count": 14,
   "id": "5b22f4c6-5c2a-4f48-9def-536724ec418d",
   "metadata": {
    "tags": []
   },
   "outputs": [
    {
     "data": {
      "text/html": [
       "<div>\n",
       "<style scoped>\n",
       "    .dataframe tbody tr th:only-of-type {\n",
       "        vertical-align: middle;\n",
       "    }\n",
       "\n",
       "    .dataframe tbody tr th {\n",
       "        vertical-align: top;\n",
       "    }\n",
       "\n",
       "    .dataframe thead th {\n",
       "        text-align: right;\n",
       "    }\n",
       "</style>\n",
       "<table border=\"1\" class=\"dataframe\">\n",
       "  <thead>\n",
       "    <tr style=\"text-align: right;\">\n",
       "      <th></th>\n",
       "      <th>Coefficient</th>\n",
       "    </tr>\n",
       "  </thead>\n",
       "  <tbody>\n",
       "    <tr>\n",
       "      <th>CRIM</th>\n",
       "      <td>-0.172047</td>\n",
       "    </tr>\n",
       "    <tr>\n",
       "      <th>ZN</th>\n",
       "      <td>0.014509</td>\n",
       "    </tr>\n",
       "    <tr>\n",
       "      <th>INDUS</th>\n",
       "      <td>-0.143715</td>\n",
       "    </tr>\n",
       "    <tr>\n",
       "      <th>CHAS</th>\n",
       "      <td>4.696820</td>\n",
       "    </tr>\n",
       "    <tr>\n",
       "      <th>NOX</th>\n",
       "      <td>-3.017937</td>\n",
       "    </tr>\n",
       "    <tr>\n",
       "      <th>RM</th>\n",
       "      <td>7.356429</td>\n",
       "    </tr>\n",
       "    <tr>\n",
       "      <th>AGE</th>\n",
       "      <td>-0.025762</td>\n",
       "    </tr>\n",
       "  </tbody>\n",
       "</table>\n",
       "</div>"
      ],
      "text/plain": [
       "       Coefficient\n",
       "CRIM     -0.172047\n",
       "ZN        0.014509\n",
       "INDUS    -0.143715\n",
       "CHAS      4.696820\n",
       "NOX      -3.017937\n",
       "RM        7.356429\n",
       "AGE      -0.025762"
      ]
     },
     "execution_count": 14,
     "metadata": {},
     "output_type": "execute_result"
    }
   ],
   "source": [
    "ridgeQ3 = Ridge()\n",
    "ridgeQ3.fit(xQ3, yQ3)\n",
    "\n",
    "coeff_df = pd.DataFrame(ridgeQ3.coef_,xQ3.columns,columns=['Coefficient'])\n",
    "coeff_df"
   ]
  },
  {
   "cell_type": "code",
   "execution_count": 15,
   "id": "fe0ae9b1-8887-47f0-88f2-a7561aead4ef",
   "metadata": {},
   "outputs": [],
   "source": [
    "#4. Use the advertising data. Use sklearn. \n",
    "#Train the following logistic regressions with x-variables:\n",
    "#• Model 1: Age, Daily Time Spent on Site\n",
    "#• Model 2: Age, Daily Time Spent on Site, Area Income, Male\n",
    "#• Model 3: Age, Daily Time Spent on Site, Area Income, Male, Daily Internet Usage\n",
    "#Use test_size=0.3, random_state=101 for all models. \n",
    "#Which model has the highest AUC for test data? Enter the model number."
   ]
  },
  {
   "cell_type": "code",
   "execution_count": 16,
   "id": "b2163a96-c560-47a0-ac5b-f6e50f3e8c64",
   "metadata": {
    "tags": []
   },
   "outputs": [],
   "source": [
    "#Custom Function\n",
    "def classification_metrics(Y_pred, Y_true):\n",
    "    acc = accuracy_score(Y_true, Y_pred)\n",
    "    precision = precision_score(Y_true, Y_pred)\n",
    "    recall = recall_score(Y_true, Y_pred)\n",
    "    f1score = f1_score(Y_true, Y_pred)\n",
    "    auc = roc_auc_score(Y_true, Y_pred)\n",
    "\n",
    "    return acc, precision, recall, f1score, auc\n",
    "\n",
    "def display_metrics(classifierName, Y_pred, Y_true):\n",
    "    print (\"______________________________________________\")\n",
    "    print (\"Model: \"+classifierName)\n",
    "    acc, precision, recall, f1score, auc = classification_metrics(Y_pred, Y_true)\n",
    "    # returns 5 vars: acc, precision, recall, f1score, auc\n",
    "    # print them below\n",
    "    print (\"Accuracy: \"+str(acc))\n",
    "    print (\"Precision: \"+str(precision))\n",
    "    print (\"Recall: \"+str(recall))\n",
    "    print (\"F1-score: \"+str(f1score))\n",
    "    print (\"AUC: \"+str(auc))\n",
    "    print (\"______________________________________________\")\n",
    "    print (\"\")"
   ]
  },
  {
   "cell_type": "code",
   "execution_count": 17,
   "id": "a4bfc484-761d-4195-925b-5fcb17ad6109",
   "metadata": {
    "tags": []
   },
   "outputs": [
    {
     "name": "stdout",
     "output_type": "stream",
     "text": [
      "<class 'pandas.core.frame.DataFrame'>\n",
      "RangeIndex: 1000 entries, 0 to 999\n",
      "Data columns (total 9 columns):\n",
      " #   Column                    Non-Null Count  Dtype  \n",
      "---  ------                    --------------  -----  \n",
      " 0   Daily Time Spent on Site  1000 non-null   float64\n",
      " 1   Age                       1000 non-null   int64  \n",
      " 2   Area Income               1000 non-null   float64\n",
      " 3   Daily Internet Usage      1000 non-null   float64\n",
      " 4   Ad Topic Line             1000 non-null   object \n",
      " 5   Male                      1000 non-null   int64  \n",
      " 6   Country                   1000 non-null   object \n",
      " 7   Timestamp                 1000 non-null   object \n",
      " 8   Clicked on Ad             1000 non-null   int64  \n",
      "dtypes: float64(3), int64(3), object(3)\n",
      "memory usage: 70.4+ KB\n"
     ]
    }
   ],
   "source": [
    "advertising.info()"
   ]
  },
  {
   "cell_type": "code",
   "execution_count": 18,
   "id": "9135fab3-ea03-4fd9-aa35-be0b315ccff1",
   "metadata": {
    "tags": []
   },
   "outputs": [
    {
     "data": {
      "text/plain": [
       "0      0\n",
       "1      1\n",
       "2      1\n",
       "3      0\n",
       "4      1\n",
       "      ..\n",
       "995    1\n",
       "996    1\n",
       "997    1\n",
       "998    0\n",
       "999    0\n",
       "Name: Clicked on Ad, Length: 1000, dtype: int64"
      ]
     },
     "execution_count": 18,
     "metadata": {},
     "output_type": "execute_result"
    }
   ],
   "source": [
    "yQ4 = advertising['Clicked on Ad']\n",
    "x1Q4 = advertising[['Age', 'Daily Time Spent on Site']]\n",
    "x2Q4 = advertising[['Age', 'Daily Time Spent on Site', 'Area Income', 'Male']]\n",
    "x3Q4 = advertising[['Age', 'Daily Time Spent on Site', 'Area Income', 'Male', 'Daily Internet Usage']]\n",
    "yQ4"
   ]
  },
  {
   "cell_type": "code",
   "execution_count": 19,
   "id": "e0837554-830e-4214-bef6-33b096d7520e",
   "metadata": {
    "tags": []
   },
   "outputs": [
    {
     "data": {
      "text/plain": [
       "[     Age  Daily Time Spent on Site\n",
       " 0     41                     82.03\n",
       " 1     44                     80.03\n",
       " 2     59                     51.38\n",
       " 3     40                     77.07\n",
       " 4     50                     51.87\n",
       " ..   ...                       ...\n",
       " 995   29                     67.35\n",
       " 996   29                     56.64\n",
       " 997   48                     36.91\n",
       " 998   26                     81.56\n",
       " 999   36                     83.98\n",
       " \n",
       " [1000 rows x 2 columns],\n",
       "      Age  Daily Time Spent on Site  Area Income  Male\n",
       " 0     41                     82.03     71511.08     0\n",
       " 1     44                     80.03     24030.06     0\n",
       " 2     59                     51.38     42362.49     0\n",
       " 3     40                     77.07     44559.43     0\n",
       " 4     50                     51.87     51869.87     0\n",
       " ..   ...                       ...          ...   ...\n",
       " 995   29                     67.35     47510.42     0\n",
       " 996   29                     56.64     55984.89     1\n",
       " 997   48                     36.91     54645.20     0\n",
       " 998   26                     81.56     51363.16     1\n",
       " 999   36                     83.98     68305.91     0\n",
       " \n",
       " [1000 rows x 4 columns],\n",
       "      Age  Daily Time Spent on Site  Area Income  Male  Daily Internet Usage\n",
       " 0     41                     82.03     71511.08     0                187.53\n",
       " 1     44                     80.03     24030.06     0                150.84\n",
       " 2     59                     51.38     42362.49     0                158.56\n",
       " 3     40                     77.07     44559.43     0                261.02\n",
       " 4     50                     51.87     51869.87     0                119.65\n",
       " ..   ...                       ...          ...   ...                   ...\n",
       " 995   29                     67.35     47510.42     0                118.69\n",
       " 996   29                     56.64     55984.89     1                123.24\n",
       " 997   48                     36.91     54645.20     0                159.69\n",
       " 998   26                     81.56     51363.16     1                213.70\n",
       " 999   36                     83.98     68305.91     0                194.62\n",
       " \n",
       " [1000 rows x 5 columns]]"
      ]
     },
     "execution_count": 19,
     "metadata": {},
     "output_type": "execute_result"
    }
   ],
   "source": [
    "temp = [x1Q4, x2Q4, x3Q4]\n",
    "temp"
   ]
  },
  {
   "cell_type": "code",
   "execution_count": 20,
   "id": "5da70935-1f3b-4384-b148-c45dc744f415",
   "metadata": {
    "tags": []
   },
   "outputs": [
    {
     "name": "stderr",
     "output_type": "stream",
     "text": [
      "C:\\Users\\Test\\anaconda3\\Lib\\site-packages\\sklearn\\linear_model\\_logistic.py:460: ConvergenceWarning: lbfgs failed to converge (status=1):\n",
      "STOP: TOTAL NO. of ITERATIONS REACHED LIMIT.\n",
      "\n",
      "Increase the number of iterations (max_iter) or scale the data as shown in:\n",
      "    https://scikit-learn.org/stable/modules/preprocessing.html\n",
      "Please also refer to the documentation for alternative solver options:\n",
      "    https://scikit-learn.org/stable/modules/linear_model.html#logistic-regression\n",
      "  n_iter_i = _check_optimize_result(\n"
     ]
    }
   ],
   "source": [
    "AUC = []\n",
    "modQ4 = LogisticRegression()\n",
    "\n",
    "for i in temp:\n",
    "    xQ4tr, xQ4te, yQ4tr, yQ4te = train_test_split(i, yQ4, test_size = 0.3, random_state = 101)\n",
    "    modQ4.fit(xQ4tr, yQ4tr)\n",
    "    yQ4Pred = modQ4.predict(xQ4te)\n",
    "    \n",
    "    acc, precision, recall, f1score, auc = classification_metrics(yQ4Pred, yQ4te)\n",
    "    AUC.append(auc)"
   ]
  },
  {
   "cell_type": "code",
   "execution_count": 21,
   "id": "3e0b59b0-33f5-45a9-af09-feeb09b29833",
   "metadata": {},
   "outputs": [
    {
     "data": {
      "text/plain": [
       "[0.8901974833191527, 0.870202857014912, 0.8957503022703863]"
      ]
     },
     "execution_count": 21,
     "metadata": {},
     "output_type": "execute_result"
    }
   ],
   "source": [
    "AUC"
   ]
  }
 ],
 "metadata": {
  "kernelspec": {
   "display_name": "Python 3 (ipykernel)",
   "language": "python",
   "name": "python3"
  },
  "language_info": {
   "codemirror_mode": {
    "name": "ipython",
    "version": 3
   },
   "file_extension": ".py",
   "mimetype": "text/x-python",
   "name": "python",
   "nbconvert_exporter": "python",
   "pygments_lexer": "ipython3",
   "version": "3.11.5"
  }
 },
 "nbformat": 4,
 "nbformat_minor": 5
}
