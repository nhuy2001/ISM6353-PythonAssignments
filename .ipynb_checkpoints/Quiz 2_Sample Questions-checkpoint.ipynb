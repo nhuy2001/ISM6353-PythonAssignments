{
 "cells": [
  {
   "cell_type": "code",
   "execution_count": 1,
   "id": "85850a7c-56b0-4c00-8dc4-8db32bac4884",
   "metadata": {
    "tags": []
   },
   "outputs": [],
   "source": [
    "import pandas as pd"
   ]
  },
  {
   "cell_type": "code",
   "execution_count": 2,
   "id": "609374fb-4678-4e6c-be62-57784d009460",
   "metadata": {
    "tags": []
   },
   "outputs": [],
   "source": [
    "superstore = pd.read_csv(\"Superstore.csv\")"
   ]
  },
  {
   "cell_type": "markdown",
   "id": "09f1a3f6-c5a7-421c-9fe6-bf2ad91dda73",
   "metadata": {},
   "source": [
    "##### **How many unique customer names are there in the state of Washington**"
   ]
  },
  {
   "cell_type": "code",
   "execution_count": 7,
   "id": "7b142f0f-cc2d-4886-a36c-182ab1b25cd1",
   "metadata": {
    "tags": []
   },
   "outputs": [
    {
     "data": {
      "text/plain": [
       "41"
      ]
     },
     "execution_count": 7,
     "metadata": {},
     "output_type": "execute_result"
    }
   ],
   "source": [
    "uniqueWA = superstore[superstore['State'] == 'Washington']['Customer Name']\n",
    "uniqueWA.nunique() #41"
   ]
  },
  {
   "cell_type": "markdown",
   "id": "dcd7da09-6d80-4324-a276-76c385d2429f",
   "metadata": {},
   "source": [
    "##### **Create a new variable 'Profit_Margin' that is profit divided by sales. Create a dataframe that sorts average profit margin by item ID in ascending order. What's the item ID of the product with the lowest average profit margin?**"
   ]
  },
  {
   "cell_type": "code",
   "execution_count": 8,
   "id": "9b25d5e4-8113-4e42-8f96-f5b9bf17be8b",
   "metadata": {
    "tags": []
   },
   "outputs": [],
   "source": [
    "superstore['Profit_Margin'] = superstore['Profit'] / superstore['Sales']"
   ]
  },
  {
   "cell_type": "code",
   "execution_count": 14,
   "id": "2e06bebf-8002-4dbc-ada0-077735a6c74c",
   "metadata": {
    "tags": []
   },
   "outputs": [
    {
     "data": {
      "text/plain": [
       "Item ID\n",
       "11055   -131.743966\n",
       "Name: Profit_Margin, dtype: float64"
      ]
     },
     "execution_count": 14,
     "metadata": {},
     "output_type": "execute_result"
    }
   ],
   "source": [
    "superstore.groupby('Item ID').mean(numeric_only = True)['Profit_Margin'].sort_values().head(1)"
   ]
  },
  {
   "cell_type": "markdown",
   "id": "cddd5d00-a5d3-41b7-abde-64dd9aa650af",
   "metadata": {},
   "source": [
    "##### **Create a dataframe that counts the number of records for the paper category by customer ID. Create another dataframe that counts the number of records for the tables category by customer id. Merge the 2 dataframes by customer id so only customer ids with purchases in both categories are kept. How many customers made purchases in both cateogries?**"
   ]
  },
  {
   "cell_type": "code",
   "execution_count": 24,
   "id": "be2e0020-6968-4e8e-b10b-36958caeeb98",
   "metadata": {
    "tags": []
   },
   "outputs": [],
   "source": [
    "paperCount = superstore[superstore['Category'] == 'Paper']['Customer ID'].value_counts().to_frame().rename(columns = {'count': 'numPaper'})\n",
    "tableCount = superstore[superstore['Category'] == 'Tables']['Customer ID'].value_counts().to_frame().rename(columns = {'count': 'numTable'})"
   ]
  },
  {
   "cell_type": "code",
   "execution_count": 25,
   "id": "c5911030-bd46-46f7-843a-41927a9e5272",
   "metadata": {
    "tags": []
   },
   "outputs": [
    {
     "data": {
      "text/html": [
       "<div>\n",
       "<style scoped>\n",
       "    .dataframe tbody tr th:only-of-type {\n",
       "        vertical-align: middle;\n",
       "    }\n",
       "\n",
       "    .dataframe tbody tr th {\n",
       "        vertical-align: top;\n",
       "    }\n",
       "\n",
       "    .dataframe thead th {\n",
       "        text-align: right;\n",
       "    }\n",
       "</style>\n",
       "<table border=\"1\" class=\"dataframe\">\n",
       "  <thead>\n",
       "    <tr style=\"text-align: right;\">\n",
       "      <th></th>\n",
       "      <th>numPaper</th>\n",
       "      <th>numTable</th>\n",
       "    </tr>\n",
       "    <tr>\n",
       "      <th>Customer ID</th>\n",
       "      <th></th>\n",
       "      <th></th>\n",
       "    </tr>\n",
       "  </thead>\n",
       "  <tbody>\n",
       "    <tr>\n",
       "      <th>198</th>\n",
       "      <td>4</td>\n",
       "      <td>1</td>\n",
       "    </tr>\n",
       "    <tr>\n",
       "      <th>2498</th>\n",
       "      <td>4</td>\n",
       "      <td>1</td>\n",
       "    </tr>\n",
       "    <tr>\n",
       "      <th>2499</th>\n",
       "      <td>4</td>\n",
       "      <td>1</td>\n",
       "    </tr>\n",
       "    <tr>\n",
       "      <th>2107</th>\n",
       "      <td>4</td>\n",
       "      <td>1</td>\n",
       "    </tr>\n",
       "    <tr>\n",
       "      <th>699</th>\n",
       "      <td>4</td>\n",
       "      <td>3</td>\n",
       "    </tr>\n",
       "    <tr>\n",
       "      <th>...</th>\n",
       "      <td>...</td>\n",
       "      <td>...</td>\n",
       "    </tr>\n",
       "    <tr>\n",
       "      <th>961</th>\n",
       "      <td>1</td>\n",
       "      <td>2</td>\n",
       "    </tr>\n",
       "    <tr>\n",
       "      <th>1591</th>\n",
       "      <td>1</td>\n",
       "      <td>1</td>\n",
       "    </tr>\n",
       "    <tr>\n",
       "      <th>448</th>\n",
       "      <td>1</td>\n",
       "      <td>1</td>\n",
       "    </tr>\n",
       "    <tr>\n",
       "      <th>3004</th>\n",
       "      <td>1</td>\n",
       "      <td>1</td>\n",
       "    </tr>\n",
       "    <tr>\n",
       "      <th>3006</th>\n",
       "      <td>1</td>\n",
       "      <td>1</td>\n",
       "    </tr>\n",
       "  </tbody>\n",
       "</table>\n",
       "<p>184 rows × 2 columns</p>\n",
       "</div>"
      ],
      "text/plain": [
       "             numPaper  numTable\n",
       "Customer ID                    \n",
       "198                 4         1\n",
       "2498                4         1\n",
       "2499                4         1\n",
       "2107                4         1\n",
       "699                 4         3\n",
       "...               ...       ...\n",
       "961                 1         2\n",
       "1591                1         1\n",
       "448                 1         1\n",
       "3004                1         1\n",
       "3006                1         1\n",
       "\n",
       "[184 rows x 2 columns]"
      ]
     },
     "execution_count": 25,
     "metadata": {},
     "output_type": "execute_result"
    }
   ],
   "source": [
    "pd.merge(paperCount, tableCount, how = 'inner', on = 'Customer ID')\n",
    "#184 customers"
   ]
  }
 ],
 "metadata": {
  "kernelspec": {
   "display_name": "Python 3 (ipykernel)",
   "language": "python",
   "name": "python3"
  },
  "language_info": {
   "codemirror_mode": {
    "name": "ipython",
    "version": 3
   },
   "file_extension": ".py",
   "mimetype": "text/x-python",
   "name": "python",
   "nbconvert_exporter": "python",
   "pygments_lexer": "ipython3",
   "version": "3.11.5"
  }
 },
 "nbformat": 4,
 "nbformat_minor": 5
}
