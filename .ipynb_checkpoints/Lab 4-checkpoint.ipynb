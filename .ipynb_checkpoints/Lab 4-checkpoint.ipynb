{
 "cells": [
  {
   "cell_type": "code",
   "execution_count": 1,
   "id": "dad634b1-aeee-47ee-ab0a-30455834e658",
   "metadata": {
    "tags": []
   },
   "outputs": [],
   "source": [
    "#Import packages\n",
    "import pandas as pd\n",
    "import numpy as np\n",
    "import seaborn as sns\n",
    "\n",
    "from sklearn.svm import SVC \n",
    "from sklearn.naive_bayes import GaussianNB\n",
    "\n",
    "from sklearn.tree import DecisionTreeClassifier # libraries in sklearn \n",
    "from sklearn.ensemble import RandomForestClassifier # libraries in sklearn\n",
    "\n",
    "from sklearn.model_selection import train_test_split\n",
    "from sklearn.metrics import *\n",
    "from sklearn.feature_selection import mutual_info_classif\n",
    "import matplotlib.pyplot as plt\n",
    "%matplotlib inline"
   ]
  },
  {
   "cell_type": "code",
   "execution_count": 2,
   "id": "c5767e02-cdd2-4f9a-9d81-83c7a02e9b80",
   "metadata": {
    "tags": []
   },
   "outputs": [],
   "source": [
    "#Read Datasets\n",
    "superstore = pd.read_csv('Superstore.csv')\n",
    "advertising = pd.read_csv('advertising.csv')"
   ]
  },
  {
   "cell_type": "code",
   "execution_count": 3,
   "id": "3e37d6f8-cc2a-422a-b4eb-142a1f738de0",
   "metadata": {
    "tags": []
   },
   "outputs": [],
   "source": [
    "def classification_metrics(Y_pred, Y_true):\n",
    "    acc = accuracy_score(Y_true, Y_pred)\n",
    "    precision = precision_score(Y_true, Y_pred)\n",
    "    recall = recall_score(Y_true, Y_pred)\n",
    "    f1score = f1_score(Y_true, Y_pred)\n",
    "    auc = roc_auc_score(Y_true, Y_pred)\n",
    "\n",
    "    return acc, precision, recall, f1score, auc\n",
    "\n",
    "# define a function for printing the metrics \n",
    "def display_metrics(classifierName,Y_pred,Y_true):\n",
    "    print (\"______________________________________________\")\n",
    "    print (\"Model: \"+classifierName)\n",
    "    acc, precision, recall, f1score, auc = classification_metrics(Y_pred,Y_true)\n",
    "    print (\"Accuracy: \"+str(acc))\n",
    "    print (\"Precision: \"+str(precision))\n",
    "    print (\"Recall: \"+str(recall))\n",
    "    print (\"F1-score: \"+str(f1score))\n",
    "    print (\"AUC: \"+str(auc))\n",
    "    print (\"______________________________________________\")\n",
    "    print (\"\")"
   ]
  },
  {
   "cell_type": "code",
   "execution_count": 4,
   "id": "5b615c2e-d560-4f20-8715-c92878d8c381",
   "metadata": {
    "tags": []
   },
   "outputs": [
    {
     "data": {
      "text/plain": [
       "0    58\n",
       "1    77\n",
       "2    18\n",
       "3    73\n",
       "4    20\n",
       "Name: Total Cost, dtype: int64"
      ]
     },
     "execution_count": 4,
     "metadata": {},
     "output_type": "execute_result"
    }
   ],
   "source": [
    "#New Columns\n",
    "##Total Cost\n",
    "superstore['Total Cost'] = superstore.Sales + superstore['Shipping Cost']\n",
    "superstore['Total Cost'].head()"
   ]
  },
  {
   "cell_type": "code",
   "execution_count": 5,
   "id": "748962d3-a539-47a5-8f46-59e7c83394d0",
   "metadata": {},
   "outputs": [],
   "source": [
    "# 2. Use the Superstore data. Extract the following columns in this order: Sales, Unit Price, Profit. \n",
    "# Keep only transactions with profit > 10. \n",
    "# What's the value at index [250, 1]? "
   ]
  },
  {
   "cell_type": "code",
   "execution_count": 6,
   "id": "00b39320-7e10-4dd0-98ee-c67ae600e99a",
   "metadata": {
    "tags": []
   },
   "outputs": [
    {
     "data": {
      "text/html": [
       "<div>\n",
       "<style scoped>\n",
       "    .dataframe tbody tr th:only-of-type {\n",
       "        vertical-align: middle;\n",
       "    }\n",
       "\n",
       "    .dataframe tbody tr th {\n",
       "        vertical-align: top;\n",
       "    }\n",
       "\n",
       "    .dataframe thead th {\n",
       "        text-align: right;\n",
       "    }\n",
       "</style>\n",
       "<table border=\"1\" class=\"dataframe\">\n",
       "  <thead>\n",
       "    <tr style=\"text-align: right;\">\n",
       "      <th></th>\n",
       "      <th>Sales</th>\n",
       "      <th>Unit Price</th>\n",
       "      <th>Profit</th>\n",
       "    </tr>\n",
       "  </thead>\n",
       "  <tbody>\n",
       "    <tr>\n",
       "      <th>count</th>\n",
       "      <td>4303.000000</td>\n",
       "      <td>4303.000000</td>\n",
       "      <td>4303.000000</td>\n",
       "    </tr>\n",
       "    <tr>\n",
       "      <th>mean</th>\n",
       "      <td>1442.983965</td>\n",
       "      <td>104.054381</td>\n",
       "      <td>574.574715</td>\n",
       "    </tr>\n",
       "    <tr>\n",
       "      <th>std</th>\n",
       "      <td>3425.672361</td>\n",
       "      <td>240.132143</td>\n",
       "      <td>1106.887312</td>\n",
       "    </tr>\n",
       "    <tr>\n",
       "      <th>min</th>\n",
       "      <td>3.000000</td>\n",
       "      <td>1.000000</td>\n",
       "      <td>11.000000</td>\n",
       "    </tr>\n",
       "    <tr>\n",
       "      <th>25%</th>\n",
       "      <td>136.000000</td>\n",
       "      <td>12.000000</td>\n",
       "      <td>49.000000</td>\n",
       "    </tr>\n",
       "    <tr>\n",
       "      <th>50%</th>\n",
       "      <td>441.000000</td>\n",
       "      <td>40.000000</td>\n",
       "      <td>176.000000</td>\n",
       "    </tr>\n",
       "    <tr>\n",
       "      <th>75%</th>\n",
       "      <td>1390.000000</td>\n",
       "      <td>121.000000</td>\n",
       "      <td>585.000000</td>\n",
       "    </tr>\n",
       "    <tr>\n",
       "      <th>max</th>\n",
       "      <td>100119.000000</td>\n",
       "      <td>6783.000000</td>\n",
       "      <td>16332.000000</td>\n",
       "    </tr>\n",
       "  </tbody>\n",
       "</table>\n",
       "</div>"
      ],
      "text/plain": [
       "               Sales   Unit Price        Profit\n",
       "count    4303.000000  4303.000000   4303.000000\n",
       "mean     1442.983965   104.054381    574.574715\n",
       "std      3425.672361   240.132143   1106.887312\n",
       "min         3.000000     1.000000     11.000000\n",
       "25%       136.000000    12.000000     49.000000\n",
       "50%       441.000000    40.000000    176.000000\n",
       "75%      1390.000000   121.000000    585.000000\n",
       "max    100119.000000  6783.000000  16332.000000"
      ]
     },
     "execution_count": 6,
     "metadata": {},
     "output_type": "execute_result"
    }
   ],
   "source": [
    "Q2dat = superstore[['Sales', 'Unit Price', 'Profit']]\n",
    "Q2dat = Q2dat[Q2dat['Profit'] > 10]\n",
    "Q2dat.describe() #Profit min is 11 so filtering works"
   ]
  },
  {
   "cell_type": "code",
   "execution_count": 7,
   "id": "de066afe-7aa0-4986-8f19-7f53bf226494",
   "metadata": {
    "tags": []
   },
   "outputs": [
    {
     "data": {
      "text/plain": [
       "20"
      ]
     },
     "execution_count": 7,
     "metadata": {},
     "output_type": "execute_result"
    }
   ],
   "source": [
    "Q2dat.iloc[250,1]"
   ]
  },
  {
   "cell_type": "code",
   "execution_count": 8,
   "id": "103d56cc-052c-4651-9a11-a4ae511aef89",
   "metadata": {},
   "outputs": [],
   "source": [
    "# 3. Use the Superstore data. Create a new variable Total Cost (sum of sales and shipping cost). \n",
    "# Extract the following columns in this order: Sales, Shipping Cost, Total Cost. \n",
    "# Keep only transactions in California. \n",
    "# What's the value at index [150, 2]? "
   ]
  },
  {
   "cell_type": "code",
   "execution_count": 9,
   "id": "1a71a398-8b4b-4e6f-aa92-36a18b5da43c",
   "metadata": {
    "tags": []
   },
   "outputs": [
    {
     "data": {
      "text/plain": [
       "3     California\n",
       "4     California\n",
       "21    California\n",
       "89    California\n",
       "93    California\n",
       "Name: State, dtype: object"
      ]
     },
     "execution_count": 9,
     "metadata": {},
     "output_type": "execute_result"
    }
   ],
   "source": [
    "Q3dat = superstore[superstore['State'] == 'California']\n",
    "Q3dat.State.head()"
   ]
  },
  {
   "cell_type": "code",
   "execution_count": 10,
   "id": "6042a96d-f046-45e9-828b-03ea79518476",
   "metadata": {
    "tags": []
   },
   "outputs": [
    {
     "data": {
      "text/html": [
       "<div>\n",
       "<style scoped>\n",
       "    .dataframe tbody tr th:only-of-type {\n",
       "        vertical-align: middle;\n",
       "    }\n",
       "\n",
       "    .dataframe tbody tr th {\n",
       "        vertical-align: top;\n",
       "    }\n",
       "\n",
       "    .dataframe thead th {\n",
       "        text-align: right;\n",
       "    }\n",
       "</style>\n",
       "<table border=\"1\" class=\"dataframe\">\n",
       "  <thead>\n",
       "    <tr style=\"text-align: right;\">\n",
       "      <th></th>\n",
       "      <th>Sales</th>\n",
       "      <th>Shipping Cost</th>\n",
       "      <th>Total Cost</th>\n",
       "    </tr>\n",
       "  </thead>\n",
       "  <tbody>\n",
       "    <tr>\n",
       "      <th>count</th>\n",
       "      <td>798.000000</td>\n",
       "      <td>798.000000</td>\n",
       "      <td>798.000000</td>\n",
       "    </tr>\n",
       "    <tr>\n",
       "      <th>mean</th>\n",
       "      <td>1221.864662</td>\n",
       "      <td>13.273183</td>\n",
       "      <td>1235.137845</td>\n",
       "    </tr>\n",
       "    <tr>\n",
       "      <th>std</th>\n",
       "      <td>4457.990300</td>\n",
       "      <td>17.088978</td>\n",
       "      <td>4461.927464</td>\n",
       "    </tr>\n",
       "    <tr>\n",
       "      <th>min</th>\n",
       "      <td>2.000000</td>\n",
       "      <td>0.000000</td>\n",
       "      <td>3.000000</td>\n",
       "    </tr>\n",
       "    <tr>\n",
       "      <th>25%</th>\n",
       "      <td>60.250000</td>\n",
       "      <td>4.000000</td>\n",
       "      <td>68.000000</td>\n",
       "    </tr>\n",
       "    <tr>\n",
       "      <th>50%</th>\n",
       "      <td>198.000000</td>\n",
       "      <td>6.000000</td>\n",
       "      <td>203.000000</td>\n",
       "    </tr>\n",
       "    <tr>\n",
       "      <th>75%</th>\n",
       "      <td>880.250000</td>\n",
       "      <td>14.000000</td>\n",
       "      <td>895.500000</td>\n",
       "    </tr>\n",
       "    <tr>\n",
       "      <th>max</th>\n",
       "      <td>100119.000000</td>\n",
       "      <td>91.000000</td>\n",
       "      <td>100164.000000</td>\n",
       "    </tr>\n",
       "  </tbody>\n",
       "</table>\n",
       "</div>"
      ],
      "text/plain": [
       "               Sales  Shipping Cost     Total Cost\n",
       "count     798.000000     798.000000     798.000000\n",
       "mean     1221.864662      13.273183    1235.137845\n",
       "std      4457.990300      17.088978    4461.927464\n",
       "min         2.000000       0.000000       3.000000\n",
       "25%        60.250000       4.000000      68.000000\n",
       "50%       198.000000       6.000000     203.000000\n",
       "75%       880.250000      14.000000     895.500000\n",
       "max    100119.000000      91.000000  100164.000000"
      ]
     },
     "execution_count": 10,
     "metadata": {},
     "output_type": "execute_result"
    }
   ],
   "source": [
    "Q3dat = Q3dat[['Sales', 'Shipping Cost', 'Total Cost']]\n",
    "Q3dat.describe()"
   ]
  },
  {
   "cell_type": "code",
   "execution_count": 11,
   "id": "678c406f-bee1-494c-88fc-006ac0f3c997",
   "metadata": {
    "tags": []
   },
   "outputs": [
    {
     "data": {
      "text/plain": [
       "389"
      ]
     },
     "execution_count": 11,
     "metadata": {},
     "output_type": "execute_result"
    }
   ],
   "source": [
    "Q3dat.iloc[150,2]"
   ]
  },
  {
   "cell_type": "code",
   "execution_count": 12,
   "id": "e106996b-4d95-47ff-a777-8fa662caeb71",
   "metadata": {},
   "outputs": [],
   "source": [
    "# 4. Use the Superstore data. First, find the category with the most transactions with negative profit.\n",
    "# For that category, how many transactions have negative profit?"
   ]
  },
  {
   "cell_type": "code",
   "execution_count": 13,
   "id": "fbc76e10-50df-49ee-b1e3-662d76f48e66",
   "metadata": {
    "tags": []
   },
   "outputs": [
    {
     "data": {
      "text/plain": [
       "Category\n",
       "Paper                             753\n",
       "Binders and Binder Accessories    561\n",
       "Computer Peripherals              413\n",
       "Storage & Organization            383\n",
       "Office Furnishings                356\n",
       "Telephones and Communication      344\n",
       "Pens & Art Supplies               335\n",
       "Tables                            268\n",
       "Appliances                        233\n",
       "Chairs & Chairmats                218\n",
       "Office Machines                   142\n",
       "Bookcases                         141\n",
       "Rubber Bands                      106\n",
       "Scissors, Rulers and Trimmers      98\n",
       "Envelopes                          89\n",
       "Labels                             58\n",
       "Copiers and Fax                    34\n",
       "Name: count, dtype: int64"
      ]
     },
     "execution_count": 13,
     "metadata": {},
     "output_type": "execute_result"
    }
   ],
   "source": [
    "Q4dat = superstore[superstore['Profit'] < 0].Category.value_counts()\n",
    "Q4dat #753 "
   ]
  },
  {
   "cell_type": "code",
   "execution_count": 14,
   "id": "065a0a40-a355-42dd-a696-f7b634dfbc20",
   "metadata": {},
   "outputs": [],
   "source": [
    "# 5. Use the Superstore data. How many unique customer names are there in the state of Washington? "
   ]
  },
  {
   "cell_type": "code",
   "execution_count": 15,
   "id": "0e72c840-7f4d-4a76-8f1f-e5978a0f8259",
   "metadata": {
    "tags": []
   },
   "outputs": [
    {
     "data": {
      "text/plain": [
       "41"
      ]
     },
     "execution_count": 15,
     "metadata": {},
     "output_type": "execute_result"
    }
   ],
   "source": [
    "Q5dat = superstore[superstore['State'] == 'Washington']['Customer Name'].nunique()\n",
    "Q5dat"
   ]
  },
  {
   "cell_type": "code",
   "execution_count": 16,
   "id": "10c249f0-c2fb-4bf4-954e-0246bdf29cb0",
   "metadata": {},
   "outputs": [],
   "source": [
    "# 6. Use the Superstore data. What's the most number of transactions made by a customer in the Central Region? "
   ]
  },
  {
   "cell_type": "code",
   "execution_count": 17,
   "id": "09e7a23a-8a0d-49f7-bcac-200f07dfa97d",
   "metadata": {},
   "outputs": [
    {
     "data": {
      "text/plain": [
       "Customer ID\n",
       "308     21\n",
       "1999    19\n",
       "1106    17\n",
       "1402    16\n",
       "94      14\n",
       "        ..\n",
       "3277     1\n",
       "2411     1\n",
       "1021     1\n",
       "2892     1\n",
       "2866     1\n",
       "Name: count, Length: 640, dtype: int64"
      ]
     },
     "execution_count": 17,
     "metadata": {},
     "output_type": "execute_result"
    }
   ],
   "source": [
    "Q6dat = superstore[superstore['Region'] == 'Central']\n",
    "Q6dat['Customer ID'].value_counts()\n",
    "#21 is the highest"
   ]
  },
  {
   "cell_type": "code",
   "execution_count": 18,
   "id": "144fb3ac-1b33-4cb8-a3d3-cdc7afe3d228",
   "metadata": {},
   "outputs": [],
   "source": [
    "# 7. Use the Superstore data. What's the total sales value across all products in the appliances category? "
   ]
  },
  {
   "cell_type": "code",
   "execution_count": 19,
   "id": "135b03f7-4b6f-49c4-9735-8830894158df",
   "metadata": {
    "tags": []
   },
   "outputs": [
    {
     "data": {
      "text/plain": [
       "456736"
      ]
     },
     "execution_count": 19,
     "metadata": {},
     "output_type": "execute_result"
    }
   ],
   "source": [
    "superstore[superstore['Category'] == 'Appliances'].Sales.sum()\n",
    "#Total Sales = 456736 in the Appliances"
   ]
  },
  {
   "cell_type": "code",
   "execution_count": 20,
   "id": "bafd3d39-723a-42cd-8104-124187baf768",
   "metadata": {},
   "outputs": [],
   "source": [
    "# 8. Use the Superstore data. For the customer with the most transactions in the entire data, what's the total sales generated by that customer? "
   ]
  },
  {
   "cell_type": "code",
   "execution_count": 21,
   "id": "e4983fe1-4ee6-4cc2-97c8-b5027458482d",
   "metadata": {
    "tags": []
   },
   "outputs": [
    {
     "data": {
      "text/plain": [
       "Customer ID\n",
       "1193    27\n",
       "699     26\n",
       "2107    22\n",
       "2491    22\n",
       "308     21\n",
       "        ..\n",
       "434      1\n",
       "1187     1\n",
       "2434     1\n",
       "2435     1\n",
       "931      1\n",
       "Name: count, Length: 2703, dtype: int64"
      ]
     },
     "execution_count": 21,
     "metadata": {},
     "output_type": "execute_result"
    }
   ],
   "source": [
    "superstore['Customer ID'].value_counts()\n",
    "#Customer 1193 has the most transactions"
   ]
  },
  {
   "cell_type": "code",
   "execution_count": 22,
   "id": "4593e42d-658c-4a52-a950-8ab56eaf5647",
   "metadata": {
    "tags": []
   },
   "outputs": [
    {
     "data": {
      "text/plain": [
       "32896"
      ]
     },
     "execution_count": 22,
     "metadata": {},
     "output_type": "execute_result"
    }
   ],
   "source": [
    "superstore[superstore['Customer ID'] == 1193].Sales.sum() \n",
    "#Total Sales of this person is 32896"
   ]
  },
  {
   "cell_type": "code",
   "execution_count": 23,
   "id": "6fda48b6-5b6a-48a2-81dd-c96a3abbb9b1",
   "metadata": {},
   "outputs": [],
   "source": [
    "# 9. Use the Superstore data. What's the average sales across all transactions with order date in August 2015? \n",
    "# There are multiple ways to get the answer. One way is to extract month and year as in previous labs. \n",
    "# Look up pd.to_datetime() and the parameter 'format' in the documentation. \n",
    "# Then calculate average sales for transactions with order date in August 2015.\n",
    "# Round your answer to nearest whole number."
   ]
  },
  {
   "cell_type": "code",
   "execution_count": 24,
   "id": "7b97ee0e-87d0-4fb6-ab08-bead2b3ac8db",
   "metadata": {
    "tags": []
   },
   "outputs": [],
   "source": [
    "Month = pd.to_datetime(superstore['Order Date'], format = '%m/%d/%Y').dt.month\n",
    "Year = pd.to_datetime(superstore['Order Date'], format = '%m/%d/%Y').dt.year"
   ]
  },
  {
   "cell_type": "code",
   "execution_count": 25,
   "id": "e0e3f577-0f5d-4e0f-96cc-84c3e4494a6e",
   "metadata": {
    "tags": []
   },
   "outputs": [],
   "source": [
    "superstore['Month'] = Month\n",
    "superstore['Year'] = Year"
   ]
  },
  {
   "cell_type": "code",
   "execution_count": 26,
   "id": "8da95242-2b24-47bb-8b32-95ac00077774",
   "metadata": {
    "tags": []
   },
   "outputs": [
    {
     "data": {
      "text/plain": [
       "66      8/27/2015\n",
       "70      8/24/2015\n",
       "107     8/13/2015\n",
       "145     8/18/2015\n",
       "188     8/11/2015\n",
       "          ...    \n",
       "9310    8/18/2015\n",
       "9331    8/28/2015\n",
       "9335    8/21/2015\n",
       "9374    8/24/2015\n",
       "9416    8/24/2015\n",
       "Name: Order Date, Length: 264, dtype: object"
      ]
     },
     "execution_count": 26,
     "metadata": {},
     "output_type": "execute_result"
    }
   ],
   "source": [
    "Q9dat = superstore[(superstore['Month'] == 8) & (superstore['Year'] == 2015)]\n",
    "Q9dat['Order Date']"
   ]
  },
  {
   "cell_type": "code",
   "execution_count": 27,
   "id": "ed8f58ee-f582-4293-95f9-4116ba7575af",
   "metadata": {
    "tags": []
   },
   "outputs": [
    {
     "data": {
      "text/plain": [
       "1084.8560606060605"
      ]
     },
     "execution_count": 27,
     "metadata": {},
     "output_type": "execute_result"
    }
   ],
   "source": [
    "Q9dat['Sales'].mean()"
   ]
  },
  {
   "cell_type": "code",
   "execution_count": 28,
   "id": "434c1757-2715-42ec-b64d-1d86cc2b684d",
   "metadata": {},
   "outputs": [],
   "source": [
    "# 10. Use the Superstore data. Crete a new variable Quarter based on month of order date. \n",
    "# Quarter = Q1 if the month of order date is from January to March. \n",
    "# Quarter = Q2 if the month of order date is from April to June. \n",
    "# Quarter = Q3 if the month of order date is from July to September. \n",
    "# Quarter = Q4 if the month of order date is from October to December. \n",
    "\n",
    "# Which quarter (regardless of year) has the most transactions? Enter the quarter number. "
   ]
  },
  {
   "cell_type": "code",
   "execution_count": 29,
   "id": "e5ffd098-696e-488b-85a5-49ea1a7da8f0",
   "metadata": {
    "tags": []
   },
   "outputs": [
    {
     "data": {
      "text/plain": [
       "(0       Q4\n",
       " 1       Q4\n",
       " 2       Q4\n",
       " 3       Q1\n",
       " 4       Q1\n",
       "         ..\n",
       " 9421    Q4\n",
       " 9422    Q3\n",
       " 9423    Q4\n",
       " 9424    Q3\n",
       " 9425    Q3\n",
       " Name: Quarter, Length: 9426, dtype: object,\n",
       " array(['Q4', 'Q1', 'Q3', 'Q2'], dtype=object))"
      ]
     },
     "execution_count": 29,
     "metadata": {},
     "output_type": "execute_result"
    }
   ],
   "source": [
    "#Select Method\n",
    "Q10dat = superstore\n",
    "Conditions = [\n",
    "    (Q10dat['Month'] >= 1) & (Q10dat['Month'] <= 3),\n",
    "    (Q10dat['Month'] >= 4) & (Q10dat['Month'] <= 6),\n",
    "    (Q10dat['Month'] >= 7) & (Q10dat['Month'] <= 9),\n",
    "    (Q10dat['Month'] >= 10) & (Q10dat['Month'] <= 12)\n",
    "]\n",
    "Choices = ['Q1', 'Q2', 'Q3', 'Q4']\n",
    "Q10dat['Quarter'] = np.select(Conditions, Choices)\n",
    "Q10dat.Quarter, Q10dat.Quarter.unique()"
   ]
  },
  {
   "cell_type": "code",
   "execution_count": 30,
   "id": "f3999aad-de02-4768-8f25-356d9e9f217c",
   "metadata": {
    "tags": []
   },
   "outputs": [
    {
     "data": {
      "text/plain": [
       "Quarter\n",
       "Q4    3704\n",
       "Q3    3499\n",
       "Q1    2091\n",
       "Q2     132\n",
       "Name: count, dtype: int64"
      ]
     },
     "execution_count": 30,
     "metadata": {},
     "output_type": "execute_result"
    }
   ],
   "source": [
    "Q10dat.Quarter.value_counts()"
   ]
  },
  {
   "cell_type": "code",
   "execution_count": 31,
   "id": "2427803f-bf7e-4f14-9511-3c736b288712",
   "metadata": {
    "tags": []
   },
   "outputs": [
    {
     "data": {
      "text/plain": [
       "(0       Q4\n",
       " 1       Q4\n",
       " 2       Q4\n",
       " 3       Q1\n",
       " 4       Q1\n",
       "         ..\n",
       " 9421    Q4\n",
       " 9422    Q3\n",
       " 9423    Q4\n",
       " 9424    Q3\n",
       " 9425    Q3\n",
       " Name: Quarter, Length: 9426, dtype: object,\n",
       " array(['Q4', 'Q1', 'Q3', 'Q2'], dtype=object))"
      ]
     },
     "execution_count": 31,
     "metadata": {},
     "output_type": "execute_result"
    }
   ],
   "source": [
    "#Lambda Function Method\n",
    "def getQuarter(x): \n",
    "    if (x['Month'] >= 1) & (x['Month'] <= 3):\n",
    "        quarter = 'Q1'\n",
    "    elif ((x['Month'] >= 4) & (x['Month'] <= 6)):\n",
    "        quarter = 'Q2'\n",
    "    elif ((x['Month'] >= 7) & (x['Month'] <= 9)): \n",
    "        quarter = 'Q3'\n",
    "    else :\n",
    "        quarter = 'Q4'\n",
    "        \n",
    "    return quarter \n",
    "\n",
    "Q10Alt = superstore\n",
    "Q10Alt['Quarter'] = Q10Alt.apply(lambda x: getQuarter(x), axis = 1)\n",
    "Q10Alt['Quarter'], Q10Alt.Quarter.unique()"
   ]
  },
  {
   "cell_type": "code",
   "execution_count": 32,
   "id": "ecd7f50b-8586-450c-942c-d8ee2b3b0572",
   "metadata": {
    "tags": []
   },
   "outputs": [
    {
     "data": {
      "text/plain": [
       "Quarter\n",
       "Q4    3704\n",
       "Q3    3499\n",
       "Q1    2091\n",
       "Q2     132\n",
       "Name: count, dtype: int64"
      ]
     },
     "execution_count": 32,
     "metadata": {},
     "output_type": "execute_result"
    }
   ],
   "source": [
    "Q10Alt.Quarter.value_counts()"
   ]
  },
  {
   "cell_type": "code",
   "execution_count": 33,
   "id": "9c49061a-35ef-498a-8d9c-616669635d9d",
   "metadata": {},
   "outputs": [],
   "source": [
    "# 11. Use the advertising.csv data. Use sklearn. Use Clicked on Ad as the y-variable.\n",
    "\n",
    "# Train a decision tree with these x-variables: \n",
    "# Age, Daily Time Spent on Site, Area Income, Male, Daily Internet Usage, Country Dummies\n",
    "# Use 30% as test size, random_state=101. \n",
    "\n",
    "# Rank the variables based on feature importance. Which variable is the most important?"
   ]
  },
  {
   "cell_type": "code",
   "execution_count": 34,
   "id": "7b99a01a-8ce9-4799-88d7-d08913a849d0",
   "metadata": {
    "tags": []
   },
   "outputs": [],
   "source": [
    "yQ11 = advertising['Clicked on Ad']\n",
    "xQ11 = advertising[['Age', 'Daily Time Spent on Site', 'Area Income', 'Male', 'Daily Internet Usage']]\n",
    "Country = pd.get_dummies(data = advertising.Country, drop_first = True, dtype = int)\n",
    "xQ11 = pd.concat([xQ11, Country], axis = 1)"
   ]
  },
  {
   "cell_type": "code",
   "execution_count": 35,
   "id": "00be45a1-6175-459b-b4b1-5b950b598cc4",
   "metadata": {
    "tags": []
   },
   "outputs": [],
   "source": [
    "xQ11tr, xQ11te, yQ11tr, yQ11te = train_test_split(xQ11, yQ11, test_size=0.30, random_state=101)"
   ]
  },
  {
   "cell_type": "code",
   "execution_count": 36,
   "id": "c4dd5446-b5d5-4cc0-8167-de9243c230fd",
   "metadata": {
    "tags": []
   },
   "outputs": [
    {
     "data": {
      "text/html": [
       "<style>#sk-container-id-1 {color: black;}#sk-container-id-1 pre{padding: 0;}#sk-container-id-1 div.sk-toggleable {background-color: white;}#sk-container-id-1 label.sk-toggleable__label {cursor: pointer;display: block;width: 100%;margin-bottom: 0;padding: 0.3em;box-sizing: border-box;text-align: center;}#sk-container-id-1 label.sk-toggleable__label-arrow:before {content: \"▸\";float: left;margin-right: 0.25em;color: #696969;}#sk-container-id-1 label.sk-toggleable__label-arrow:hover:before {color: black;}#sk-container-id-1 div.sk-estimator:hover label.sk-toggleable__label-arrow:before {color: black;}#sk-container-id-1 div.sk-toggleable__content {max-height: 0;max-width: 0;overflow: hidden;text-align: left;background-color: #f0f8ff;}#sk-container-id-1 div.sk-toggleable__content pre {margin: 0.2em;color: black;border-radius: 0.25em;background-color: #f0f8ff;}#sk-container-id-1 input.sk-toggleable__control:checked~div.sk-toggleable__content {max-height: 200px;max-width: 100%;overflow: auto;}#sk-container-id-1 input.sk-toggleable__control:checked~label.sk-toggleable__label-arrow:before {content: \"▾\";}#sk-container-id-1 div.sk-estimator input.sk-toggleable__control:checked~label.sk-toggleable__label {background-color: #d4ebff;}#sk-container-id-1 div.sk-label input.sk-toggleable__control:checked~label.sk-toggleable__label {background-color: #d4ebff;}#sk-container-id-1 input.sk-hidden--visually {border: 0;clip: rect(1px 1px 1px 1px);clip: rect(1px, 1px, 1px, 1px);height: 1px;margin: -1px;overflow: hidden;padding: 0;position: absolute;width: 1px;}#sk-container-id-1 div.sk-estimator {font-family: monospace;background-color: #f0f8ff;border: 1px dotted black;border-radius: 0.25em;box-sizing: border-box;margin-bottom: 0.5em;}#sk-container-id-1 div.sk-estimator:hover {background-color: #d4ebff;}#sk-container-id-1 div.sk-parallel-item::after {content: \"\";width: 100%;border-bottom: 1px solid gray;flex-grow: 1;}#sk-container-id-1 div.sk-label:hover label.sk-toggleable__label {background-color: #d4ebff;}#sk-container-id-1 div.sk-serial::before {content: \"\";position: absolute;border-left: 1px solid gray;box-sizing: border-box;top: 0;bottom: 0;left: 50%;z-index: 0;}#sk-container-id-1 div.sk-serial {display: flex;flex-direction: column;align-items: center;background-color: white;padding-right: 0.2em;padding-left: 0.2em;position: relative;}#sk-container-id-1 div.sk-item {position: relative;z-index: 1;}#sk-container-id-1 div.sk-parallel {display: flex;align-items: stretch;justify-content: center;background-color: white;position: relative;}#sk-container-id-1 div.sk-item::before, #sk-container-id-1 div.sk-parallel-item::before {content: \"\";position: absolute;border-left: 1px solid gray;box-sizing: border-box;top: 0;bottom: 0;left: 50%;z-index: -1;}#sk-container-id-1 div.sk-parallel-item {display: flex;flex-direction: column;z-index: 1;position: relative;background-color: white;}#sk-container-id-1 div.sk-parallel-item:first-child::after {align-self: flex-end;width: 50%;}#sk-container-id-1 div.sk-parallel-item:last-child::after {align-self: flex-start;width: 50%;}#sk-container-id-1 div.sk-parallel-item:only-child::after {width: 0;}#sk-container-id-1 div.sk-dashed-wrapped {border: 1px dashed gray;margin: 0 0.4em 0.5em 0.4em;box-sizing: border-box;padding-bottom: 0.4em;background-color: white;}#sk-container-id-1 div.sk-label label {font-family: monospace;font-weight: bold;display: inline-block;line-height: 1.2em;}#sk-container-id-1 div.sk-label-container {text-align: center;}#sk-container-id-1 div.sk-container {/* jupyter's `normalize.less` sets `[hidden] { display: none; }` but bootstrap.min.css set `[hidden] { display: none !important; }` so we also need the `!important` here to be able to override the default hidden behavior on the sphinx rendered scikit-learn.org. See: https://github.com/scikit-learn/scikit-learn/issues/21755 */display: inline-block !important;position: relative;}#sk-container-id-1 div.sk-text-repr-fallback {display: none;}</style><div id=\"sk-container-id-1\" class=\"sk-top-container\"><div class=\"sk-text-repr-fallback\"><pre>DecisionTreeClassifier(criterion=&#x27;entropy&#x27;, random_state=101)</pre><b>In a Jupyter environment, please rerun this cell to show the HTML representation or trust the notebook. <br />On GitHub, the HTML representation is unable to render, please try loading this page with nbviewer.org.</b></div><div class=\"sk-container\" hidden><div class=\"sk-item\"><div class=\"sk-estimator sk-toggleable\"><input class=\"sk-toggleable__control sk-hidden--visually\" id=\"sk-estimator-id-1\" type=\"checkbox\" checked><label for=\"sk-estimator-id-1\" class=\"sk-toggleable__label sk-toggleable__label-arrow\">DecisionTreeClassifier</label><div class=\"sk-toggleable__content\"><pre>DecisionTreeClassifier(criterion=&#x27;entropy&#x27;, random_state=101)</pre></div></div></div></div></div>"
      ],
      "text/plain": [
       "DecisionTreeClassifier(criterion='entropy', random_state=101)"
      ]
     },
     "execution_count": 36,
     "metadata": {},
     "output_type": "execute_result"
    }
   ],
   "source": [
    "Q11mod = DecisionTreeClassifier(criterion='entropy', random_state=101)\n",
    "Q11mod.fit(xQ11tr, yQ11tr)"
   ]
  },
  {
   "cell_type": "code",
   "execution_count": 37,
   "id": "9804b323-91d7-4e0f-836d-2410c26aaeb9",
   "metadata": {
    "tags": []
   },
   "outputs": [
    {
     "name": "stdout",
     "output_type": "stream",
     "text": [
      "Feature ranking:\n",
      "                    Feature Total Reduction of Criterion\n",
      "0      Daily Internet Usage                     0.572528\n",
      "1  Daily Time Spent on Site                     0.274735\n",
      "2               Area Income                     0.079279\n",
      "3                       Age                     0.031066\n",
      "4                   Belgium                     0.010311\n",
      "5                  Thailand                     0.009102\n",
      "6                     China                     0.007717\n",
      "7                   Uruguay                     0.005671\n",
      "8                   Croatia                     0.004951\n",
      "9                    France                      0.00464\n"
     ]
    },
    {
     "data": {
      "text/plain": [
       "<Axes: title={'center': 'Feature importances'}, xlabel='Total Reduction of Criterion', ylabel='Feature'>"
      ]
     },
     "execution_count": 37,
     "metadata": {},
     "output_type": "execute_result"
    },
    {
     "data": {
      "image/png": "[encoded data removed]",
      "text/plain": [
       "<Figure size 640x480 with 1 Axes>"
      ]
     },
     "metadata": {},
     "output_type": "display_data"
    }
   ],
   "source": [
    "importances = Q11mod.feature_importances_ \n",
    "indices = np.argsort(importances)[::-1]\n",
    "\n",
    "print(\"Feature ranking:\")\n",
    "\n",
    "feature_names = xQ11tr.columns \n",
    "\n",
    "fi = pd.DataFrame([feature_names[indices[0:10]], importances[indices][0:10]])\n",
    "fi = fi.T\n",
    "fi.columns = ['Feature', 'Total Reduction of Criterion']\n",
    "\n",
    "print(fi)\n",
    "\n",
    "plt.figure()\n",
    "plt.title(\"Feature importances\")\n",
    "\n",
    "sns.set_color_codes(\"pastel\")\n",
    "sns.barplot(x=\"Total Reduction of Criterion\", y=\"Feature\", data=fi, color=\"b\")"
   ]
  },
  {
   "cell_type": "code",
   "execution_count": 38,
   "id": "8011ea25-b332-433a-8d94-ff34ca8b18bc",
   "metadata": {},
   "outputs": [],
   "source": [
    "# 12. Use the advertising.csv data. Use sklearn. Use Clicked on Ad as the y-variable.\n",
    "\n",
    "# Train 5 decision trees with these x-variables: \n",
    "# Age, Daily Time Spent on Site, Area Income, Male, Daily Internet Usage, Country Dummies\n",
    "# Vary the maximum tree depth for each model (use 5, 6, 7, 8, 9). \n",
    "# Use 30% as test size, random_state=101. \n",
    "\n",
    "# What is the average accuracy for the 5 models for the test set? Round the answer to 2 decimals.\n",
    "\n",
    "# Note: Different versions of Python and sklearn and processors may generate different results. \n",
    "# If you don't get the question right, check you code. If you think your code and answer are correct, submit your answer as is. \n",
    "# I will then grade it manually. "
   ]
  },
  {
   "cell_type": "code",
   "execution_count": 39,
   "id": "1d18e38b-c8d2-415e-99a9-4f7f1c2f6e19",
   "metadata": {
    "tags": []
   },
   "outputs": [],
   "source": [
    "yQ12 = yQ11\n",
    "xQ12 = xQ11\n",
    "\n",
    "maxDepth = [5, 6, 7, 8, 9]"
   ]
  },
  {
   "cell_type": "code",
   "execution_count": 40,
   "id": "a9f46100-eb98-4ceb-b613-f49106252a8b",
   "metadata": {
    "tags": []
   },
   "outputs": [],
   "source": [
    "xQ12tr, xQ12te, yQ12tr, yQ12te = train_test_split(xQ12, yQ12, test_size=0.30, random_state=101)"
   ]
  },
  {
   "cell_type": "code",
   "execution_count": 41,
   "id": "b8dc1da0-483e-4cd4-ba9f-2e800802061e",
   "metadata": {
    "tags": []
   },
   "outputs": [
    {
     "name": "stdout",
     "output_type": "stream",
     "text": [
      "max depth: 5 \n",
      " confusion matrix: \n",
      " [[157   6]\n",
      " [ 11 126]]\n",
      "______________________________________________\n",
      "Model: Decision Tree\n",
      "Accuracy: 0.9433333333333334\n",
      "Precision: 0.9545454545454546\n",
      "Recall: 0.9197080291970803\n",
      "F1-score: 0.9368029739776952\n",
      "AUC: 0.94144910662308\n",
      "______________________________________________\n",
      "\n",
      "max depth: 6 \n",
      " confusion matrix: \n",
      " [[157   6]\n",
      " [ 11 126]]\n",
      "______________________________________________\n",
      "Model: Decision Tree\n",
      "Accuracy: 0.9433333333333334\n",
      "Precision: 0.9545454545454546\n",
      "Recall: 0.9197080291970803\n",
      "F1-score: 0.9368029739776952\n",
      "AUC: 0.94144910662308\n",
      "______________________________________________\n",
      "\n",
      "max depth: 7 \n",
      " confusion matrix: \n",
      " [[155   8]\n",
      " [ 10 127]]\n",
      "______________________________________________\n",
      "Model: Decision Tree\n",
      "Accuracy: 0.94\n",
      "Precision: 0.9407407407407408\n",
      "Recall: 0.927007299270073\n",
      "F1-score: 0.9338235294117647\n",
      "AUC: 0.9389637723344229\n",
      "______________________________________________\n",
      "\n",
      "max depth: 8 \n",
      " confusion matrix: \n",
      " [[155   8]\n",
      " [ 10 127]]\n",
      "______________________________________________\n",
      "Model: Decision Tree\n",
      "Accuracy: 0.94\n",
      "Precision: 0.9407407407407408\n",
      "Recall: 0.927007299270073\n",
      "F1-score: 0.9338235294117647\n",
      "AUC: 0.9389637723344229\n",
      "______________________________________________\n",
      "\n",
      "max depth: 9 \n",
      " confusion matrix: \n",
      " [[155   8]\n",
      " [ 10 127]]\n",
      "______________________________________________\n",
      "Model: Decision Tree\n",
      "Accuracy: 0.94\n",
      "Precision: 0.9407407407407408\n",
      "Recall: 0.927007299270073\n",
      "F1-score: 0.9338235294117647\n",
      "AUC: 0.9389637723344229\n",
      "______________________________________________\n",
      "\n"
     ]
    }
   ],
   "source": [
    "accuracy = []\n",
    "for i in maxDepth:\n",
    "    Q12mod = DecisionTreeClassifier(criterion='entropy', random_state=101, max_depth = i)\n",
    "    Q12mod.fit(xQ12tr, yQ12tr)\n",
    "    yQ12Pred = Q12mod.predict(xQ12te)\n",
    "    confusion_matrix_results = confusion_matrix(yQ12te, yQ12Pred)\n",
    "    print('max depth:', i, '\\n', 'confusion matrix: \\n', confusion_matrix_results)\n",
    "    display_metrics('Decision Tree', yQ12Pred, yQ12te)\n",
    "    acc, precision, recall, f1score, auc = classification_metrics(yQ12Pred, yQ12te)\n",
    "    accuracy.append(acc)"
   ]
  },
  {
   "cell_type": "code",
   "execution_count": 42,
   "id": "6a74cc5e-14c8-4ecc-b1ed-93ae1770d2a0",
   "metadata": {
    "tags": []
   },
   "outputs": [
    {
     "name": "stdout",
     "output_type": "stream",
     "text": [
      "[0.9433333333333334, 0.9433333333333334, 0.94, 0.94, 0.94] \n",
      " Mean Accuracy: 0.9413333333333334\n"
     ]
    }
   ],
   "source": [
    "print(accuracy, '\\n', 'Mean Accuracy:' , np.mean(accuracy))"
   ]
  },
  {
   "cell_type": "code",
   "execution_count": 43,
   "id": "17c02c58-99a2-4905-9997-47222dd0b9d2",
   "metadata": {},
   "outputs": [],
   "source": [
    "# 13. Use the results from the question above. Create a line plot of accuracy of the test set vs. maximum tree depth. \n",
    "# Upload the figure. "
   ]
  },
  {
   "cell_type": "code",
   "execution_count": 44,
   "id": "e54c5a9f-9646-498e-abaa-bf0d843cd697",
   "metadata": {
    "tags": []
   },
   "outputs": [
    {
     "data": {
      "image/png": "[encoded data removed]",
      "text/plain": [
       "<Figure size 640x480 with 1 Axes>"
      ]
     },
     "metadata": {},
     "output_type": "display_data"
    }
   ],
   "source": [
    "sns.lineplot(x = maxDepth, y = accuracy, marker = 'o', markersize = 10, markerfacecolor = 'g')\n",
    "plt.savefig(\"Q13_plot (Lab 4).png\")"
   ]
  },
  {
   "cell_type": "code",
   "execution_count": 45,
   "id": "880afe51-e519-4c32-82f6-e7c50b52243e",
   "metadata": {},
   "outputs": [],
   "source": [
    "# 14. Use the advertising.csv data. Use sklearn. Use Clicked on Ad as the y-variable.\n",
    "\n",
    "# Train 5 random forests with these x-variables: \n",
    "# Age, Daily Time Spent on Site, Area Income, Male, Daily Internet Usage, Country Dummies\n",
    "# Vary the number of trees for random forest (use 10, 100, 250, 500, 750). \n",
    "# Use 30% as test size, random_state=101. \n",
    "\n",
    "# What is the average accuracy for the 5 models for the test set? Round the answer to 2 decimals.\n",
    "\n",
    "# Note: Different versions of Python and sklearn and processors may generate different results. \n",
    "# If you don't get the question right, check you code. If you think your code and answer are correct, submit your answer as is. \n",
    "# I will then grade it manually. "
   ]
  },
  {
   "cell_type": "code",
   "execution_count": 46,
   "id": "1c51aa12-a272-4b61-a20d-7bd27e4709b4",
   "metadata": {
    "tags": []
   },
   "outputs": [],
   "source": [
    "yQ14 = yQ11\n",
    "xQ14 = xQ11\n",
    "\n",
    "numTrees = [10, 100, 250, 500, 750]"
   ]
  },
  {
   "cell_type": "code",
   "execution_count": 47,
   "id": "6c111df2-f0f7-4b14-8697-3670a6ad7f55",
   "metadata": {
    "tags": []
   },
   "outputs": [],
   "source": [
    "xQ14tr, xQ14te, yQ14tr, yQ14te = train_test_split(xQ14, yQ14, test_size=0.30, random_state=101)"
   ]
  },
  {
   "cell_type": "code",
   "execution_count": 48,
   "id": "57c1fd5f-c71b-486d-88d9-b0f97260ed43",
   "metadata": {
    "tags": []
   },
   "outputs": [
    {
     "name": "stdout",
     "output_type": "stream",
     "text": [
      "num trees: 10 \n",
      " confusion matrix: \n",
      " [[158   5]\n",
      " [ 11 126]]\n",
      "______________________________________________\n",
      "Model: Random Forest\n",
      "Accuracy: 0.9466666666666667\n",
      "Precision: 0.9618320610687023\n",
      "Recall: 0.9197080291970803\n",
      "F1-score: 0.9402985074626866\n",
      "AUC: 0.9445165912856567\n",
      "______________________________________________\n",
      "\n",
      "num trees: 100 \n",
      " confusion matrix: \n",
      " [[158   5]\n",
      " [  7 130]]\n",
      "______________________________________________\n",
      "Model: Random Forest\n",
      "Accuracy: 0.96\n",
      "Precision: 0.9629629629629629\n",
      "Recall: 0.948905109489051\n",
      "F1-score: 0.9558823529411765\n",
      "AUC: 0.9591151314316421\n",
      "______________________________________________\n",
      "\n",
      "num trees: 250 \n",
      " confusion matrix: \n",
      " [[157   6]\n",
      " [  7 130]]\n",
      "______________________________________________\n",
      "Model: Random Forest\n",
      "Accuracy: 0.9566666666666667\n",
      "Precision: 0.9558823529411765\n",
      "Recall: 0.948905109489051\n",
      "F1-score: 0.9523809523809523\n",
      "AUC: 0.9560476467690654\n",
      "______________________________________________\n",
      "\n",
      "num trees: 500 \n",
      " confusion matrix: \n",
      " [[156   7]\n",
      " [  7 130]]\n",
      "______________________________________________\n",
      "Model: Random Forest\n",
      "Accuracy: 0.9533333333333334\n",
      "Precision: 0.948905109489051\n",
      "Recall: 0.948905109489051\n",
      "F1-score: 0.948905109489051\n",
      "AUC: 0.9529801621064887\n",
      "______________________________________________\n",
      "\n",
      "num trees: 750 \n",
      " confusion matrix: \n",
      " [[156   7]\n",
      " [  7 130]]\n",
      "______________________________________________\n",
      "Model: Random Forest\n",
      "Accuracy: 0.9533333333333334\n",
      "Precision: 0.948905109489051\n",
      "Recall: 0.948905109489051\n",
      "F1-score: 0.948905109489051\n",
      "AUC: 0.9529801621064887\n",
      "______________________________________________\n",
      "\n"
     ]
    }
   ],
   "source": [
    "accuracy2 = []\n",
    "for i in numTrees:\n",
    "    Q14mod = RandomForestClassifier(n_estimators= i , random_state = 101)\n",
    "    Q14mod.fit(xQ14tr, yQ14tr)\n",
    "    yQ14Pred = Q14mod.predict(xQ14te)\n",
    "    confusion_matrix_results = confusion_matrix(yQ14te, yQ14Pred)\n",
    "    print('num trees:', i, '\\n', 'confusion matrix: \\n', confusion_matrix_results)\n",
    "    display_metrics('Random Forest', yQ14Pred, yQ14te)\n",
    "    acc, precision, recall, f1score, auc = classification_metrics(yQ14Pred, yQ14te)\n",
    "    accuracy2.append(acc)"
   ]
  },
  {
   "cell_type": "code",
   "execution_count": 49,
   "id": "42da4c86-1e0f-4673-ada3-703ad9dba208",
   "metadata": {
    "tags": []
   },
   "outputs": [
    {
     "name": "stdout",
     "output_type": "stream",
     "text": [
      "[0.9466666666666667, 0.96, 0.9566666666666667, 0.9533333333333334, 0.9533333333333334] \n",
      " Mean Accuracy: 0.954\n"
     ]
    }
   ],
   "source": [
    "print(accuracy2, '\\n', 'Mean Accuracy:' , np.mean(accuracy2))"
   ]
  },
  {
   "cell_type": "code",
   "execution_count": 50,
   "id": "3854a8e4-e8c4-4943-b050-f578aa1e6f67",
   "metadata": {},
   "outputs": [],
   "source": [
    "# 15. Use the results from the question above. Create a line plot of accuracy of the test set vs. number of trees. \n",
    "# Upload the figure. "
   ]
  },
  {
   "cell_type": "code",
   "execution_count": 51,
   "id": "b37ea24d-4eb2-418e-987c-20998fcc87d4",
   "metadata": {
    "tags": []
   },
   "outputs": [
    {
     "data": {
      "image/png": "[encoded data removed]",
      "text/plain": [
       "<Figure size 640x480 with 1 Axes>"
      ]
     },
     "metadata": {},
     "output_type": "display_data"
    }
   ],
   "source": [
    "sns.lineplot(x = numTrees, y = accuracy2, marker = 'o', markersize = 10, markerfacecolor = 'g')\n",
    "plt.savefig(\"Q15_plot (Lab 4).png\")"
   ]
  },
  {
   "cell_type": "code",
   "execution_count": 52,
   "id": "6b7ef017-c998-4433-a4df-6e5f40a06182",
   "metadata": {
    "tags": []
   },
   "outputs": [],
   "source": [
    "# 16. Use the advertising.csv data. Use sklearn. Use Clicked on Ad as the y-variable.\n",
    "\n",
    "# Train SVMs with these x-variables: Age, Daily Time Spent on Site, Area Income, Male, Daily Internet Usage, Country Dummies\n",
    "\n",
    "# Vary the parameters C and gamma for the models: \n",
    "\n",
    "# For C: use 1, 5, 10\n",
    "# For gamma: use 0.1, 0.5, 1.0\n",
    "\n",
    "# Train an SVM for each combination of C and gamma. In total, there are 9 SVMs.\n",
    "# Use 30% as test size, random_state=101. \n",
    "\n",
    "# What is the average precision for all models for the test set? Round to 2 decimals.\n",
    "\n",
    "# You may use the code below and fill in the 2 TODO sections (to set up X and y; and to calculate y_pred)\n",
    "\n",
    "# Note: Different versions of Python and sklearn and processors may generate different results. \n",
    "# If you don't get the question right, check you code. If you think your code and answer are correct, submit your answer as is. I will then grade it manually. \n",
    "\n",
    "####################################\n",
    "# TODO: Write code to set up X and y\n",
    "\n",
    " \n",
    "\n",
    "####################################\n",
    "\n",
    "#precisions = []\n",
    "#cs = [1, 5, 10]\n",
    "#gammas = [0.1, 0.5, 1.0]\n",
    "\n",
    "#for i in cs: \n",
    "    \n",
    "#    for j in gammas: \n",
    "        \n",
    "        ####################################\n",
    "        # TODO: Write code to calculate y_pred and metrics\n",
    "\n",
    "\n",
    "        \n",
    "        ####################################\n",
    "\n",
    "#print(precisions)\n",
    "\n",
    "#np.mean(precisions)"
   ]
  },
  {
   "cell_type": "code",
   "execution_count": 53,
   "id": "aa88b8ad-0c68-4bdd-8b90-e0fc1d961828",
   "metadata": {
    "tags": []
   },
   "outputs": [
    {
     "name": "stdout",
     "output_type": "stream",
     "text": [
      "<class 'pandas.core.frame.DataFrame'>\n",
      "RangeIndex: 1000 entries, 0 to 999\n",
      "Data columns (total 31 columns):\n",
      " #   Column                    Non-Null Count  Dtype  \n",
      "---  ------                    --------------  -----  \n",
      " 0   Age                       1000 non-null   int64  \n",
      " 1   Daily Time Spent on Site  1000 non-null   float64\n",
      " 2   Area Income               1000 non-null   float64\n",
      " 3   Male                      1000 non-null   int64  \n",
      " 4   Daily Internet Usage      1000 non-null   float64\n",
      " 5   Argentina                 1000 non-null   int32  \n",
      " 6   Australia                 1000 non-null   int32  \n",
      " 7   Belgium                   1000 non-null   int32  \n",
      " 8   Brazil                    1000 non-null   int32  \n",
      " 9   Canada                    1000 non-null   int32  \n",
      " 10  China                     1000 non-null   int32  \n",
      " 11  Croatia                   1000 non-null   int32  \n",
      " 12  Egypt                     1000 non-null   int32  \n",
      " 13  France                    1000 non-null   int32  \n",
      " 14  Germany                   1000 non-null   int32  \n",
      " 15  Japan                     1000 non-null   int32  \n",
      " 16  Malaysia                  1000 non-null   int32  \n",
      " 17  Mexico                    1000 non-null   int32  \n",
      " 18  Netherlands               1000 non-null   int32  \n",
      " 19  Pakistan                  1000 non-null   int32  \n",
      " 20  Portugal                  1000 non-null   int32  \n",
      " 21  Russia                    1000 non-null   int32  \n",
      " 22  Singapore                 1000 non-null   int32  \n",
      " 23  South Africa              1000 non-null   int32  \n",
      " 24  Spain                     1000 non-null   int32  \n",
      " 25  Thailand                  1000 non-null   int32  \n",
      " 26  Turkey                    1000 non-null   int32  \n",
      " 27  USA                       1000 non-null   int32  \n",
      " 28  Uruguay                   1000 non-null   int32  \n",
      " 29  Vietnam                   1000 non-null   int32  \n",
      " 30  Zimbabwe                  1000 non-null   int32  \n",
      "dtypes: float64(3), int32(26), int64(2)\n",
      "memory usage: 140.8 KB\n"
     ]
    }
   ],
   "source": [
    "yQ16 = yQ11\n",
    "xQ16 = xQ11\n",
    "xQ16.info()"
   ]
  },
  {
   "cell_type": "code",
   "execution_count": 54,
   "id": "3407a4f3-ddc0-486e-9549-74fe95f7f3cc",
   "metadata": {
    "tags": []
   },
   "outputs": [],
   "source": [
    "C = [1, 5 ,10]\n",
    "gamma = [0.1, 0.5, 1.0]"
   ]
  },
  {
   "cell_type": "code",
   "execution_count": 55,
   "id": "dd2d4391-ef75-4442-bcd4-f3ea1f495ac9",
   "metadata": {
    "tags": []
   },
   "outputs": [],
   "source": [
    "xQ16tr, xQ16te, yQ16tr, yQ16te = train_test_split(xQ16, yQ16, test_size=0.30, random_state=101)"
   ]
  },
  {
   "cell_type": "code",
   "execution_count": 56,
   "id": "596055fb-8311-4f4c-a527-d9443feab8ac",
   "metadata": {
    "tags": []
   },
   "outputs": [
    {
     "name": "stdout",
     "output_type": "stream",
     "text": [
      "C: 1 | gamma: 0.1\n",
      "______________________________________________\n",
      "Model: SVM\n",
      "Accuracy: 0.45666666666666667\n",
      "Precision: 0.45666666666666667\n",
      "Recall: 1.0\n",
      "F1-score: 0.6270022883295195\n",
      "AUC: 0.5\n",
      "______________________________________________\n",
      "\n",
      "C: 1 | gamma: 0.5\n",
      "______________________________________________\n",
      "Model: SVM\n",
      "Accuracy: 0.45666666666666667\n",
      "Precision: 0.45666666666666667\n",
      "Recall: 1.0\n",
      "F1-score: 0.6270022883295195\n",
      "AUC: 0.5\n",
      "______________________________________________\n",
      "\n",
      "C: 1 | gamma: 1.0\n",
      "______________________________________________\n",
      "Model: SVM\n",
      "Accuracy: 0.45666666666666667\n",
      "Precision: 0.45666666666666667\n",
      "Recall: 1.0\n",
      "F1-score: 0.6270022883295195\n",
      "AUC: 0.5\n",
      "______________________________________________\n",
      "\n",
      "C: 5 | gamma: 0.1\n",
      "______________________________________________\n",
      "Model: SVM\n",
      "Accuracy: 0.45666666666666667\n",
      "Precision: 0.45666666666666667\n",
      "Recall: 1.0\n",
      "F1-score: 0.6270022883295195\n",
      "AUC: 0.5\n",
      "______________________________________________\n",
      "\n",
      "C: 5 | gamma: 0.5\n",
      "______________________________________________\n",
      "Model: SVM\n",
      "Accuracy: 0.45666666666666667\n",
      "Precision: 0.45666666666666667\n",
      "Recall: 1.0\n",
      "F1-score: 0.6270022883295195\n",
      "AUC: 0.5\n",
      "______________________________________________\n",
      "\n",
      "C: 5 | gamma: 1.0\n",
      "______________________________________________\n",
      "Model: SVM\n",
      "Accuracy: 0.45666666666666667\n",
      "Precision: 0.45666666666666667\n",
      "Recall: 1.0\n",
      "F1-score: 0.6270022883295195\n",
      "AUC: 0.5\n",
      "______________________________________________\n",
      "\n",
      "C: 10 | gamma: 0.1\n",
      "______________________________________________\n",
      "Model: SVM\n",
      "Accuracy: 0.45666666666666667\n",
      "Precision: 0.45666666666666667\n",
      "Recall: 1.0\n",
      "F1-score: 0.6270022883295195\n",
      "AUC: 0.5\n",
      "______________________________________________\n",
      "\n",
      "C: 10 | gamma: 0.5\n",
      "______________________________________________\n",
      "Model: SVM\n",
      "Accuracy: 0.45666666666666667\n",
      "Precision: 0.45666666666666667\n",
      "Recall: 1.0\n",
      "F1-score: 0.6270022883295195\n",
      "AUC: 0.5\n",
      "______________________________________________\n",
      "\n",
      "C: 10 | gamma: 1.0\n",
      "______________________________________________\n",
      "Model: SVM\n",
      "Accuracy: 0.45666666666666667\n",
      "Precision: 0.45666666666666667\n",
      "Recall: 1.0\n",
      "F1-score: 0.6270022883295195\n",
      "AUC: 0.5\n",
      "______________________________________________\n",
      "\n"
     ]
    }
   ],
   "source": [
    "precisions = []\n",
    "for i in C:\n",
    "    for j in gamma:\n",
    "        Q16mod = SVC(C = i, gamma = j, random_state = 101)\n",
    "        Q16mod.fit(xQ16tr, yQ16tr)\n",
    "        yQ16Pred = Q16mod.predict(xQ16te)\n",
    "        print('C:', i, '|', 'gamma:', j)\n",
    "        display_metrics('SVM', yQ16Pred, yQ16te)\n",
    "        acc, precision, recall, f1score, auc = classification_metrics(yQ16Pred, yQ16te)\n",
    "        precisions.append(precision)"
   ]
  },
  {
   "cell_type": "code",
   "execution_count": 57,
   "id": "dde3c4cb-f779-4658-994e-12499c40d52d",
   "metadata": {
    "tags": []
   },
   "outputs": [
    {
     "data": {
      "text/plain": [
       "[0.45666666666666667,\n",
       " 0.45666666666666667,\n",
       " 0.45666666666666667,\n",
       " 0.45666666666666667,\n",
       " 0.45666666666666667,\n",
       " 0.45666666666666667,\n",
       " 0.45666666666666667,\n",
       " 0.45666666666666667,\n",
       " 0.45666666666666667]"
      ]
     },
     "execution_count": 57,
     "metadata": {},
     "output_type": "execute_result"
    }
   ],
   "source": [
    "precisions"
   ]
  },
  {
   "cell_type": "code",
   "execution_count": 58,
   "id": "c3c13b60-1076-4809-9dbb-925c7e150c21",
   "metadata": {
    "tags": []
   },
   "outputs": [
    {
     "data": {
      "text/plain": [
       "0.4566666666666667"
      ]
     },
     "execution_count": 58,
     "metadata": {},
     "output_type": "execute_result"
    }
   ],
   "source": [
    "np.mean(precisions)"
   ]
  }
 ],
 "metadata": {
  "kernelspec": {
   "display_name": "Python 3 (ipykernel)",
   "language": "python",
   "name": "python3"
  },
  "language_info": {
   "codemirror_mode": {
    "name": "ipython",
    "version": 3
   },
   "file_extension": ".py",
   "mimetype": "text/x-python",
   "name": "python",
   "nbconvert_exporter": "python",
   "pygments_lexer": "ipython3",
   "version": "3.11.4"
  }
 },
 "nbformat": 4,
 "nbformat_minor": 5
}
